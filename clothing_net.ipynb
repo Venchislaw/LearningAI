{
 "cells": [
  {
   "cell_type": "markdown",
   "metadata": {},
   "source": [
    "as\n",
    "a\n",
    "s\n",
    "A"
   ]
  },
  {
   "cell_type": "code",
   "execution_count": null,
   "metadata": {},
   "outputs": [],
   "source": [
    "import numpy as np\n",
    "import pandas as pd\n",
    "import matplotlib.pyplot as plt"
   ]
  },
  {
   "cell_type": "code",
   "execution_count": null,
   "metadata": {},
   "outputs": [],
   "source": [
    "df = pd.read_csv(\"fashion-mnist_train.csv\")\n",
    "df.head()"
   ]
  },
  {
   "cell_type": "code",
   "execution_count": null,
   "metadata": {},
   "outputs": [],
   "source": [
    "plt.imshow(np.array(df.iloc[0, 1:]).reshape(28, 28), cmap=\"gray\");"
   ]
  },
  {
   "cell_type": "code",
   "execution_count": null,
   "metadata": {},
   "outputs": [],
   "source": [
    "df = np.array(df)\n",
    "m, n = df.shape\n",
    "np.random.shuffle(df)\n",
    "df.shape"
   ]
  },
  {
   "cell_type": "code",
   "execution_count": null,
   "metadata": {},
   "outputs": [],
   "source": [
    "X = df[:, 1:]\n",
    "X = X.T // 255.\n",
    "y = df[:, 0]\n",
    "\n",
    "X_train, X_test = X[:, :50_000], X[:, 50_000:]\n",
    "y_train, y_test = y[:50_000], y[50_000:]\n",
    "\n",
    "print(X_train.shape, X_test.shape)\n",
    "print(y_train.shape, y_test.shape)"
   ]
  },
  {
   "cell_type": "code",
   "execution_count": null,
   "metadata": {},
   "outputs": [],
   "source": [
    "def init_params():\n",
    "    W1 = np.random.rand(40, 784) - 0.5\n",
    "    b1 = np.random.rand(40, 1) - 0.5\n",
    "    W2 = np.random.rand(10, 40) - 0.5\n",
    "    b2 = np.random.rand(10, 1) - 0.5\n",
    "    W3 = np.random.rand(10, 10) - 0.5\n",
    "    b3 = np.random.rand(10, 1) - 0.5\n",
    "\n",
    "    return W1, b1, W2, b2, W3, b3\n",
    "\n",
    "def ReLU(Z):\n",
    "    return np.maximum(Z, 0)\n",
    "\n",
    "def softmax(Z):\n",
    "    return np.exp(Z) / sum(np.exp(Z))\n",
    "\n",
    "def forward_prop(W1, b1, W2, b2, W3, b3, X):\n",
    "    Z1 = W1.dot(X)\n",
    "    A1 = ReLU(Z1)\n",
    "    Z2 = W2.dot(A1)\n",
    "    A2 = ReLU(Z2)\n",
    "    Z3 = W3.dot(A2)\n",
    "    A3 = softmax(Z3)\n",
    "\n",
    "    return Z1, A1, Z2, A2, Z3, A3\n",
    "\n",
    "\n",
    "def one_hot_encode(y):\n",
    "    Y = np.zeros((y.size, y.max() + 1))\n",
    "    Y[np.arange(y.size), y]\n",
    "\n",
    "    return Y.T\n",
    "\n",
    "\n",
    "def der_relu(Z):\n",
    "    return Z > 0\n",
    "\n",
    "\n",
    "def back_prop(Z1, A1, Z2, A2, Z3, A3, W2, W3, X, y):\n",
    "    Y = one_hot_encode(y)\n",
    "    dZ3 = A3 - Y\n",
    "    dW3 = 1 / m * dZ3.dot(A2.T)\n",
    "    db3 = 1 / m * np.sum(dZ3)\n",
    "\n",
    "    dZ2 = der_relu(Z2) * W3.T.dot(dZ3)\n",
    "    dW2 = 1 / m * dZ2.dot(A1.T)\n",
    "    db2 = 1 / m * np.sum(dZ2)\n",
    "\n",
    "    dZ1 = der_relu(Z1) * W2.T.dot(dZ2)\n",
    "    dW1 = 1 / m * dZ1.dot(X.T)\n",
    "    db1 = 1 / m * np.sum(dZ1)\n",
    "\n",
    "    return dW1, db1, dW2, db2, dW3, db3\n",
    "\n",
    "\n",
    "def update_params(W1, b1, W2, b2, W3, b3, dW1, db1, dW2, db2, dW3, db3, alpha):\n",
    "    W1 = W1 - alpha * dW1\n",
    "    b1 = b1 - alpha * db1\n",
    "    W2 = W2 - alpha * dW2\n",
    "    b2 = b2 - alpha * db2\n",
    "    W3 = W3 - alpha * dW3\n",
    "    b3 = b3 - alpha * db3\n",
    "\n",
    "    return W1, b1, W2, b2, W3, b3\n",
    "\n",
    "\n",
    "def pred(A3):\n",
    "    return np.argmax(A3, 0)\n",
    "\n",
    "def accuracy(pred, y):\n",
    "    return np.sum(pred == y) / y.size\n",
    "\n",
    "def gradient_descent(X, y, iters=500, alpha=0.1, dropout=0.0):\n",
    "    keep_prob = 1 - dropout\n",
    "    W1, b1, W2, b2, W3, b3 = init_params()\n",
    "\n",
    "    for i in range(iters):\n",
    "        Z1, A1, Z2, A2, Z3, A3 = forward_prop(W1, b1, W2, b2, W3, b3, X)\n",
    "        # as\n",
    "        dropouty = np.random.rand(A3.shape[0], A3.shape[1]) < keep_prob\n",
    "        A3 = np.multiply(A3, dropouty)\n",
    "        A3 /= keep_prob\n",
    "        dW1, db1, dW2, db2, dW3, db3 = back_prop(Z1, A1, Z2, A2, Z3, A3, W2, W3, X, y)\n",
    "        W1, b1, W2, b2, W3, b3 = update_params(W1, b1, W2, b2, W3, b3, dW1, db1, dW2, db2, dW3, db3, alpha)\n",
    "\n",
    "        if i % 10 == 0:\n",
    "            prediction = pred(A3)\n",
    "            print(f\"Iter: {i}: {accuracy(prediction, y)}\")\n",
    "\n",
    "    return W1, b1, W2, b2, W3, b3\n",
    "\n"
   ]
  },
  {
   "cell_type": "code",
   "execution_count": null,
   "metadata": {},
   "outputs": [],
   "source": [
    "W1, b1, W2, b2, W3, b3 = gradient_descent(X_train, y_train, dropout=0.2)"
   ]
  },
  {
   "cell_type": "code",
   "execution_count": null,
   "metadata": {},
   "outputs": [],
   "source": []
  }
 ],
 "metadata": {
  "kernelspec": {
   "display_name": "Python 3",
   "language": "python",
   "name": "python3"
  },
  "language_info": {
   "codemirror_mode": {
    "name": "ipython",
    "version": 3
   },
   "file_extension": ".py",
   "mimetype": "text/x-python",
   "name": "python",
   "nbconvert_exporter": "python",
   "pygments_lexer": "ipython3",
   "version": "3.12.3"
  }
 },
 "nbformat": 4,
 "nbformat_minor": 2
}
