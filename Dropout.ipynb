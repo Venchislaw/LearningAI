{
  "nbformat": 4,
  "nbformat_minor": 0,
  "metadata": {
    "colab": {
      "provenance": []
    },
    "kernelspec": {
      "name": "python3",
      "display_name": "Python 3"
    },
    "language_info": {
      "name": "python"
    }
  },
  "cells": [
    {
      "cell_type": "markdown",
      "source": [
        "Implementation of dropout regurlarization.<br>\n",
        "I finally have time for coding!<br>"
      ],
      "metadata": {
        "id": "-QltPLOYGyP1"
      }
    },
    {
      "cell_type": "code",
      "execution_count": 2,
      "metadata": {
        "id": "Mhxs-xqnGtKi"
      },
      "outputs": [],
      "source": [
        "import numpy as np"
      ]
    },
    {
      "cell_type": "code",
      "source": [
        "keep_prob = 0.7\n",
        "\n",
        "# a3 is gonna be activated output of last neuron\n",
        "dropouts = np.random.rand(a3.shape[0], a3.shape)\n",
        "\n",
        "a3 = np.multiply(a3, dropouts)\n",
        "a3 /= keep_prob"
      ],
      "metadata": {
        "id": "c-scuoIOHCzU"
      },
      "execution_count": null,
      "outputs": []
    }
  ]
}