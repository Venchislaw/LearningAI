{
 "cells": [
  {
   "cell_type": "code",
   "execution_count": 1,
   "metadata": {},
   "outputs": [],
   "source": [
    "import numpy as np\n",
    "import matplotlib.pyplot as plt"
   ]
  },
  {
   "cell_type": "markdown",
   "metadata": {},
   "source": [
    "Ohayo! I'm studying ML for a while and recently decided to Learn Deep Learning!<br>\n",
    "I tried DL Specialization, but first 2 courses didn't really impress me (probably cuz I already know most of the stuff there).<br>\n",
    "So that's why I decided to read:<br>\n",
    "# **Neural Networks from Scratch**\n",
    "<img src=\"https://i.gr-assets.com/images/S/compressed.photo.goodreads.com/books/1605802079l/55927899.jpg\" width=10%><br>\n",
    "\n",
    "By: <br>\n",
    "Harrison Kinsley\n",
    "aka\n",
    "Sentdex<br>\n",
    "\n",
    "<img src=\"https://encrypted-tbn0.gstatic.com/images?q=tbn:ANd9GcSpgUcgi-2DcphvE6NDARjeaXeC2ZuIFduYyw&s\" width=10%><br>\n",
    "\n",
    "At least it contains code examples"
   ]
  },
  {
   "cell_type": "code",
   "execution_count": 2,
   "metadata": {},
   "outputs": [
    {
     "name": "stdout",
     "output_type": "stream",
     "text": [
      "30\n"
     ]
    }
   ],
   "source": [
    "# single neuron without numpy\n",
    "\n",
    "inputs = [1, 2, 3]\n",
    "weights = [2, 4, 6]\n",
    "bias = 2\n",
    "\n",
    "output = 0\n",
    "\n",
    "assert(len(inputs) == len(weights))\n",
    "\n",
    "for i in range(len(inputs)):\n",
    "    output += weights[i] * inputs[i]\n",
    "\n",
    "output += bias\n",
    "print(output)"
   ]
  },
  {
   "cell_type": "markdown",
   "metadata": {},
   "source": [
    "Nice... But it's just a single neuron<br>\n",
    "Let's have a layer!"
   ]
  },
  {
   "cell_type": "code",
   "execution_count": 36,
   "metadata": {},
   "outputs": [
    {
     "name": "stdout",
     "output_type": "stream",
     "text": [
      "[21, 28, 35]\n"
     ]
    }
   ],
   "source": [
    "inputs = [1, 2, 3]\n",
    "\n",
    "weights = [\n",
    "    [2, 3, 4],\n",
    "    [3, 4, 5],\n",
    "    [4, 5, 6]\n",
    "]\n",
    "\n",
    "bias = [1, 2, 3]\n",
    "\n",
    "\n",
    "output = [0, 0, 0]\n",
    "\n",
    "for i in range(3):\n",
    "    for j in range(len(inputs)):\n",
    "        output[i] += weights[i][j] * inputs[j]\n",
    "    output[i] += bias[i]\n",
    "    \n",
    "\n",
    "print(output)"
   ]
  }
 ],
 "metadata": {
  "kernelspec": {
   "display_name": "Python 3",
   "language": "python",
   "name": "python3"
  },
  "language_info": {
   "codemirror_mode": {
    "name": "ipython",
    "version": 3
   },
   "file_extension": ".py",
   "mimetype": "text/x-python",
   "name": "python",
   "nbconvert_exporter": "python",
   "pygments_lexer": "ipython3",
   "version": "3.12.3"
  }
 },
 "nbformat": 4,
 "nbformat_minor": 2
}
