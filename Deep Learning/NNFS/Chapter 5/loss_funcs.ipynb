{
 "cells": [
  {
   "cell_type": "code",
   "execution_count": 4,
   "metadata": {},
   "outputs": [],
   "source": [
    "import numpy as np\n",
    "import math"
   ]
  },
  {
   "cell_type": "code",
   "execution_count": 2,
   "metadata": {},
   "outputs": [
    {
     "name": "stdout",
     "output_type": "stream",
     "text": [
      "0.35667494393873245\n"
     ]
    }
   ],
   "source": [
    "probs = [0.7, 0.1, 0.2]\n",
    "true = [1, 0, 0]\n",
    "\n",
    "loss = 0\n",
    "for proba, true_ in zip(probs, true):\n",
    "    loss -= math.log(proba) * true_\n",
    "\n",
    "print(loss)"
   ]
  },
  {
   "cell_type": "markdown",
   "metadata": {},
   "source": [
    "$$L = -\\sum y_{i, j} log(\\hat y_{i, j})$$"
   ]
  },
  {
   "cell_type": "markdown",
   "metadata": {},
   "source": [
    "But that simplifies to:\n",
    "\n",
    "$$L = -log(\\hat y_{i, k})$$\n",
    "where k stands for index of true label"
   ]
  },
  {
   "cell_type": "code",
   "execution_count": 3,
   "metadata": {},
   "outputs": [
    {
     "name": "stdout",
     "output_type": "stream",
     "text": [
      "0.35667494393873245\n"
     ]
    }
   ],
   "source": [
    "loss = -math.log(probs[0])\n",
    "print(loss)"
   ]
  },
  {
   "cell_type": "markdown",
   "metadata": {},
   "source": [
    "Log Loss on Batch of samples.<br>\n",
    "Imagine we're trying to classify 3 classes:\n",
    "<br>\n",
    "dog, cat, human where:<br>\n",
    "dog - 0<br>\n",
    "cat - 1<br>\n",
    "human - 2<br>"
   ]
  },
  {
   "cell_type": "code",
   "execution_count": 11,
   "metadata": {},
   "outputs": [
    {
     "name": "stdout",
     "output_type": "stream",
     "text": [
      "0.38506088005216804\n"
     ]
    }
   ],
   "source": [
    "probas = np.array([\n",
    "    [0.7, 0.1, 0.2],\n",
    "    [0.1, 0.5, 0.4],\n",
    "    [0.02, 0.9, 0.08]\n",
    "])\n",
    "\n",
    "true = [0, 1, 1]  # dog, cat, cat\n",
    "\n",
    "probabilities = probas[range(len(probas)), true]\n",
    "result = - np.log(probabilities)\n",
    "result = result.mean()\n",
    "\n",
    "print(result)"
   ]
  },
  {
   "cell_type": "markdown",
   "metadata": {},
   "source": [
    "But in our code it works only for sparse labels encoding not OHE.<br>\n",
    "\n",
    "Difference:<br>\n",
    "sparse: [1, 0, 2, 0, 1]\n",
    "<br>\n",
    "one-hot-encoded:\n",
    "<br>\n",
    "[0, 1, 0]<br>\n",
    "[1, 0, 0]<br>\n",
    "[0, 0, 1]<br>\n",
    "[1, 0, 0]<br>\n",
    "[0, 1, 1]<br>\n",
    "We can check difference with shapes:<br>\n",
    "1d - sparse; 2d- one-hot-encoded"
   ]
  },
  {
   "cell_type": "code",
   "execution_count": 22,
   "metadata": {},
   "outputs": [
    {
     "name": "stdout",
     "output_type": "stream",
     "text": [
      "0.38506088005216804\n"
     ]
    }
   ],
   "source": [
    "probas = np.array([\n",
    "    [0.7, 0.1, 0.2],\n",
    "    [0.1, 0.5, 0.4],\n",
    "    [0.02, 0.9, 0.08]\n",
    "])\n",
    "\n",
    "true = np.array([[1, 0, 0],\n",
    "                 [0, 1, 0],\n",
    "                 [0, 1, 0]])  # dog, cat, cat\n",
    "\n",
    "# sparse\n",
    "if len(true.shape) == 1:\n",
    "    probabilities = probas[range(len(probas)), true]\n",
    "    result = - np.log(probabilities)\n",
    "    result = result.mean()\n",
    "# ohe\n",
    "else:\n",
    "    probabilities = np.sum(probas * true, axis=1)\n",
    "    result = - np.log(probabilities)\n",
    "    result = result.mean()\n",
    "\n",
    "print(result)"
   ]
  },
  {
   "cell_type": "code",
   "execution_count": null,
   "metadata": {},
   "outputs": [],
   "source": []
  }
 ],
 "metadata": {
  "kernelspec": {
   "display_name": "Python 3",
   "language": "python",
   "name": "python3"
  },
  "language_info": {
   "codemirror_mode": {
    "name": "ipython",
    "version": 3
   },
   "file_extension": ".py",
   "mimetype": "text/x-python",
   "name": "python",
   "nbconvert_exporter": "python",
   "pygments_lexer": "ipython3",
   "version": "3.12.3"
  }
 },
 "nbformat": 4,
 "nbformat_minor": 2
}
