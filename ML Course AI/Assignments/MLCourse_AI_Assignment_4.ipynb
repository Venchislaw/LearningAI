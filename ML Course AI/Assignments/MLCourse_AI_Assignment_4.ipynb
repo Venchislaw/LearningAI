{
  "nbformat": 4,
  "nbformat_minor": 0,
  "metadata": {
    "colab": {
      "provenance": []
    },
    "kernelspec": {
      "name": "python3",
      "display_name": "Python 3"
    },
    "language_info": {
      "name": "python"
    }
  },
  "cells": [
    {
      "cell_type": "code",
      "execution_count": 81,
      "metadata": {
        "id": "Mw2zLqXW-EmT"
      },
      "outputs": [],
      "source": [
        "import warnings\n",
        "warnings.filterwarnings(\"ignore\")\n",
        "\n",
        "import numpy as np\n",
        "import pandas as pd\n",
        "from sklearn.ensemble import RandomForestRegressor\n",
        "from sklearn.linear_model import Lasso, LassoCV, LinearRegression\n",
        "from sklearn.metrics import mean_squared_error\n",
        "from sklearn.model_selection import (GridSearchCV, cross_val_score,\n",
        "                                     train_test_split)\n",
        "from sklearn.preprocessing import StandardScaler"
      ]
    },
    {
      "cell_type": "code",
      "source": [
        "# for Jupyter-book, we copy data from GitHub, locally, to save Internet traffic,\n",
        "# you can specify the data/ folder from the root of your cloned\n",
        "# https://github.com/Yorko/mlcourse.ai repo, to save Internet traffic\n",
        "DATA_PATH = \"https://raw.githubusercontent.com/Yorko/mlcourse.ai/main/data/\""
      ],
      "metadata": {
        "id": "icw25WA4-P7z"
      },
      "execution_count": 82,
      "outputs": []
    },
    {
      "cell_type": "code",
      "source": [
        "data = pd.read_csv(DATA_PATH + \"winequality-white.csv\", sep=\";\")"
      ],
      "metadata": {
        "id": "-7EJubWR-Qop"
      },
      "execution_count": 83,
      "outputs": []
    },
    {
      "cell_type": "code",
      "source": [
        "data.head()"
      ],
      "metadata": {
        "colab": {
          "base_uri": "https://localhost:8080/",
          "height": 206
        },
        "id": "U3e_hwBx-RWB",
        "outputId": "39cef670-b6c1-41a0-ec03-fa8ed500d3db"
      },
      "execution_count": 84,
      "outputs": [
        {
          "output_type": "execute_result",
          "data": {
            "text/plain": [
              "   fixed acidity  volatile acidity  citric acid  residual sugar  chlorides  \\\n",
              "0            7.0              0.27         0.36            20.7      0.045   \n",
              "1            6.3              0.30         0.34             1.6      0.049   \n",
              "2            8.1              0.28         0.40             6.9      0.050   \n",
              "3            7.2              0.23         0.32             8.5      0.058   \n",
              "4            7.2              0.23         0.32             8.5      0.058   \n",
              "\n",
              "   free sulfur dioxide  total sulfur dioxide  density    pH  sulphates  \\\n",
              "0                 45.0                 170.0   1.0010  3.00       0.45   \n",
              "1                 14.0                 132.0   0.9940  3.30       0.49   \n",
              "2                 30.0                  97.0   0.9951  3.26       0.44   \n",
              "3                 47.0                 186.0   0.9956  3.19       0.40   \n",
              "4                 47.0                 186.0   0.9956  3.19       0.40   \n",
              "\n",
              "   alcohol  quality  \n",
              "0      8.8        6  \n",
              "1      9.5        6  \n",
              "2     10.1        6  \n",
              "3      9.9        6  \n",
              "4      9.9        6  "
            ],
            "text/html": [
              "\n",
              "  <div id=\"df-2de725cc-2b12-49b1-93f9-6bbe9ba0b0b6\" class=\"colab-df-container\">\n",
              "    <div>\n",
              "<style scoped>\n",
              "    .dataframe tbody tr th:only-of-type {\n",
              "        vertical-align: middle;\n",
              "    }\n",
              "\n",
              "    .dataframe tbody tr th {\n",
              "        vertical-align: top;\n",
              "    }\n",
              "\n",
              "    .dataframe thead th {\n",
              "        text-align: right;\n",
              "    }\n",
              "</style>\n",
              "<table border=\"1\" class=\"dataframe\">\n",
              "  <thead>\n",
              "    <tr style=\"text-align: right;\">\n",
              "      <th></th>\n",
              "      <th>fixed acidity</th>\n",
              "      <th>volatile acidity</th>\n",
              "      <th>citric acid</th>\n",
              "      <th>residual sugar</th>\n",
              "      <th>chlorides</th>\n",
              "      <th>free sulfur dioxide</th>\n",
              "      <th>total sulfur dioxide</th>\n",
              "      <th>density</th>\n",
              "      <th>pH</th>\n",
              "      <th>sulphates</th>\n",
              "      <th>alcohol</th>\n",
              "      <th>quality</th>\n",
              "    </tr>\n",
              "  </thead>\n",
              "  <tbody>\n",
              "    <tr>\n",
              "      <th>0</th>\n",
              "      <td>7.0</td>\n",
              "      <td>0.27</td>\n",
              "      <td>0.36</td>\n",
              "      <td>20.7</td>\n",
              "      <td>0.045</td>\n",
              "      <td>45.0</td>\n",
              "      <td>170.0</td>\n",
              "      <td>1.0010</td>\n",
              "      <td>3.00</td>\n",
              "      <td>0.45</td>\n",
              "      <td>8.8</td>\n",
              "      <td>6</td>\n",
              "    </tr>\n",
              "    <tr>\n",
              "      <th>1</th>\n",
              "      <td>6.3</td>\n",
              "      <td>0.30</td>\n",
              "      <td>0.34</td>\n",
              "      <td>1.6</td>\n",
              "      <td>0.049</td>\n",
              "      <td>14.0</td>\n",
              "      <td>132.0</td>\n",
              "      <td>0.9940</td>\n",
              "      <td>3.30</td>\n",
              "      <td>0.49</td>\n",
              "      <td>9.5</td>\n",
              "      <td>6</td>\n",
              "    </tr>\n",
              "    <tr>\n",
              "      <th>2</th>\n",
              "      <td>8.1</td>\n",
              "      <td>0.28</td>\n",
              "      <td>0.40</td>\n",
              "      <td>6.9</td>\n",
              "      <td>0.050</td>\n",
              "      <td>30.0</td>\n",
              "      <td>97.0</td>\n",
              "      <td>0.9951</td>\n",
              "      <td>3.26</td>\n",
              "      <td>0.44</td>\n",
              "      <td>10.1</td>\n",
              "      <td>6</td>\n",
              "    </tr>\n",
              "    <tr>\n",
              "      <th>3</th>\n",
              "      <td>7.2</td>\n",
              "      <td>0.23</td>\n",
              "      <td>0.32</td>\n",
              "      <td>8.5</td>\n",
              "      <td>0.058</td>\n",
              "      <td>47.0</td>\n",
              "      <td>186.0</td>\n",
              "      <td>0.9956</td>\n",
              "      <td>3.19</td>\n",
              "      <td>0.40</td>\n",
              "      <td>9.9</td>\n",
              "      <td>6</td>\n",
              "    </tr>\n",
              "    <tr>\n",
              "      <th>4</th>\n",
              "      <td>7.2</td>\n",
              "      <td>0.23</td>\n",
              "      <td>0.32</td>\n",
              "      <td>8.5</td>\n",
              "      <td>0.058</td>\n",
              "      <td>47.0</td>\n",
              "      <td>186.0</td>\n",
              "      <td>0.9956</td>\n",
              "      <td>3.19</td>\n",
              "      <td>0.40</td>\n",
              "      <td>9.9</td>\n",
              "      <td>6</td>\n",
              "    </tr>\n",
              "  </tbody>\n",
              "</table>\n",
              "</div>\n",
              "    <div class=\"colab-df-buttons\">\n",
              "\n",
              "  <div class=\"colab-df-container\">\n",
              "    <button class=\"colab-df-convert\" onclick=\"convertToInteractive('df-2de725cc-2b12-49b1-93f9-6bbe9ba0b0b6')\"\n",
              "            title=\"Convert this dataframe to an interactive table.\"\n",
              "            style=\"display:none;\">\n",
              "\n",
              "  <svg xmlns=\"http://www.w3.org/2000/svg\" height=\"24px\" viewBox=\"0 -960 960 960\">\n",
              "    <path d=\"M120-120v-720h720v720H120Zm60-500h600v-160H180v160Zm220 220h160v-160H400v160Zm0 220h160v-160H400v160ZM180-400h160v-160H180v160Zm440 0h160v-160H620v160ZM180-180h160v-160H180v160Zm440 0h160v-160H620v160Z\"/>\n",
              "  </svg>\n",
              "    </button>\n",
              "\n",
              "  <style>\n",
              "    .colab-df-container {\n",
              "      display:flex;\n",
              "      gap: 12px;\n",
              "    }\n",
              "\n",
              "    .colab-df-convert {\n",
              "      background-color: #E8F0FE;\n",
              "      border: none;\n",
              "      border-radius: 50%;\n",
              "      cursor: pointer;\n",
              "      display: none;\n",
              "      fill: #1967D2;\n",
              "      height: 32px;\n",
              "      padding: 0 0 0 0;\n",
              "      width: 32px;\n",
              "    }\n",
              "\n",
              "    .colab-df-convert:hover {\n",
              "      background-color: #E2EBFA;\n",
              "      box-shadow: 0px 1px 2px rgba(60, 64, 67, 0.3), 0px 1px 3px 1px rgba(60, 64, 67, 0.15);\n",
              "      fill: #174EA6;\n",
              "    }\n",
              "\n",
              "    .colab-df-buttons div {\n",
              "      margin-bottom: 4px;\n",
              "    }\n",
              "\n",
              "    [theme=dark] .colab-df-convert {\n",
              "      background-color: #3B4455;\n",
              "      fill: #D2E3FC;\n",
              "    }\n",
              "\n",
              "    [theme=dark] .colab-df-convert:hover {\n",
              "      background-color: #434B5C;\n",
              "      box-shadow: 0px 1px 3px 1px rgba(0, 0, 0, 0.15);\n",
              "      filter: drop-shadow(0px 1px 2px rgba(0, 0, 0, 0.3));\n",
              "      fill: #FFFFFF;\n",
              "    }\n",
              "  </style>\n",
              "\n",
              "    <script>\n",
              "      const buttonEl =\n",
              "        document.querySelector('#df-2de725cc-2b12-49b1-93f9-6bbe9ba0b0b6 button.colab-df-convert');\n",
              "      buttonEl.style.display =\n",
              "        google.colab.kernel.accessAllowed ? 'block' : 'none';\n",
              "\n",
              "      async function convertToInteractive(key) {\n",
              "        const element = document.querySelector('#df-2de725cc-2b12-49b1-93f9-6bbe9ba0b0b6');\n",
              "        const dataTable =\n",
              "          await google.colab.kernel.invokeFunction('convertToInteractive',\n",
              "                                                    [key], {});\n",
              "        if (!dataTable) return;\n",
              "\n",
              "        const docLinkHtml = 'Like what you see? Visit the ' +\n",
              "          '<a target=\"_blank\" href=https://colab.research.google.com/notebooks/data_table.ipynb>data table notebook</a>'\n",
              "          + ' to learn more about interactive tables.';\n",
              "        element.innerHTML = '';\n",
              "        dataTable['output_type'] = 'display_data';\n",
              "        await google.colab.output.renderOutput(dataTable, element);\n",
              "        const docLink = document.createElement('div');\n",
              "        docLink.innerHTML = docLinkHtml;\n",
              "        element.appendChild(docLink);\n",
              "      }\n",
              "    </script>\n",
              "  </div>\n",
              "\n",
              "\n",
              "<div id=\"df-310593b9-8784-4b4e-99ea-ad2582b7c562\">\n",
              "  <button class=\"colab-df-quickchart\" onclick=\"quickchart('df-310593b9-8784-4b4e-99ea-ad2582b7c562')\"\n",
              "            title=\"Suggest charts\"\n",
              "            style=\"display:none;\">\n",
              "\n",
              "<svg xmlns=\"http://www.w3.org/2000/svg\" height=\"24px\"viewBox=\"0 0 24 24\"\n",
              "     width=\"24px\">\n",
              "    <g>\n",
              "        <path d=\"M19 3H5c-1.1 0-2 .9-2 2v14c0 1.1.9 2 2 2h14c1.1 0 2-.9 2-2V5c0-1.1-.9-2-2-2zM9 17H7v-7h2v7zm4 0h-2V7h2v10zm4 0h-2v-4h2v4z\"/>\n",
              "    </g>\n",
              "</svg>\n",
              "  </button>\n",
              "\n",
              "<style>\n",
              "  .colab-df-quickchart {\n",
              "      --bg-color: #E8F0FE;\n",
              "      --fill-color: #1967D2;\n",
              "      --hover-bg-color: #E2EBFA;\n",
              "      --hover-fill-color: #174EA6;\n",
              "      --disabled-fill-color: #AAA;\n",
              "      --disabled-bg-color: #DDD;\n",
              "  }\n",
              "\n",
              "  [theme=dark] .colab-df-quickchart {\n",
              "      --bg-color: #3B4455;\n",
              "      --fill-color: #D2E3FC;\n",
              "      --hover-bg-color: #434B5C;\n",
              "      --hover-fill-color: #FFFFFF;\n",
              "      --disabled-bg-color: #3B4455;\n",
              "      --disabled-fill-color: #666;\n",
              "  }\n",
              "\n",
              "  .colab-df-quickchart {\n",
              "    background-color: var(--bg-color);\n",
              "    border: none;\n",
              "    border-radius: 50%;\n",
              "    cursor: pointer;\n",
              "    display: none;\n",
              "    fill: var(--fill-color);\n",
              "    height: 32px;\n",
              "    padding: 0;\n",
              "    width: 32px;\n",
              "  }\n",
              "\n",
              "  .colab-df-quickchart:hover {\n",
              "    background-color: var(--hover-bg-color);\n",
              "    box-shadow: 0 1px 2px rgba(60, 64, 67, 0.3), 0 1px 3px 1px rgba(60, 64, 67, 0.15);\n",
              "    fill: var(--button-hover-fill-color);\n",
              "  }\n",
              "\n",
              "  .colab-df-quickchart-complete:disabled,\n",
              "  .colab-df-quickchart-complete:disabled:hover {\n",
              "    background-color: var(--disabled-bg-color);\n",
              "    fill: var(--disabled-fill-color);\n",
              "    box-shadow: none;\n",
              "  }\n",
              "\n",
              "  .colab-df-spinner {\n",
              "    border: 2px solid var(--fill-color);\n",
              "    border-color: transparent;\n",
              "    border-bottom-color: var(--fill-color);\n",
              "    animation:\n",
              "      spin 1s steps(1) infinite;\n",
              "  }\n",
              "\n",
              "  @keyframes spin {\n",
              "    0% {\n",
              "      border-color: transparent;\n",
              "      border-bottom-color: var(--fill-color);\n",
              "      border-left-color: var(--fill-color);\n",
              "    }\n",
              "    20% {\n",
              "      border-color: transparent;\n",
              "      border-left-color: var(--fill-color);\n",
              "      border-top-color: var(--fill-color);\n",
              "    }\n",
              "    30% {\n",
              "      border-color: transparent;\n",
              "      border-left-color: var(--fill-color);\n",
              "      border-top-color: var(--fill-color);\n",
              "      border-right-color: var(--fill-color);\n",
              "    }\n",
              "    40% {\n",
              "      border-color: transparent;\n",
              "      border-right-color: var(--fill-color);\n",
              "      border-top-color: var(--fill-color);\n",
              "    }\n",
              "    60% {\n",
              "      border-color: transparent;\n",
              "      border-right-color: var(--fill-color);\n",
              "    }\n",
              "    80% {\n",
              "      border-color: transparent;\n",
              "      border-right-color: var(--fill-color);\n",
              "      border-bottom-color: var(--fill-color);\n",
              "    }\n",
              "    90% {\n",
              "      border-color: transparent;\n",
              "      border-bottom-color: var(--fill-color);\n",
              "    }\n",
              "  }\n",
              "</style>\n",
              "\n",
              "  <script>\n",
              "    async function quickchart(key) {\n",
              "      const quickchartButtonEl =\n",
              "        document.querySelector('#' + key + ' button');\n",
              "      quickchartButtonEl.disabled = true;  // To prevent multiple clicks.\n",
              "      quickchartButtonEl.classList.add('colab-df-spinner');\n",
              "      try {\n",
              "        const charts = await google.colab.kernel.invokeFunction(\n",
              "            'suggestCharts', [key], {});\n",
              "      } catch (error) {\n",
              "        console.error('Error during call to suggestCharts:', error);\n",
              "      }\n",
              "      quickchartButtonEl.classList.remove('colab-df-spinner');\n",
              "      quickchartButtonEl.classList.add('colab-df-quickchart-complete');\n",
              "    }\n",
              "    (() => {\n",
              "      let quickchartButtonEl =\n",
              "        document.querySelector('#df-310593b9-8784-4b4e-99ea-ad2582b7c562 button');\n",
              "      quickchartButtonEl.style.display =\n",
              "        google.colab.kernel.accessAllowed ? 'block' : 'none';\n",
              "    })();\n",
              "  </script>\n",
              "</div>\n",
              "    </div>\n",
              "  </div>\n"
            ],
            "application/vnd.google.colaboratory.intrinsic+json": {
              "type": "dataframe",
              "variable_name": "data",
              "summary": "{\n  \"name\": \"data\",\n  \"rows\": 4898,\n  \"fields\": [\n    {\n      \"column\": \"fixed acidity\",\n      \"properties\": {\n        \"dtype\": \"number\",\n        \"std\": 0.843868227687513,\n        \"min\": 3.8,\n        \"max\": 14.2,\n        \"num_unique_values\": 68,\n        \"samples\": [\n          10.3,\n          5.8,\n          6.2\n        ],\n        \"semantic_type\": \"\",\n        \"description\": \"\"\n      }\n    },\n    {\n      \"column\": \"volatile acidity\",\n      \"properties\": {\n        \"dtype\": \"number\",\n        \"std\": 0.10079454842486534,\n        \"min\": 0.08,\n        \"max\": 1.1,\n        \"num_unique_values\": 125,\n        \"samples\": [\n          0.14,\n          0.595,\n          0.13\n        ],\n        \"semantic_type\": \"\",\n        \"description\": \"\"\n      }\n    },\n    {\n      \"column\": \"citric acid\",\n      \"properties\": {\n        \"dtype\": \"number\",\n        \"std\": 0.12101980420298249,\n        \"min\": 0.0,\n        \"max\": 1.66,\n        \"num_unique_values\": 87,\n        \"samples\": [\n          0.64,\n          0.36,\n          0.24\n        ],\n        \"semantic_type\": \"\",\n        \"description\": \"\"\n      }\n    },\n    {\n      \"column\": \"residual sugar\",\n      \"properties\": {\n        \"dtype\": \"number\",\n        \"std\": 5.072057784014881,\n        \"min\": 0.6,\n        \"max\": 65.8,\n        \"num_unique_values\": 310,\n        \"samples\": [\n          15.5,\n          19.25,\n          3.3\n        ],\n        \"semantic_type\": \"\",\n        \"description\": \"\"\n      }\n    },\n    {\n      \"column\": \"chlorides\",\n      \"properties\": {\n        \"dtype\": \"number\",\n        \"std\": 0.021847968093728798,\n        \"min\": 0.009,\n        \"max\": 0.346,\n        \"num_unique_values\": 160,\n        \"samples\": [\n          0.167,\n          0.133,\n          0.015\n        ],\n        \"semantic_type\": \"\",\n        \"description\": \"\"\n      }\n    },\n    {\n      \"column\": \"free sulfur dioxide\",\n      \"properties\": {\n        \"dtype\": \"number\",\n        \"std\": 17.00713732523259,\n        \"min\": 2.0,\n        \"max\": 289.0,\n        \"num_unique_values\": 132,\n        \"samples\": [\n          24.0,\n          122.5,\n          7.0\n        ],\n        \"semantic_type\": \"\",\n        \"description\": \"\"\n      }\n    },\n    {\n      \"column\": \"total sulfur dioxide\",\n      \"properties\": {\n        \"dtype\": \"number\",\n        \"std\": 42.49806455414291,\n        \"min\": 9.0,\n        \"max\": 440.0,\n        \"num_unique_values\": 251,\n        \"samples\": [\n          260.0,\n          63.0,\n          70.0\n        ],\n        \"semantic_type\": \"\",\n        \"description\": \"\"\n      }\n    },\n    {\n      \"column\": \"density\",\n      \"properties\": {\n        \"dtype\": \"number\",\n        \"std\": 0.0029909069169369337,\n        \"min\": 0.98711,\n        \"max\": 1.03898,\n        \"num_unique_values\": 890,\n        \"samples\": [\n          0.99362,\n          0.99388,\n          0.9929\n        ],\n        \"semantic_type\": \"\",\n        \"description\": \"\"\n      }\n    },\n    {\n      \"column\": \"pH\",\n      \"properties\": {\n        \"dtype\": \"number\",\n        \"std\": 0.1510005996150668,\n        \"min\": 2.72,\n        \"max\": 3.82,\n        \"num_unique_values\": 103,\n        \"samples\": [\n          3.34,\n          3.41,\n          3.49\n        ],\n        \"semantic_type\": \"\",\n        \"description\": \"\"\n      }\n    },\n    {\n      \"column\": \"sulphates\",\n      \"properties\": {\n        \"dtype\": \"number\",\n        \"std\": 0.1141258339488323,\n        \"min\": 0.22,\n        \"max\": 1.08,\n        \"num_unique_values\": 79,\n        \"samples\": [\n          0.41,\n          0.45,\n          0.46\n        ],\n        \"semantic_type\": \"\",\n        \"description\": \"\"\n      }\n    },\n    {\n      \"column\": \"alcohol\",\n      \"properties\": {\n        \"dtype\": \"number\",\n        \"std\": 1.230620567757318,\n        \"min\": 8.0,\n        \"max\": 14.2,\n        \"num_unique_values\": 103,\n        \"samples\": [\n          12.6,\n          11.3666666666667,\n          10.0333333333333\n        ],\n        \"semantic_type\": \"\",\n        \"description\": \"\"\n      }\n    },\n    {\n      \"column\": \"quality\",\n      \"properties\": {\n        \"dtype\": \"number\",\n        \"std\": 0,\n        \"min\": 3,\n        \"max\": 9,\n        \"num_unique_values\": 7,\n        \"samples\": [\n          6,\n          5,\n          3\n        ],\n        \"semantic_type\": \"\",\n        \"description\": \"\"\n      }\n    }\n  ]\n}"
            }
          },
          "metadata": {},
          "execution_count": 84
        }
      ]
    },
    {
      "cell_type": "code",
      "source": [
        "y = data['quality']\n",
        "\n",
        "X_train, X_Holdout, y_train, y_holdout = train_test_split(data.drop('quality',axis=1), y,\n",
        "                                                          test_size=0.3,\n",
        "                                                          random_state=17)"
      ],
      "metadata": {
        "id": "HyuzngNn-SO6"
      },
      "execution_count": 85,
      "outputs": []
    },
    {
      "cell_type": "code",
      "source": [
        "scaler = StandardScaler()\n",
        "X_train_scaled = scaler.fit_transform(X_train)\n",
        "X_holdout_scaled = scaler.fit_transform(X_Holdout)"
      ],
      "metadata": {
        "id": "3KSnnGby--Jr"
      },
      "execution_count": 86,
      "outputs": []
    },
    {
      "cell_type": "code",
      "source": [
        "linreg = LinearRegression()\n",
        "linreg.fit(X_train_scaled, y_train)"
      ],
      "metadata": {
        "colab": {
          "base_uri": "https://localhost:8080/",
          "height": 75
        },
        "id": "McSB9gbU_PXa",
        "outputId": "28546996-f7aa-4f34-a427-4389933afb18"
      },
      "execution_count": 87,
      "outputs": [
        {
          "output_type": "execute_result",
          "data": {
            "text/plain": [
              "LinearRegression()"
            ],
            "text/html": [
              "<style>#sk-container-id-8 {color: black;background-color: white;}#sk-container-id-8 pre{padding: 0;}#sk-container-id-8 div.sk-toggleable {background-color: white;}#sk-container-id-8 label.sk-toggleable__label {cursor: pointer;display: block;width: 100%;margin-bottom: 0;padding: 0.3em;box-sizing: border-box;text-align: center;}#sk-container-id-8 label.sk-toggleable__label-arrow:before {content: \"▸\";float: left;margin-right: 0.25em;color: #696969;}#sk-container-id-8 label.sk-toggleable__label-arrow:hover:before {color: black;}#sk-container-id-8 div.sk-estimator:hover label.sk-toggleable__label-arrow:before {color: black;}#sk-container-id-8 div.sk-toggleable__content {max-height: 0;max-width: 0;overflow: hidden;text-align: left;background-color: #f0f8ff;}#sk-container-id-8 div.sk-toggleable__content pre {margin: 0.2em;color: black;border-radius: 0.25em;background-color: #f0f8ff;}#sk-container-id-8 input.sk-toggleable__control:checked~div.sk-toggleable__content {max-height: 200px;max-width: 100%;overflow: auto;}#sk-container-id-8 input.sk-toggleable__control:checked~label.sk-toggleable__label-arrow:before {content: \"▾\";}#sk-container-id-8 div.sk-estimator input.sk-toggleable__control:checked~label.sk-toggleable__label {background-color: #d4ebff;}#sk-container-id-8 div.sk-label input.sk-toggleable__control:checked~label.sk-toggleable__label {background-color: #d4ebff;}#sk-container-id-8 input.sk-hidden--visually {border: 0;clip: rect(1px 1px 1px 1px);clip: rect(1px, 1px, 1px, 1px);height: 1px;margin: -1px;overflow: hidden;padding: 0;position: absolute;width: 1px;}#sk-container-id-8 div.sk-estimator {font-family: monospace;background-color: #f0f8ff;border: 1px dotted black;border-radius: 0.25em;box-sizing: border-box;margin-bottom: 0.5em;}#sk-container-id-8 div.sk-estimator:hover {background-color: #d4ebff;}#sk-container-id-8 div.sk-parallel-item::after {content: \"\";width: 100%;border-bottom: 1px solid gray;flex-grow: 1;}#sk-container-id-8 div.sk-label:hover label.sk-toggleable__label {background-color: #d4ebff;}#sk-container-id-8 div.sk-serial::before {content: \"\";position: absolute;border-left: 1px solid gray;box-sizing: border-box;top: 0;bottom: 0;left: 50%;z-index: 0;}#sk-container-id-8 div.sk-serial {display: flex;flex-direction: column;align-items: center;background-color: white;padding-right: 0.2em;padding-left: 0.2em;position: relative;}#sk-container-id-8 div.sk-item {position: relative;z-index: 1;}#sk-container-id-8 div.sk-parallel {display: flex;align-items: stretch;justify-content: center;background-color: white;position: relative;}#sk-container-id-8 div.sk-item::before, #sk-container-id-8 div.sk-parallel-item::before {content: \"\";position: absolute;border-left: 1px solid gray;box-sizing: border-box;top: 0;bottom: 0;left: 50%;z-index: -1;}#sk-container-id-8 div.sk-parallel-item {display: flex;flex-direction: column;z-index: 1;position: relative;background-color: white;}#sk-container-id-8 div.sk-parallel-item:first-child::after {align-self: flex-end;width: 50%;}#sk-container-id-8 div.sk-parallel-item:last-child::after {align-self: flex-start;width: 50%;}#sk-container-id-8 div.sk-parallel-item:only-child::after {width: 0;}#sk-container-id-8 div.sk-dashed-wrapped {border: 1px dashed gray;margin: 0 0.4em 0.5em 0.4em;box-sizing: border-box;padding-bottom: 0.4em;background-color: white;}#sk-container-id-8 div.sk-label label {font-family: monospace;font-weight: bold;display: inline-block;line-height: 1.2em;}#sk-container-id-8 div.sk-label-container {text-align: center;}#sk-container-id-8 div.sk-container {/* jupyter's `normalize.less` sets `[hidden] { display: none; }` but bootstrap.min.css set `[hidden] { display: none !important; }` so we also need the `!important` here to be able to override the default hidden behavior on the sphinx rendered scikit-learn.org. See: https://github.com/scikit-learn/scikit-learn/issues/21755 */display: inline-block !important;position: relative;}#sk-container-id-8 div.sk-text-repr-fallback {display: none;}</style><div id=\"sk-container-id-8\" class=\"sk-top-container\"><div class=\"sk-text-repr-fallback\"><pre>LinearRegression()</pre><b>In a Jupyter environment, please rerun this cell to show the HTML representation or trust the notebook. <br />On GitHub, the HTML representation is unable to render, please try loading this page with nbviewer.org.</b></div><div class=\"sk-container\" hidden><div class=\"sk-item\"><div class=\"sk-estimator sk-toggleable\"><input class=\"sk-toggleable__control sk-hidden--visually\" id=\"sk-estimator-id-8\" type=\"checkbox\" checked><label for=\"sk-estimator-id-8\" class=\"sk-toggleable__label sk-toggleable__label-arrow\">LinearRegression</label><div class=\"sk-toggleable__content\"><pre>LinearRegression()</pre></div></div></div></div></div>"
            ]
          },
          "metadata": {},
          "execution_count": 87
        }
      ]
    },
    {
      "cell_type": "code",
      "source": [
        "train_predictions = linreg.predict(X_train_scaled)\n",
        "holdout_predictions = linreg.predict(X_holdout_scaled)"
      ],
      "metadata": {
        "id": "TOKgiLNa_iAy"
      },
      "execution_count": 88,
      "outputs": []
    },
    {
      "cell_type": "code",
      "source": [
        "print(mean_squared_error(train_predictions, y_train),\n",
        "      mean_squared_error(holdout_predictions, y_holdout))"
      ],
      "metadata": {
        "colab": {
          "base_uri": "https://localhost:8080/"
        },
        "id": "zNsL031M_t5J",
        "outputId": "71d1bea0-9298-4ddc-f160-fd6967b8b2a0"
      },
      "execution_count": 89,
      "outputs": [
        {
          "output_type": "stream",
          "name": "stdout",
          "text": [
            "0.5580606489803572 0.5820851719476798\n"
          ]
        }
      ]
    },
    {
      "cell_type": "code",
      "source": [
        "np.argmax(linreg.coef_)"
      ],
      "metadata": {
        "colab": {
          "base_uri": "https://localhost:8080/"
        },
        "id": "rudW4I4I_68x",
        "outputId": "416e650e-58cb-4ef5-c7c8-bd24c427f830"
      },
      "execution_count": 90,
      "outputs": [
        {
          "output_type": "execute_result",
          "data": {
            "text/plain": [
              "3"
            ]
          },
          "metadata": {},
          "execution_count": 90
        }
      ]
    },
    {
      "cell_type": "code",
      "source": [
        "np.argmin(linreg.coef_)"
      ],
      "metadata": {
        "colab": {
          "base_uri": "https://localhost:8080/"
        },
        "id": "tsel-EThAhUA",
        "outputId": "dd4a9578-3e05-42c7-9d29-34670015c581"
      },
      "execution_count": 91,
      "outputs": [
        {
          "output_type": "execute_result",
          "data": {
            "text/plain": [
              "7"
            ]
          },
          "metadata": {},
          "execution_count": 91
        }
      ]
    },
    {
      "cell_type": "code",
      "source": [
        "X_train.columns[7]"
      ],
      "metadata": {
        "colab": {
          "base_uri": "https://localhost:8080/",
          "height": 35
        },
        "id": "OSN2I4zSAo-5",
        "outputId": "5d66b195-b7d8-4818-8114-4f2fc45ccee0"
      },
      "execution_count": 92,
      "outputs": [
        {
          "output_type": "execute_result",
          "data": {
            "text/plain": [
              "'density'"
            ],
            "application/vnd.google.colaboratory.intrinsic+json": {
              "type": "string"
            }
          },
          "metadata": {},
          "execution_count": 92
        }
      ]
    },
    {
      "cell_type": "code",
      "source": [
        "linreg.coef_"
      ],
      "metadata": {
        "colab": {
          "base_uri": "https://localhost:8080/"
        },
        "id": "zA0YeikQAkMJ",
        "outputId": "9a3525d0-3ccd-45d0-d91b-945aa117ac80"
      },
      "execution_count": 93,
      "outputs": [
        {
          "output_type": "execute_result",
          "data": {
            "text/plain": [
              "array([ 9.78219223e-02, -1.92259947e-01, -1.83224449e-04,  5.38164096e-01,\n",
              "        8.12724353e-03,  4.21804406e-02,  1.43040227e-02, -6.65720472e-01,\n",
              "        1.50036006e-01,  6.20533605e-02,  1.29533447e-01])"
            ]
          },
          "metadata": {},
          "execution_count": 93
        }
      ]
    },
    {
      "cell_type": "markdown",
      "source": [
        "## **LASSO Regression**\n",
        "Lasso model with $a$=0.01 (weak regularization) and scaled data."
      ],
      "metadata": {
        "id": "3MqwVg_ABBd1"
      }
    },
    {
      "cell_type": "code",
      "source": [
        "lasso1 = Lasso(alpha=0.01, random_state=17)\n",
        "lasso1.fit(X_train_scaled, y_train)"
      ],
      "metadata": {
        "colab": {
          "base_uri": "https://localhost:8080/",
          "height": 75
        },
        "id": "xcaZc275A-Br",
        "outputId": "d76359d9-507e-4320-d4ad-e89669c98053"
      },
      "execution_count": 94,
      "outputs": [
        {
          "output_type": "execute_result",
          "data": {
            "text/plain": [
              "Lasso(alpha=0.01, random_state=17)"
            ],
            "text/html": [
              "<style>#sk-container-id-9 {color: black;background-color: white;}#sk-container-id-9 pre{padding: 0;}#sk-container-id-9 div.sk-toggleable {background-color: white;}#sk-container-id-9 label.sk-toggleable__label {cursor: pointer;display: block;width: 100%;margin-bottom: 0;padding: 0.3em;box-sizing: border-box;text-align: center;}#sk-container-id-9 label.sk-toggleable__label-arrow:before {content: \"▸\";float: left;margin-right: 0.25em;color: #696969;}#sk-container-id-9 label.sk-toggleable__label-arrow:hover:before {color: black;}#sk-container-id-9 div.sk-estimator:hover label.sk-toggleable__label-arrow:before {color: black;}#sk-container-id-9 div.sk-toggleable__content {max-height: 0;max-width: 0;overflow: hidden;text-align: left;background-color: #f0f8ff;}#sk-container-id-9 div.sk-toggleable__content pre {margin: 0.2em;color: black;border-radius: 0.25em;background-color: #f0f8ff;}#sk-container-id-9 input.sk-toggleable__control:checked~div.sk-toggleable__content {max-height: 200px;max-width: 100%;overflow: auto;}#sk-container-id-9 input.sk-toggleable__control:checked~label.sk-toggleable__label-arrow:before {content: \"▾\";}#sk-container-id-9 div.sk-estimator input.sk-toggleable__control:checked~label.sk-toggleable__label {background-color: #d4ebff;}#sk-container-id-9 div.sk-label input.sk-toggleable__control:checked~label.sk-toggleable__label {background-color: #d4ebff;}#sk-container-id-9 input.sk-hidden--visually {border: 0;clip: rect(1px 1px 1px 1px);clip: rect(1px, 1px, 1px, 1px);height: 1px;margin: -1px;overflow: hidden;padding: 0;position: absolute;width: 1px;}#sk-container-id-9 div.sk-estimator {font-family: monospace;background-color: #f0f8ff;border: 1px dotted black;border-radius: 0.25em;box-sizing: border-box;margin-bottom: 0.5em;}#sk-container-id-9 div.sk-estimator:hover {background-color: #d4ebff;}#sk-container-id-9 div.sk-parallel-item::after {content: \"\";width: 100%;border-bottom: 1px solid gray;flex-grow: 1;}#sk-container-id-9 div.sk-label:hover label.sk-toggleable__label {background-color: #d4ebff;}#sk-container-id-9 div.sk-serial::before {content: \"\";position: absolute;border-left: 1px solid gray;box-sizing: border-box;top: 0;bottom: 0;left: 50%;z-index: 0;}#sk-container-id-9 div.sk-serial {display: flex;flex-direction: column;align-items: center;background-color: white;padding-right: 0.2em;padding-left: 0.2em;position: relative;}#sk-container-id-9 div.sk-item {position: relative;z-index: 1;}#sk-container-id-9 div.sk-parallel {display: flex;align-items: stretch;justify-content: center;background-color: white;position: relative;}#sk-container-id-9 div.sk-item::before, #sk-container-id-9 div.sk-parallel-item::before {content: \"\";position: absolute;border-left: 1px solid gray;box-sizing: border-box;top: 0;bottom: 0;left: 50%;z-index: -1;}#sk-container-id-9 div.sk-parallel-item {display: flex;flex-direction: column;z-index: 1;position: relative;background-color: white;}#sk-container-id-9 div.sk-parallel-item:first-child::after {align-self: flex-end;width: 50%;}#sk-container-id-9 div.sk-parallel-item:last-child::after {align-self: flex-start;width: 50%;}#sk-container-id-9 div.sk-parallel-item:only-child::after {width: 0;}#sk-container-id-9 div.sk-dashed-wrapped {border: 1px dashed gray;margin: 0 0.4em 0.5em 0.4em;box-sizing: border-box;padding-bottom: 0.4em;background-color: white;}#sk-container-id-9 div.sk-label label {font-family: monospace;font-weight: bold;display: inline-block;line-height: 1.2em;}#sk-container-id-9 div.sk-label-container {text-align: center;}#sk-container-id-9 div.sk-container {/* jupyter's `normalize.less` sets `[hidden] { display: none; }` but bootstrap.min.css set `[hidden] { display: none !important; }` so we also need the `!important` here to be able to override the default hidden behavior on the sphinx rendered scikit-learn.org. See: https://github.com/scikit-learn/scikit-learn/issues/21755 */display: inline-block !important;position: relative;}#sk-container-id-9 div.sk-text-repr-fallback {display: none;}</style><div id=\"sk-container-id-9\" class=\"sk-top-container\"><div class=\"sk-text-repr-fallback\"><pre>Lasso(alpha=0.01, random_state=17)</pre><b>In a Jupyter environment, please rerun this cell to show the HTML representation or trust the notebook. <br />On GitHub, the HTML representation is unable to render, please try loading this page with nbviewer.org.</b></div><div class=\"sk-container\" hidden><div class=\"sk-item\"><div class=\"sk-estimator sk-toggleable\"><input class=\"sk-toggleable__control sk-hidden--visually\" id=\"sk-estimator-id-9\" type=\"checkbox\" checked><label for=\"sk-estimator-id-9\" class=\"sk-toggleable__label sk-toggleable__label-arrow\">Lasso</label><div class=\"sk-toggleable__content\"><pre>Lasso(alpha=0.01, random_state=17)</pre></div></div></div></div></div>"
            ]
          },
          "metadata": {},
          "execution_count": 94
        }
      ]
    },
    {
      "cell_type": "code",
      "source": [
        "np.argmin(abs(lasso1.coef_))"
      ],
      "metadata": {
        "colab": {
          "base_uri": "https://localhost:8080/"
        },
        "id": "MbWaCt0-B7ho",
        "outputId": "ae016f29-cc12-457a-c70a-98909e879dc2"
      },
      "execution_count": 95,
      "outputs": [
        {
          "output_type": "execute_result",
          "data": {
            "text/plain": [
              "0"
            ]
          },
          "metadata": {},
          "execution_count": 95
        }
      ]
    },
    {
      "cell_type": "code",
      "source": [
        "X_train.columns[0]"
      ],
      "metadata": {
        "colab": {
          "base_uri": "https://localhost:8080/",
          "height": 35
        },
        "id": "OVKY-VnUCAv4",
        "outputId": "6b532f5f-552b-45f1-da2b-3f55d1d84233"
      },
      "execution_count": 96,
      "outputs": [
        {
          "output_type": "execute_result",
          "data": {
            "text/plain": [
              "'fixed acidity'"
            ],
            "application/vnd.google.colaboratory.intrinsic+json": {
              "type": "string"
            }
          },
          "metadata": {},
          "execution_count": 96
        }
      ]
    },
    {
      "cell_type": "code",
      "source": [
        "alphas = np.logspace(-6, 2, 200)\n",
        "lasso_cv = LassoCV(alphas=alphas, cv=5)\n",
        "lasso_cv.fit(X_train_scaled, y_train)"
      ],
      "metadata": {
        "colab": {
          "base_uri": "https://localhost:8080/",
          "height": 252
        },
        "id": "_ySuTZr5CLi4",
        "outputId": "8484023f-443d-4d10-964f-8256763fa240"
      },
      "execution_count": 97,
      "outputs": [
        {
          "output_type": "execute_result",
          "data": {
            "text/plain": [
              "LassoCV(alphas=array([1.00000000e-06, 1.09698580e-06, 1.20337784e-06, 1.32008840e-06,\n",
              "       1.44811823e-06, 1.58856513e-06, 1.74263339e-06, 1.91164408e-06,\n",
              "       2.09704640e-06, 2.30043012e-06, 2.52353917e-06, 2.76828663e-06,\n",
              "       3.03677112e-06, 3.33129479e-06, 3.65438307e-06, 4.00880633e-06,\n",
              "       4.39760361e-06, 4.82410870e-06, 5.29197874e-06, 5.80522552e-06,\n",
              "       6.36824994e-06, 6.98587975e-0...\n",
              "       1.18953407e+01, 1.30490198e+01, 1.43145894e+01, 1.57029012e+01,\n",
              "       1.72258597e+01, 1.88965234e+01, 2.07292178e+01, 2.27396575e+01,\n",
              "       2.49450814e+01, 2.73644000e+01, 3.00183581e+01, 3.29297126e+01,\n",
              "       3.61234270e+01, 3.96268864e+01, 4.34701316e+01, 4.76861170e+01,\n",
              "       5.23109931e+01, 5.73844165e+01, 6.29498899e+01, 6.90551352e+01,\n",
              "       7.57525026e+01, 8.30994195e+01, 9.11588830e+01, 1.00000000e+02]),\n",
              "        cv=5)"
            ],
            "text/html": [
              "<style>#sk-container-id-10 {color: black;background-color: white;}#sk-container-id-10 pre{padding: 0;}#sk-container-id-10 div.sk-toggleable {background-color: white;}#sk-container-id-10 label.sk-toggleable__label {cursor: pointer;display: block;width: 100%;margin-bottom: 0;padding: 0.3em;box-sizing: border-box;text-align: center;}#sk-container-id-10 label.sk-toggleable__label-arrow:before {content: \"▸\";float: left;margin-right: 0.25em;color: #696969;}#sk-container-id-10 label.sk-toggleable__label-arrow:hover:before {color: black;}#sk-container-id-10 div.sk-estimator:hover label.sk-toggleable__label-arrow:before {color: black;}#sk-container-id-10 div.sk-toggleable__content {max-height: 0;max-width: 0;overflow: hidden;text-align: left;background-color: #f0f8ff;}#sk-container-id-10 div.sk-toggleable__content pre {margin: 0.2em;color: black;border-radius: 0.25em;background-color: #f0f8ff;}#sk-container-id-10 input.sk-toggleable__control:checked~div.sk-toggleable__content {max-height: 200px;max-width: 100%;overflow: auto;}#sk-container-id-10 input.sk-toggleable__control:checked~label.sk-toggleable__label-arrow:before {content: \"▾\";}#sk-container-id-10 div.sk-estimator input.sk-toggleable__control:checked~label.sk-toggleable__label {background-color: #d4ebff;}#sk-container-id-10 div.sk-label input.sk-toggleable__control:checked~label.sk-toggleable__label {background-color: #d4ebff;}#sk-container-id-10 input.sk-hidden--visually {border: 0;clip: rect(1px 1px 1px 1px);clip: rect(1px, 1px, 1px, 1px);height: 1px;margin: -1px;overflow: hidden;padding: 0;position: absolute;width: 1px;}#sk-container-id-10 div.sk-estimator {font-family: monospace;background-color: #f0f8ff;border: 1px dotted black;border-radius: 0.25em;box-sizing: border-box;margin-bottom: 0.5em;}#sk-container-id-10 div.sk-estimator:hover {background-color: #d4ebff;}#sk-container-id-10 div.sk-parallel-item::after {content: \"\";width: 100%;border-bottom: 1px solid gray;flex-grow: 1;}#sk-container-id-10 div.sk-label:hover label.sk-toggleable__label {background-color: #d4ebff;}#sk-container-id-10 div.sk-serial::before {content: \"\";position: absolute;border-left: 1px solid gray;box-sizing: border-box;top: 0;bottom: 0;left: 50%;z-index: 0;}#sk-container-id-10 div.sk-serial {display: flex;flex-direction: column;align-items: center;background-color: white;padding-right: 0.2em;padding-left: 0.2em;position: relative;}#sk-container-id-10 div.sk-item {position: relative;z-index: 1;}#sk-container-id-10 div.sk-parallel {display: flex;align-items: stretch;justify-content: center;background-color: white;position: relative;}#sk-container-id-10 div.sk-item::before, #sk-container-id-10 div.sk-parallel-item::before {content: \"\";position: absolute;border-left: 1px solid gray;box-sizing: border-box;top: 0;bottom: 0;left: 50%;z-index: -1;}#sk-container-id-10 div.sk-parallel-item {display: flex;flex-direction: column;z-index: 1;position: relative;background-color: white;}#sk-container-id-10 div.sk-parallel-item:first-child::after {align-self: flex-end;width: 50%;}#sk-container-id-10 div.sk-parallel-item:last-child::after {align-self: flex-start;width: 50%;}#sk-container-id-10 div.sk-parallel-item:only-child::after {width: 0;}#sk-container-id-10 div.sk-dashed-wrapped {border: 1px dashed gray;margin: 0 0.4em 0.5em 0.4em;box-sizing: border-box;padding-bottom: 0.4em;background-color: white;}#sk-container-id-10 div.sk-label label {font-family: monospace;font-weight: bold;display: inline-block;line-height: 1.2em;}#sk-container-id-10 div.sk-label-container {text-align: center;}#sk-container-id-10 div.sk-container {/* jupyter's `normalize.less` sets `[hidden] { display: none; }` but bootstrap.min.css set `[hidden] { display: none !important; }` so we also need the `!important` here to be able to override the default hidden behavior on the sphinx rendered scikit-learn.org. See: https://github.com/scikit-learn/scikit-learn/issues/21755 */display: inline-block !important;position: relative;}#sk-container-id-10 div.sk-text-repr-fallback {display: none;}</style><div id=\"sk-container-id-10\" class=\"sk-top-container\"><div class=\"sk-text-repr-fallback\"><pre>LassoCV(alphas=array([1.00000000e-06, 1.09698580e-06, 1.20337784e-06, 1.32008840e-06,\n",
              "       1.44811823e-06, 1.58856513e-06, 1.74263339e-06, 1.91164408e-06,\n",
              "       2.09704640e-06, 2.30043012e-06, 2.52353917e-06, 2.76828663e-06,\n",
              "       3.03677112e-06, 3.33129479e-06, 3.65438307e-06, 4.00880633e-06,\n",
              "       4.39760361e-06, 4.82410870e-06, 5.29197874e-06, 5.80522552e-06,\n",
              "       6.36824994e-06, 6.98587975e-0...\n",
              "       1.18953407e+01, 1.30490198e+01, 1.43145894e+01, 1.57029012e+01,\n",
              "       1.72258597e+01, 1.88965234e+01, 2.07292178e+01, 2.27396575e+01,\n",
              "       2.49450814e+01, 2.73644000e+01, 3.00183581e+01, 3.29297126e+01,\n",
              "       3.61234270e+01, 3.96268864e+01, 4.34701316e+01, 4.76861170e+01,\n",
              "       5.23109931e+01, 5.73844165e+01, 6.29498899e+01, 6.90551352e+01,\n",
              "       7.57525026e+01, 8.30994195e+01, 9.11588830e+01, 1.00000000e+02]),\n",
              "        cv=5)</pre><b>In a Jupyter environment, please rerun this cell to show the HTML representation or trust the notebook. <br />On GitHub, the HTML representation is unable to render, please try loading this page with nbviewer.org.</b></div><div class=\"sk-container\" hidden><div class=\"sk-item\"><div class=\"sk-estimator sk-toggleable\"><input class=\"sk-toggleable__control sk-hidden--visually\" id=\"sk-estimator-id-10\" type=\"checkbox\" checked><label for=\"sk-estimator-id-10\" class=\"sk-toggleable__label sk-toggleable__label-arrow\">LassoCV</label><div class=\"sk-toggleable__content\"><pre>LassoCV(alphas=array([1.00000000e-06, 1.09698580e-06, 1.20337784e-06, 1.32008840e-06,\n",
              "       1.44811823e-06, 1.58856513e-06, 1.74263339e-06, 1.91164408e-06,\n",
              "       2.09704640e-06, 2.30043012e-06, 2.52353917e-06, 2.76828663e-06,\n",
              "       3.03677112e-06, 3.33129479e-06, 3.65438307e-06, 4.00880633e-06,\n",
              "       4.39760361e-06, 4.82410870e-06, 5.29197874e-06, 5.80522552e-06,\n",
              "       6.36824994e-06, 6.98587975e-0...\n",
              "       1.18953407e+01, 1.30490198e+01, 1.43145894e+01, 1.57029012e+01,\n",
              "       1.72258597e+01, 1.88965234e+01, 2.07292178e+01, 2.27396575e+01,\n",
              "       2.49450814e+01, 2.73644000e+01, 3.00183581e+01, 3.29297126e+01,\n",
              "       3.61234270e+01, 3.96268864e+01, 4.34701316e+01, 4.76861170e+01,\n",
              "       5.23109931e+01, 5.73844165e+01, 6.29498899e+01, 6.90551352e+01,\n",
              "       7.57525026e+01, 8.30994195e+01, 9.11588830e+01, 1.00000000e+02]),\n",
              "        cv=5)</pre></div></div></div></div></div>"
            ]
          },
          "metadata": {},
          "execution_count": 97
        }
      ]
    },
    {
      "cell_type": "code",
      "source": [
        "lasso_cv.alpha_"
      ],
      "metadata": {
        "colab": {
          "base_uri": "https://localhost:8080/"
        },
        "id": "KkY_DvMGDIRo",
        "outputId": "6de3d37a-873f-4c0a-e521-e87ad95c0be2"
      },
      "execution_count": 98,
      "outputs": [
        {
          "output_type": "execute_result",
          "data": {
            "text/plain": [
              "0.0002833096101839324"
            ]
          },
          "metadata": {},
          "execution_count": 98
        }
      ]
    },
    {
      "cell_type": "code",
      "source": [
        "X_train.columns[np.argmin(abs(lasso_cv.coef_))]"
      ],
      "metadata": {
        "colab": {
          "base_uri": "https://localhost:8080/",
          "height": 35
        },
        "id": "W-A_PLtBDLjA",
        "outputId": "915abb33-e2b0-4f5d-cdc5-8b341d7540e2"
      },
      "execution_count": 99,
      "outputs": [
        {
          "output_type": "execute_result",
          "data": {
            "text/plain": [
              "'citric acid'"
            ],
            "application/vnd.google.colaboratory.intrinsic+json": {
              "type": "string"
            }
          },
          "metadata": {},
          "execution_count": 99
        }
      ]
    },
    {
      "cell_type": "code",
      "source": [
        "train_predictions = lasso_cv.predict(X_train_scaled)\n",
        "holdout_predictions = lasso_cv.predict(X_holdout_scaled)"
      ],
      "metadata": {
        "id": "ALNGX5yeDk41"
      },
      "execution_count": 100,
      "outputs": []
    },
    {
      "cell_type": "code",
      "source": [
        "print(mean_squared_error(train_predictions, y_train),\n",
        "      mean_squared_error(holdout_predictions, y_holdout))"
      ],
      "metadata": {
        "colab": {
          "base_uri": "https://localhost:8080/"
        },
        "id": "9gq-htKxDVUY",
        "outputId": "53a59426-7e25-4e1f-8f97-fa837095b6aa"
      },
      "execution_count": 101,
      "outputs": [
        {
          "output_type": "stream",
          "name": "stdout",
          "text": [
            "0.558070014187378 0.5812505235389446\n"
          ]
        }
      ]
    },
    {
      "cell_type": "markdown",
      "source": [
        "## **Random Forest**"
      ],
      "metadata": {
        "id": "48E7fOJoDtQZ"
      }
    },
    {
      "cell_type": "code",
      "source": [
        "forest = RandomForestRegressor(random_state=17)\n",
        "forest.fit(X_train_scaled, y_train)"
      ],
      "metadata": {
        "colab": {
          "base_uri": "https://localhost:8080/",
          "height": 75
        },
        "id": "QXTBYQv3DnTI",
        "outputId": "b32baef6-1b48-4399-a39a-e6c5bc2eed23"
      },
      "execution_count": 102,
      "outputs": [
        {
          "output_type": "execute_result",
          "data": {
            "text/plain": [
              "RandomForestRegressor(random_state=17)"
            ],
            "text/html": [
              "<style>#sk-container-id-11 {color: black;background-color: white;}#sk-container-id-11 pre{padding: 0;}#sk-container-id-11 div.sk-toggleable {background-color: white;}#sk-container-id-11 label.sk-toggleable__label {cursor: pointer;display: block;width: 100%;margin-bottom: 0;padding: 0.3em;box-sizing: border-box;text-align: center;}#sk-container-id-11 label.sk-toggleable__label-arrow:before {content: \"▸\";float: left;margin-right: 0.25em;color: #696969;}#sk-container-id-11 label.sk-toggleable__label-arrow:hover:before {color: black;}#sk-container-id-11 div.sk-estimator:hover label.sk-toggleable__label-arrow:before {color: black;}#sk-container-id-11 div.sk-toggleable__content {max-height: 0;max-width: 0;overflow: hidden;text-align: left;background-color: #f0f8ff;}#sk-container-id-11 div.sk-toggleable__content pre {margin: 0.2em;color: black;border-radius: 0.25em;background-color: #f0f8ff;}#sk-container-id-11 input.sk-toggleable__control:checked~div.sk-toggleable__content {max-height: 200px;max-width: 100%;overflow: auto;}#sk-container-id-11 input.sk-toggleable__control:checked~label.sk-toggleable__label-arrow:before {content: \"▾\";}#sk-container-id-11 div.sk-estimator input.sk-toggleable__control:checked~label.sk-toggleable__label {background-color: #d4ebff;}#sk-container-id-11 div.sk-label input.sk-toggleable__control:checked~label.sk-toggleable__label {background-color: #d4ebff;}#sk-container-id-11 input.sk-hidden--visually {border: 0;clip: rect(1px 1px 1px 1px);clip: rect(1px, 1px, 1px, 1px);height: 1px;margin: -1px;overflow: hidden;padding: 0;position: absolute;width: 1px;}#sk-container-id-11 div.sk-estimator {font-family: monospace;background-color: #f0f8ff;border: 1px dotted black;border-radius: 0.25em;box-sizing: border-box;margin-bottom: 0.5em;}#sk-container-id-11 div.sk-estimator:hover {background-color: #d4ebff;}#sk-container-id-11 div.sk-parallel-item::after {content: \"\";width: 100%;border-bottom: 1px solid gray;flex-grow: 1;}#sk-container-id-11 div.sk-label:hover label.sk-toggleable__label {background-color: #d4ebff;}#sk-container-id-11 div.sk-serial::before {content: \"\";position: absolute;border-left: 1px solid gray;box-sizing: border-box;top: 0;bottom: 0;left: 50%;z-index: 0;}#sk-container-id-11 div.sk-serial {display: flex;flex-direction: column;align-items: center;background-color: white;padding-right: 0.2em;padding-left: 0.2em;position: relative;}#sk-container-id-11 div.sk-item {position: relative;z-index: 1;}#sk-container-id-11 div.sk-parallel {display: flex;align-items: stretch;justify-content: center;background-color: white;position: relative;}#sk-container-id-11 div.sk-item::before, #sk-container-id-11 div.sk-parallel-item::before {content: \"\";position: absolute;border-left: 1px solid gray;box-sizing: border-box;top: 0;bottom: 0;left: 50%;z-index: -1;}#sk-container-id-11 div.sk-parallel-item {display: flex;flex-direction: column;z-index: 1;position: relative;background-color: white;}#sk-container-id-11 div.sk-parallel-item:first-child::after {align-self: flex-end;width: 50%;}#sk-container-id-11 div.sk-parallel-item:last-child::after {align-self: flex-start;width: 50%;}#sk-container-id-11 div.sk-parallel-item:only-child::after {width: 0;}#sk-container-id-11 div.sk-dashed-wrapped {border: 1px dashed gray;margin: 0 0.4em 0.5em 0.4em;box-sizing: border-box;padding-bottom: 0.4em;background-color: white;}#sk-container-id-11 div.sk-label label {font-family: monospace;font-weight: bold;display: inline-block;line-height: 1.2em;}#sk-container-id-11 div.sk-label-container {text-align: center;}#sk-container-id-11 div.sk-container {/* jupyter's `normalize.less` sets `[hidden] { display: none; }` but bootstrap.min.css set `[hidden] { display: none !important; }` so we also need the `!important` here to be able to override the default hidden behavior on the sphinx rendered scikit-learn.org. See: https://github.com/scikit-learn/scikit-learn/issues/21755 */display: inline-block !important;position: relative;}#sk-container-id-11 div.sk-text-repr-fallback {display: none;}</style><div id=\"sk-container-id-11\" class=\"sk-top-container\"><div class=\"sk-text-repr-fallback\"><pre>RandomForestRegressor(random_state=17)</pre><b>In a Jupyter environment, please rerun this cell to show the HTML representation or trust the notebook. <br />On GitHub, the HTML representation is unable to render, please try loading this page with nbviewer.org.</b></div><div class=\"sk-container\" hidden><div class=\"sk-item\"><div class=\"sk-estimator sk-toggleable\"><input class=\"sk-toggleable__control sk-hidden--visually\" id=\"sk-estimator-id-11\" type=\"checkbox\" checked><label for=\"sk-estimator-id-11\" class=\"sk-toggleable__label sk-toggleable__label-arrow\">RandomForestRegressor</label><div class=\"sk-toggleable__content\"><pre>RandomForestRegressor(random_state=17)</pre></div></div></div></div></div>"
            ]
          },
          "metadata": {},
          "execution_count": 102
        }
      ]
    },
    {
      "cell_type": "code",
      "source": [
        "train_predictions = forest.predict(X_train_scaled)\n",
        "holdout_predictions = forest.predict(X_holdout_scaled)\n",
        "\n",
        "cv_mse = cross_val_score(forest, X_train_scaled, y_train, scoring='neg_mean_squared_error')"
      ],
      "metadata": {
        "id": "ZtqgnGjKEAKp"
      },
      "execution_count": 103,
      "outputs": []
    },
    {
      "cell_type": "code",
      "source": [
        "print(mean_squared_error(train_predictions, y_train),\n",
        "      mean_squared_error(holdout_predictions, y_holdout),\n",
        "      cv_mse.mean())"
      ],
      "metadata": {
        "colab": {
          "base_uri": "https://localhost:8080/"
        },
        "outputId": "8d171c85-13ce-4bd3-f538-c02dda538f1c",
        "id": "1v-cBNp0EAKp"
      },
      "execution_count": 104,
      "outputs": [
        {
          "output_type": "stream",
          "name": "stdout",
          "text": [
            "0.05261155192532089 0.41078 -0.4142003732204039\n"
          ]
        }
      ]
    },
    {
      "cell_type": "code",
      "source": [
        "forest_params = {\"max_depth\": list(range(10, 25)), \"max_features\": list(range(6, 12))}\n",
        "\n",
        "locally_best_forest = GridSearchCV(\n",
        "    RandomForestRegressor(n_jobs=-1, random_state=17),\n",
        "    forest_params,\n",
        "    scoring=\"neg_mean_squared_error\",\n",
        "    n_jobs=-1,\n",
        "    cv=5,\n",
        "    verbose=True,\n",
        ")\n",
        "locally_best_forest.fit(X_train_scaled, y_train)"
      ],
      "metadata": {
        "colab": {
          "base_uri": "https://localhost:8080/",
          "height": 137
        },
        "id": "bvP92DhoECaf",
        "outputId": "0c2fa279-a0b2-467e-c8b1-b2d831b56d87"
      },
      "execution_count": 107,
      "outputs": [
        {
          "output_type": "stream",
          "name": "stdout",
          "text": [
            "Fitting 5 folds for each of 90 candidates, totalling 450 fits\n"
          ]
        },
        {
          "output_type": "execute_result",
          "data": {
            "text/plain": [
              "GridSearchCV(cv=5, estimator=RandomForestRegressor(n_jobs=-1, random_state=17),\n",
              "             n_jobs=-1,\n",
              "             param_grid={'max_depth': [10, 11, 12, 13, 14, 15, 16, 17, 18, 19,\n",
              "                                       20, 21, 22, 23, 24],\n",
              "                         'max_features': [6, 7, 8, 9, 10, 11]},\n",
              "             scoring='neg_mean_squared_error', verbose=True)"
            ],
            "text/html": [
              "<style>#sk-container-id-12 {color: black;background-color: white;}#sk-container-id-12 pre{padding: 0;}#sk-container-id-12 div.sk-toggleable {background-color: white;}#sk-container-id-12 label.sk-toggleable__label {cursor: pointer;display: block;width: 100%;margin-bottom: 0;padding: 0.3em;box-sizing: border-box;text-align: center;}#sk-container-id-12 label.sk-toggleable__label-arrow:before {content: \"▸\";float: left;margin-right: 0.25em;color: #696969;}#sk-container-id-12 label.sk-toggleable__label-arrow:hover:before {color: black;}#sk-container-id-12 div.sk-estimator:hover label.sk-toggleable__label-arrow:before {color: black;}#sk-container-id-12 div.sk-toggleable__content {max-height: 0;max-width: 0;overflow: hidden;text-align: left;background-color: #f0f8ff;}#sk-container-id-12 div.sk-toggleable__content pre {margin: 0.2em;color: black;border-radius: 0.25em;background-color: #f0f8ff;}#sk-container-id-12 input.sk-toggleable__control:checked~div.sk-toggleable__content {max-height: 200px;max-width: 100%;overflow: auto;}#sk-container-id-12 input.sk-toggleable__control:checked~label.sk-toggleable__label-arrow:before {content: \"▾\";}#sk-container-id-12 div.sk-estimator input.sk-toggleable__control:checked~label.sk-toggleable__label {background-color: #d4ebff;}#sk-container-id-12 div.sk-label input.sk-toggleable__control:checked~label.sk-toggleable__label {background-color: #d4ebff;}#sk-container-id-12 input.sk-hidden--visually {border: 0;clip: rect(1px 1px 1px 1px);clip: rect(1px, 1px, 1px, 1px);height: 1px;margin: -1px;overflow: hidden;padding: 0;position: absolute;width: 1px;}#sk-container-id-12 div.sk-estimator {font-family: monospace;background-color: #f0f8ff;border: 1px dotted black;border-radius: 0.25em;box-sizing: border-box;margin-bottom: 0.5em;}#sk-container-id-12 div.sk-estimator:hover {background-color: #d4ebff;}#sk-container-id-12 div.sk-parallel-item::after {content: \"\";width: 100%;border-bottom: 1px solid gray;flex-grow: 1;}#sk-container-id-12 div.sk-label:hover label.sk-toggleable__label {background-color: #d4ebff;}#sk-container-id-12 div.sk-serial::before {content: \"\";position: absolute;border-left: 1px solid gray;box-sizing: border-box;top: 0;bottom: 0;left: 50%;z-index: 0;}#sk-container-id-12 div.sk-serial {display: flex;flex-direction: column;align-items: center;background-color: white;padding-right: 0.2em;padding-left: 0.2em;position: relative;}#sk-container-id-12 div.sk-item {position: relative;z-index: 1;}#sk-container-id-12 div.sk-parallel {display: flex;align-items: stretch;justify-content: center;background-color: white;position: relative;}#sk-container-id-12 div.sk-item::before, #sk-container-id-12 div.sk-parallel-item::before {content: \"\";position: absolute;border-left: 1px solid gray;box-sizing: border-box;top: 0;bottom: 0;left: 50%;z-index: -1;}#sk-container-id-12 div.sk-parallel-item {display: flex;flex-direction: column;z-index: 1;position: relative;background-color: white;}#sk-container-id-12 div.sk-parallel-item:first-child::after {align-self: flex-end;width: 50%;}#sk-container-id-12 div.sk-parallel-item:last-child::after {align-self: flex-start;width: 50%;}#sk-container-id-12 div.sk-parallel-item:only-child::after {width: 0;}#sk-container-id-12 div.sk-dashed-wrapped {border: 1px dashed gray;margin: 0 0.4em 0.5em 0.4em;box-sizing: border-box;padding-bottom: 0.4em;background-color: white;}#sk-container-id-12 div.sk-label label {font-family: monospace;font-weight: bold;display: inline-block;line-height: 1.2em;}#sk-container-id-12 div.sk-label-container {text-align: center;}#sk-container-id-12 div.sk-container {/* jupyter's `normalize.less` sets `[hidden] { display: none; }` but bootstrap.min.css set `[hidden] { display: none !important; }` so we also need the `!important` here to be able to override the default hidden behavior on the sphinx rendered scikit-learn.org. See: https://github.com/scikit-learn/scikit-learn/issues/21755 */display: inline-block !important;position: relative;}#sk-container-id-12 div.sk-text-repr-fallback {display: none;}</style><div id=\"sk-container-id-12\" class=\"sk-top-container\"><div class=\"sk-text-repr-fallback\"><pre>GridSearchCV(cv=5, estimator=RandomForestRegressor(n_jobs=-1, random_state=17),\n",
              "             n_jobs=-1,\n",
              "             param_grid={&#x27;max_depth&#x27;: [10, 11, 12, 13, 14, 15, 16, 17, 18, 19,\n",
              "                                       20, 21, 22, 23, 24],\n",
              "                         &#x27;max_features&#x27;: [6, 7, 8, 9, 10, 11]},\n",
              "             scoring=&#x27;neg_mean_squared_error&#x27;, verbose=True)</pre><b>In a Jupyter environment, please rerun this cell to show the HTML representation or trust the notebook. <br />On GitHub, the HTML representation is unable to render, please try loading this page with nbviewer.org.</b></div><div class=\"sk-container\" hidden><div class=\"sk-item sk-dashed-wrapped\"><div class=\"sk-label-container\"><div class=\"sk-label sk-toggleable\"><input class=\"sk-toggleable__control sk-hidden--visually\" id=\"sk-estimator-id-12\" type=\"checkbox\" ><label for=\"sk-estimator-id-12\" class=\"sk-toggleable__label sk-toggleable__label-arrow\">GridSearchCV</label><div class=\"sk-toggleable__content\"><pre>GridSearchCV(cv=5, estimator=RandomForestRegressor(n_jobs=-1, random_state=17),\n",
              "             n_jobs=-1,\n",
              "             param_grid={&#x27;max_depth&#x27;: [10, 11, 12, 13, 14, 15, 16, 17, 18, 19,\n",
              "                                       20, 21, 22, 23, 24],\n",
              "                         &#x27;max_features&#x27;: [6, 7, 8, 9, 10, 11]},\n",
              "             scoring=&#x27;neg_mean_squared_error&#x27;, verbose=True)</pre></div></div></div><div class=\"sk-parallel\"><div class=\"sk-parallel-item\"><div class=\"sk-item\"><div class=\"sk-label-container\"><div class=\"sk-label sk-toggleable\"><input class=\"sk-toggleable__control sk-hidden--visually\" id=\"sk-estimator-id-13\" type=\"checkbox\" ><label for=\"sk-estimator-id-13\" class=\"sk-toggleable__label sk-toggleable__label-arrow\">estimator: RandomForestRegressor</label><div class=\"sk-toggleable__content\"><pre>RandomForestRegressor(n_jobs=-1, random_state=17)</pre></div></div></div><div class=\"sk-serial\"><div class=\"sk-item\"><div class=\"sk-estimator sk-toggleable\"><input class=\"sk-toggleable__control sk-hidden--visually\" id=\"sk-estimator-id-14\" type=\"checkbox\" ><label for=\"sk-estimator-id-14\" class=\"sk-toggleable__label sk-toggleable__label-arrow\">RandomForestRegressor</label><div class=\"sk-toggleable__content\"><pre>RandomForestRegressor(n_jobs=-1, random_state=17)</pre></div></div></div></div></div></div></div></div></div></div>"
            ]
          },
          "metadata": {},
          "execution_count": 107
        }
      ]
    },
    {
      "cell_type": "code",
      "source": [
        "locally_best_forest.best_params_, locally_best_forest.best_score_"
      ],
      "metadata": {
        "id": "OCI9zgEvFVTo",
        "colab": {
          "base_uri": "https://localhost:8080/"
        },
        "outputId": "571fcc46-3f11-4978-8e1a-9c8efd8d6900"
      },
      "execution_count": 108,
      "outputs": [
        {
          "output_type": "execute_result",
          "data": {
            "text/plain": [
              "({'max_depth': 21, 'max_features': 6}, -0.39773288191505934)"
            ]
          },
          "metadata": {},
          "execution_count": 108
        }
      ]
    },
    {
      "cell_type": "code",
      "source": [
        "print(\n",
        "    np.mean(\n",
        "        np.abs(\n",
        "            cross_val_score(\n",
        "                locally_best_forest.best_estimator_,\n",
        "                X_train_scaled,\n",
        "                y_train,\n",
        "                scoring=\"neg_mean_squared_error\",\n",
        "            )\n",
        "        )\n",
        "    )\n",
        ")\n",
        "print(mean_squared_error(y_holdout, locally_best_forest.predict(X_holdout_scaled)))"
      ],
      "metadata": {
        "colab": {
          "base_uri": "https://localhost:8080/"
        },
        "id": "VooxLaMHNpJ2",
        "outputId": "8b73791a-ed70-4243-d6b7-6287505722bf"
      },
      "execution_count": 110,
      "outputs": [
        {
          "output_type": "stream",
          "name": "stdout",
          "text": [
            "0.39773288191505934\n",
            "0.4022405910862694\n"
          ]
        }
      ]
    },
    {
      "cell_type": "code",
      "source": [
        "X_train.columns[np.argmax((locally_best_forest.best_estimator_.feature_importances_))]"
      ],
      "metadata": {
        "colab": {
          "base_uri": "https://localhost:8080/",
          "height": 35
        },
        "id": "UmRHp2IKN0Kl",
        "outputId": "241cfc21-2171-4ac9-a367-e526d5579c6e"
      },
      "execution_count": 113,
      "outputs": [
        {
          "output_type": "execute_result",
          "data": {
            "text/plain": [
              "'alcohol'"
            ],
            "application/vnd.google.colaboratory.intrinsic+json": {
              "type": "string"
            }
          },
          "metadata": {},
          "execution_count": 113
        }
      ]
    },
    {
      "cell_type": "markdown",
      "source": [
        "![image.png](data:image/png;base64,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)"
      ],
      "metadata": {
        "id": "EmWHoNSROvGf"
      }
    },
    {
      "cell_type": "markdown",
      "source": [
        "LEEET'S GOOOO!!!"
      ],
      "metadata": {
        "id": "KVxsv1xBOwMe"
      }
    },
    {
      "cell_type": "markdown",
      "source": [
        "<img src='https://media2.giphy.com/media/v1.Y2lkPTc5MGI3NjExbXl6d2UyanU1OGUwN3Zpbng2cXZ0cDI1MzB5YjNvYXJkcnZsODZuNyZlcD12MV9pbnRlcm5hbF9naWZfYnlfaWQmY3Q9cw/WNcb7X5QHgr9cqWm1S/giphy.gif' width=50%>"
      ],
      "metadata": {
        "id": "y0iHhRdhPCv3"
      }
    },
    {
      "cell_type": "code",
      "source": [],
      "metadata": {
        "id": "Cdg_LAw5OYH1"
      },
      "execution_count": null,
      "outputs": []
    }
  ]
}