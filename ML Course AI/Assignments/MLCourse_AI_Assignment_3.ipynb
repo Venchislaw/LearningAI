{
  "nbformat": 4,
  "nbformat_minor": 0,
  "metadata": {
    "colab": {
      "provenance": []
    },
    "kernelspec": {
      "name": "python3",
      "display_name": "Python 3"
    },
    "language_info": {
      "name": "python"
    }
  },
  "cells": [
    {
      "cell_type": "code",
      "execution_count": 269,
      "metadata": {
        "id": "Fn3yWz1bI1JT"
      },
      "outputs": [],
      "source": [
        "import collections\n",
        "from io import StringIO\n",
        "\n",
        "import numpy as np\n",
        "import pandas as pd\n",
        "import pydotplus  # pip install pydotplus\n",
        "import seaborn as sns\n",
        "from ipywidgets import Image\n",
        "from sklearn import preprocessing\n",
        "from sklearn.ensemble import RandomForestClassifier\n",
        "from sklearn.metrics import accuracy_score\n",
        "from sklearn.model_selection import GridSearchCV\n",
        "from sklearn.preprocessing import LabelEncoder\n",
        "from sklearn.tree import DecisionTreeClassifier, export_graphviz\n",
        "\n",
        "from matplotlib import pyplot as plt\n",
        "plt.rcParams[\"figure.figsize\"] = (10, 8)"
      ]
    },
    {
      "cell_type": "code",
      "source": [
        "import warnings\n",
        "warnings.filterwarnings('ignore')"
      ],
      "metadata": {
        "id": "6klh7UAtTl4n"
      },
      "execution_count": 270,
      "outputs": []
    },
    {
      "cell_type": "markdown",
      "source": [
        "# Creating Dataset"
      ],
      "metadata": {
        "id": "dLZXIAC1JKSX"
      }
    },
    {
      "cell_type": "code",
      "source": [
        "# Create dataframe with dummy variables\n",
        "def create_df(dic, feature_list):\n",
        "    out = pd.DataFrame(dic)\n",
        "    out = pd.concat([out, pd.get_dummies(out[feature_list])], axis=1)\n",
        "    out.drop(feature_list, axis=1, inplace=True)\n",
        "    return out\n",
        "\n",
        "\n",
        "# Some feature values are present in train and absent in test and vice-versa.\n",
        "def intersect_features(train, test):\n",
        "    common_feat = list(set(train.keys()) & set(test.keys()))\n",
        "    return train[common_feat], test[common_feat]"
      ],
      "metadata": {
        "id": "P9kCTq_eI6vg"
      },
      "execution_count": 271,
      "outputs": []
    },
    {
      "cell_type": "code",
      "source": [
        "features = [\"Looks\", \"Alcoholic_beverage\", \"Eloquence\", \"Money_spent\"]"
      ],
      "metadata": {
        "id": "12HRODYpJMEn"
      },
      "execution_count": 272,
      "outputs": []
    },
    {
      "cell_type": "code",
      "source": [
        "df_train = {}\n",
        "df_train[\"Looks\"] = [\n",
        "    \"handsome\",\n",
        "    \"handsome\",\n",
        "    \"handsome\",\n",
        "    \"repulsive\",\n",
        "    \"repulsive\",\n",
        "    \"repulsive\",\n",
        "    \"handsome\",\n",
        "]\n",
        "df_train[\"Alcoholic_beverage\"] = [\"yes\", \"yes\", \"no\", \"no\", \"yes\", \"yes\", \"yes\"]\n",
        "df_train[\"Eloquence\"] = [\"high\", \"low\", \"average\", \"average\", \"low\", \"high\", \"average\"]\n",
        "df_train[\"Money_spent\"] = [\"lots\", \"little\", \"lots\", \"little\", \"lots\", \"lots\", \"lots\"]\n",
        "df_train[\"Will_go\"] = LabelEncoder().fit_transform([\"+\", \"-\", \"+\", \"-\", \"-\", \"+\", \"+\"])\n",
        "\n",
        "df_train = create_df(df_train, features)\n",
        "df_train"
      ],
      "metadata": {
        "colab": {
          "base_uri": "https://localhost:8080/",
          "height": 269
        },
        "id": "afdCwLF0JNL3",
        "outputId": "b6bcc92b-17ff-45da-a74d-efbbfba636b2"
      },
      "execution_count": 273,
      "outputs": [
        {
          "output_type": "execute_result",
          "data": {
            "text/plain": [
              "   Will_go  Looks_handsome  Looks_repulsive  Alcoholic_beverage_no  \\\n",
              "0        0            True            False                  False   \n",
              "1        1            True            False                  False   \n",
              "2        0            True            False                   True   \n",
              "3        1           False             True                   True   \n",
              "4        1           False             True                  False   \n",
              "5        0           False             True                  False   \n",
              "6        0            True            False                  False   \n",
              "\n",
              "   Alcoholic_beverage_yes  Eloquence_average  Eloquence_high  Eloquence_low  \\\n",
              "0                    True              False            True          False   \n",
              "1                    True              False           False           True   \n",
              "2                   False               True           False          False   \n",
              "3                   False               True           False          False   \n",
              "4                    True              False           False           True   \n",
              "5                    True              False            True          False   \n",
              "6                    True               True           False          False   \n",
              "\n",
              "   Money_spent_little  Money_spent_lots  \n",
              "0               False              True  \n",
              "1                True             False  \n",
              "2               False              True  \n",
              "3                True             False  \n",
              "4               False              True  \n",
              "5               False              True  \n",
              "6               False              True  "
            ],
            "text/html": [
              "\n",
              "  <div id=\"df-7a8030de-2f58-469a-8be3-2984f4b36d71\" class=\"colab-df-container\">\n",
              "    <div>\n",
              "<style scoped>\n",
              "    .dataframe tbody tr th:only-of-type {\n",
              "        vertical-align: middle;\n",
              "    }\n",
              "\n",
              "    .dataframe tbody tr th {\n",
              "        vertical-align: top;\n",
              "    }\n",
              "\n",
              "    .dataframe thead th {\n",
              "        text-align: right;\n",
              "    }\n",
              "</style>\n",
              "<table border=\"1\" class=\"dataframe\">\n",
              "  <thead>\n",
              "    <tr style=\"text-align: right;\">\n",
              "      <th></th>\n",
              "      <th>Will_go</th>\n",
              "      <th>Looks_handsome</th>\n",
              "      <th>Looks_repulsive</th>\n",
              "      <th>Alcoholic_beverage_no</th>\n",
              "      <th>Alcoholic_beverage_yes</th>\n",
              "      <th>Eloquence_average</th>\n",
              "      <th>Eloquence_high</th>\n",
              "      <th>Eloquence_low</th>\n",
              "      <th>Money_spent_little</th>\n",
              "      <th>Money_spent_lots</th>\n",
              "    </tr>\n",
              "  </thead>\n",
              "  <tbody>\n",
              "    <tr>\n",
              "      <th>0</th>\n",
              "      <td>0</td>\n",
              "      <td>True</td>\n",
              "      <td>False</td>\n",
              "      <td>False</td>\n",
              "      <td>True</td>\n",
              "      <td>False</td>\n",
              "      <td>True</td>\n",
              "      <td>False</td>\n",
              "      <td>False</td>\n",
              "      <td>True</td>\n",
              "    </tr>\n",
              "    <tr>\n",
              "      <th>1</th>\n",
              "      <td>1</td>\n",
              "      <td>True</td>\n",
              "      <td>False</td>\n",
              "      <td>False</td>\n",
              "      <td>True</td>\n",
              "      <td>False</td>\n",
              "      <td>False</td>\n",
              "      <td>True</td>\n",
              "      <td>True</td>\n",
              "      <td>False</td>\n",
              "    </tr>\n",
              "    <tr>\n",
              "      <th>2</th>\n",
              "      <td>0</td>\n",
              "      <td>True</td>\n",
              "      <td>False</td>\n",
              "      <td>True</td>\n",
              "      <td>False</td>\n",
              "      <td>True</td>\n",
              "      <td>False</td>\n",
              "      <td>False</td>\n",
              "      <td>False</td>\n",
              "      <td>True</td>\n",
              "    </tr>\n",
              "    <tr>\n",
              "      <th>3</th>\n",
              "      <td>1</td>\n",
              "      <td>False</td>\n",
              "      <td>True</td>\n",
              "      <td>True</td>\n",
              "      <td>False</td>\n",
              "      <td>True</td>\n",
              "      <td>False</td>\n",
              "      <td>False</td>\n",
              "      <td>True</td>\n",
              "      <td>False</td>\n",
              "    </tr>\n",
              "    <tr>\n",
              "      <th>4</th>\n",
              "      <td>1</td>\n",
              "      <td>False</td>\n",
              "      <td>True</td>\n",
              "      <td>False</td>\n",
              "      <td>True</td>\n",
              "      <td>False</td>\n",
              "      <td>False</td>\n",
              "      <td>True</td>\n",
              "      <td>False</td>\n",
              "      <td>True</td>\n",
              "    </tr>\n",
              "    <tr>\n",
              "      <th>5</th>\n",
              "      <td>0</td>\n",
              "      <td>False</td>\n",
              "      <td>True</td>\n",
              "      <td>False</td>\n",
              "      <td>True</td>\n",
              "      <td>False</td>\n",
              "      <td>True</td>\n",
              "      <td>False</td>\n",
              "      <td>False</td>\n",
              "      <td>True</td>\n",
              "    </tr>\n",
              "    <tr>\n",
              "      <th>6</th>\n",
              "      <td>0</td>\n",
              "      <td>True</td>\n",
              "      <td>False</td>\n",
              "      <td>False</td>\n",
              "      <td>True</td>\n",
              "      <td>True</td>\n",
              "      <td>False</td>\n",
              "      <td>False</td>\n",
              "      <td>False</td>\n",
              "      <td>True</td>\n",
              "    </tr>\n",
              "  </tbody>\n",
              "</table>\n",
              "</div>\n",
              "    <div class=\"colab-df-buttons\">\n",
              "\n",
              "  <div class=\"colab-df-container\">\n",
              "    <button class=\"colab-df-convert\" onclick=\"convertToInteractive('df-7a8030de-2f58-469a-8be3-2984f4b36d71')\"\n",
              "            title=\"Convert this dataframe to an interactive table.\"\n",
              "            style=\"display:none;\">\n",
              "\n",
              "  <svg xmlns=\"http://www.w3.org/2000/svg\" height=\"24px\" viewBox=\"0 -960 960 960\">\n",
              "    <path d=\"M120-120v-720h720v720H120Zm60-500h600v-160H180v160Zm220 220h160v-160H400v160Zm0 220h160v-160H400v160ZM180-400h160v-160H180v160Zm440 0h160v-160H620v160ZM180-180h160v-160H180v160Zm440 0h160v-160H620v160Z\"/>\n",
              "  </svg>\n",
              "    </button>\n",
              "\n",
              "  <style>\n",
              "    .colab-df-container {\n",
              "      display:flex;\n",
              "      gap: 12px;\n",
              "    }\n",
              "\n",
              "    .colab-df-convert {\n",
              "      background-color: #E8F0FE;\n",
              "      border: none;\n",
              "      border-radius: 50%;\n",
              "      cursor: pointer;\n",
              "      display: none;\n",
              "      fill: #1967D2;\n",
              "      height: 32px;\n",
              "      padding: 0 0 0 0;\n",
              "      width: 32px;\n",
              "    }\n",
              "\n",
              "    .colab-df-convert:hover {\n",
              "      background-color: #E2EBFA;\n",
              "      box-shadow: 0px 1px 2px rgba(60, 64, 67, 0.3), 0px 1px 3px 1px rgba(60, 64, 67, 0.15);\n",
              "      fill: #174EA6;\n",
              "    }\n",
              "\n",
              "    .colab-df-buttons div {\n",
              "      margin-bottom: 4px;\n",
              "    }\n",
              "\n",
              "    [theme=dark] .colab-df-convert {\n",
              "      background-color: #3B4455;\n",
              "      fill: #D2E3FC;\n",
              "    }\n",
              "\n",
              "    [theme=dark] .colab-df-convert:hover {\n",
              "      background-color: #434B5C;\n",
              "      box-shadow: 0px 1px 3px 1px rgba(0, 0, 0, 0.15);\n",
              "      filter: drop-shadow(0px 1px 2px rgba(0, 0, 0, 0.3));\n",
              "      fill: #FFFFFF;\n",
              "    }\n",
              "  </style>\n",
              "\n",
              "    <script>\n",
              "      const buttonEl =\n",
              "        document.querySelector('#df-7a8030de-2f58-469a-8be3-2984f4b36d71 button.colab-df-convert');\n",
              "      buttonEl.style.display =\n",
              "        google.colab.kernel.accessAllowed ? 'block' : 'none';\n",
              "\n",
              "      async function convertToInteractive(key) {\n",
              "        const element = document.querySelector('#df-7a8030de-2f58-469a-8be3-2984f4b36d71');\n",
              "        const dataTable =\n",
              "          await google.colab.kernel.invokeFunction('convertToInteractive',\n",
              "                                                    [key], {});\n",
              "        if (!dataTable) return;\n",
              "\n",
              "        const docLinkHtml = 'Like what you see? Visit the ' +\n",
              "          '<a target=\"_blank\" href=https://colab.research.google.com/notebooks/data_table.ipynb>data table notebook</a>'\n",
              "          + ' to learn more about interactive tables.';\n",
              "        element.innerHTML = '';\n",
              "        dataTable['output_type'] = 'display_data';\n",
              "        await google.colab.output.renderOutput(dataTable, element);\n",
              "        const docLink = document.createElement('div');\n",
              "        docLink.innerHTML = docLinkHtml;\n",
              "        element.appendChild(docLink);\n",
              "      }\n",
              "    </script>\n",
              "  </div>\n",
              "\n",
              "\n",
              "<div id=\"df-098063c5-174e-4f1a-a675-f9a1e918601b\">\n",
              "  <button class=\"colab-df-quickchart\" onclick=\"quickchart('df-098063c5-174e-4f1a-a675-f9a1e918601b')\"\n",
              "            title=\"Suggest charts\"\n",
              "            style=\"display:none;\">\n",
              "\n",
              "<svg xmlns=\"http://www.w3.org/2000/svg\" height=\"24px\"viewBox=\"0 0 24 24\"\n",
              "     width=\"24px\">\n",
              "    <g>\n",
              "        <path d=\"M19 3H5c-1.1 0-2 .9-2 2v14c0 1.1.9 2 2 2h14c1.1 0 2-.9 2-2V5c0-1.1-.9-2-2-2zM9 17H7v-7h2v7zm4 0h-2V7h2v10zm4 0h-2v-4h2v4z\"/>\n",
              "    </g>\n",
              "</svg>\n",
              "  </button>\n",
              "\n",
              "<style>\n",
              "  .colab-df-quickchart {\n",
              "      --bg-color: #E8F0FE;\n",
              "      --fill-color: #1967D2;\n",
              "      --hover-bg-color: #E2EBFA;\n",
              "      --hover-fill-color: #174EA6;\n",
              "      --disabled-fill-color: #AAA;\n",
              "      --disabled-bg-color: #DDD;\n",
              "  }\n",
              "\n",
              "  [theme=dark] .colab-df-quickchart {\n",
              "      --bg-color: #3B4455;\n",
              "      --fill-color: #D2E3FC;\n",
              "      --hover-bg-color: #434B5C;\n",
              "      --hover-fill-color: #FFFFFF;\n",
              "      --disabled-bg-color: #3B4455;\n",
              "      --disabled-fill-color: #666;\n",
              "  }\n",
              "\n",
              "  .colab-df-quickchart {\n",
              "    background-color: var(--bg-color);\n",
              "    border: none;\n",
              "    border-radius: 50%;\n",
              "    cursor: pointer;\n",
              "    display: none;\n",
              "    fill: var(--fill-color);\n",
              "    height: 32px;\n",
              "    padding: 0;\n",
              "    width: 32px;\n",
              "  }\n",
              "\n",
              "  .colab-df-quickchart:hover {\n",
              "    background-color: var(--hover-bg-color);\n",
              "    box-shadow: 0 1px 2px rgba(60, 64, 67, 0.3), 0 1px 3px 1px rgba(60, 64, 67, 0.15);\n",
              "    fill: var(--button-hover-fill-color);\n",
              "  }\n",
              "\n",
              "  .colab-df-quickchart-complete:disabled,\n",
              "  .colab-df-quickchart-complete:disabled:hover {\n",
              "    background-color: var(--disabled-bg-color);\n",
              "    fill: var(--disabled-fill-color);\n",
              "    box-shadow: none;\n",
              "  }\n",
              "\n",
              "  .colab-df-spinner {\n",
              "    border: 2px solid var(--fill-color);\n",
              "    border-color: transparent;\n",
              "    border-bottom-color: var(--fill-color);\n",
              "    animation:\n",
              "      spin 1s steps(1) infinite;\n",
              "  }\n",
              "\n",
              "  @keyframes spin {\n",
              "    0% {\n",
              "      border-color: transparent;\n",
              "      border-bottom-color: var(--fill-color);\n",
              "      border-left-color: var(--fill-color);\n",
              "    }\n",
              "    20% {\n",
              "      border-color: transparent;\n",
              "      border-left-color: var(--fill-color);\n",
              "      border-top-color: var(--fill-color);\n",
              "    }\n",
              "    30% {\n",
              "      border-color: transparent;\n",
              "      border-left-color: var(--fill-color);\n",
              "      border-top-color: var(--fill-color);\n",
              "      border-right-color: var(--fill-color);\n",
              "    }\n",
              "    40% {\n",
              "      border-color: transparent;\n",
              "      border-right-color: var(--fill-color);\n",
              "      border-top-color: var(--fill-color);\n",
              "    }\n",
              "    60% {\n",
              "      border-color: transparent;\n",
              "      border-right-color: var(--fill-color);\n",
              "    }\n",
              "    80% {\n",
              "      border-color: transparent;\n",
              "      border-right-color: var(--fill-color);\n",
              "      border-bottom-color: var(--fill-color);\n",
              "    }\n",
              "    90% {\n",
              "      border-color: transparent;\n",
              "      border-bottom-color: var(--fill-color);\n",
              "    }\n",
              "  }\n",
              "</style>\n",
              "\n",
              "  <script>\n",
              "    async function quickchart(key) {\n",
              "      const quickchartButtonEl =\n",
              "        document.querySelector('#' + key + ' button');\n",
              "      quickchartButtonEl.disabled = true;  // To prevent multiple clicks.\n",
              "      quickchartButtonEl.classList.add('colab-df-spinner');\n",
              "      try {\n",
              "        const charts = await google.colab.kernel.invokeFunction(\n",
              "            'suggestCharts', [key], {});\n",
              "      } catch (error) {\n",
              "        console.error('Error during call to suggestCharts:', error);\n",
              "      }\n",
              "      quickchartButtonEl.classList.remove('colab-df-spinner');\n",
              "      quickchartButtonEl.classList.add('colab-df-quickchart-complete');\n",
              "    }\n",
              "    (() => {\n",
              "      let quickchartButtonEl =\n",
              "        document.querySelector('#df-098063c5-174e-4f1a-a675-f9a1e918601b button');\n",
              "      quickchartButtonEl.style.display =\n",
              "        google.colab.kernel.accessAllowed ? 'block' : 'none';\n",
              "    })();\n",
              "  </script>\n",
              "</div>\n",
              "    </div>\n",
              "  </div>\n"
            ],
            "application/vnd.google.colaboratory.intrinsic+json": {
              "type": "dataframe",
              "variable_name": "df_train",
              "summary": "{\n  \"name\": \"df_train\",\n  \"rows\": 7,\n  \"fields\": [\n    {\n      \"column\": \"Will_go\",\n      \"properties\": {\n        \"dtype\": \"number\",\n        \"std\": 0,\n        \"min\": 0,\n        \"max\": 1,\n        \"num_unique_values\": 2,\n        \"samples\": [\n          1,\n          0\n        ],\n        \"semantic_type\": \"\",\n        \"description\": \"\"\n      }\n    },\n    {\n      \"column\": \"Looks_handsome\",\n      \"properties\": {\n        \"dtype\": \"boolean\",\n        \"num_unique_values\": 2,\n        \"samples\": [\n          false,\n          true\n        ],\n        \"semantic_type\": \"\",\n        \"description\": \"\"\n      }\n    },\n    {\n      \"column\": \"Looks_repulsive\",\n      \"properties\": {\n        \"dtype\": \"boolean\",\n        \"num_unique_values\": 2,\n        \"samples\": [\n          true,\n          false\n        ],\n        \"semantic_type\": \"\",\n        \"description\": \"\"\n      }\n    },\n    {\n      \"column\": \"Alcoholic_beverage_no\",\n      \"properties\": {\n        \"dtype\": \"boolean\",\n        \"num_unique_values\": 2,\n        \"samples\": [\n          true,\n          false\n        ],\n        \"semantic_type\": \"\",\n        \"description\": \"\"\n      }\n    },\n    {\n      \"column\": \"Alcoholic_beverage_yes\",\n      \"properties\": {\n        \"dtype\": \"boolean\",\n        \"num_unique_values\": 2,\n        \"samples\": [\n          false,\n          true\n        ],\n        \"semantic_type\": \"\",\n        \"description\": \"\"\n      }\n    },\n    {\n      \"column\": \"Eloquence_average\",\n      \"properties\": {\n        \"dtype\": \"boolean\",\n        \"num_unique_values\": 2,\n        \"samples\": [\n          true,\n          false\n        ],\n        \"semantic_type\": \"\",\n        \"description\": \"\"\n      }\n    },\n    {\n      \"column\": \"Eloquence_high\",\n      \"properties\": {\n        \"dtype\": \"boolean\",\n        \"num_unique_values\": 2,\n        \"samples\": [\n          false,\n          true\n        ],\n        \"semantic_type\": \"\",\n        \"description\": \"\"\n      }\n    },\n    {\n      \"column\": \"Eloquence_low\",\n      \"properties\": {\n        \"dtype\": \"boolean\",\n        \"num_unique_values\": 2,\n        \"samples\": [\n          true,\n          false\n        ],\n        \"semantic_type\": \"\",\n        \"description\": \"\"\n      }\n    },\n    {\n      \"column\": \"Money_spent_little\",\n      \"properties\": {\n        \"dtype\": \"boolean\",\n        \"num_unique_values\": 2,\n        \"samples\": [\n          true,\n          false\n        ],\n        \"semantic_type\": \"\",\n        \"description\": \"\"\n      }\n    },\n    {\n      \"column\": \"Money_spent_lots\",\n      \"properties\": {\n        \"dtype\": \"boolean\",\n        \"num_unique_values\": 2,\n        \"samples\": [\n          false,\n          true\n        ],\n        \"semantic_type\": \"\",\n        \"description\": \"\"\n      }\n    }\n  ]\n}"
            }
          },
          "metadata": {},
          "execution_count": 273
        }
      ]
    },
    {
      "cell_type": "code",
      "source": [
        "df_test = {}\n",
        "df_test[\"Looks\"] = [\"handsome\", \"handsome\", \"repulsive\"]\n",
        "df_test[\"Alcoholic_beverage\"] = [\"no\", \"yes\", \"yes\"]\n",
        "df_test[\"Eloquence\"] = [\"average\", \"high\", \"average\"]\n",
        "df_test[\"Money_spent\"] = [\"lots\", \"little\", \"lots\"]\n",
        "df_test = create_df(df_test, features)\n",
        "df_test"
      ],
      "metadata": {
        "colab": {
          "base_uri": "https://localhost:8080/",
          "height": 144
        },
        "id": "E-abK4ufJOnv",
        "outputId": "c6cde899-3471-4d0a-ee5e-efc38b263f1e"
      },
      "execution_count": 274,
      "outputs": [
        {
          "output_type": "execute_result",
          "data": {
            "text/plain": [
              "   Looks_handsome  Looks_repulsive  Alcoholic_beverage_no  \\\n",
              "0            True            False                   True   \n",
              "1            True            False                  False   \n",
              "2           False             True                  False   \n",
              "\n",
              "   Alcoholic_beverage_yes  Eloquence_average  Eloquence_high  \\\n",
              "0                   False               True           False   \n",
              "1                    True              False            True   \n",
              "2                    True               True           False   \n",
              "\n",
              "   Money_spent_little  Money_spent_lots  \n",
              "0               False              True  \n",
              "1                True             False  \n",
              "2               False              True  "
            ],
            "text/html": [
              "\n",
              "  <div id=\"df-23adc4f3-3c72-4ba0-a4e2-7c563cd8a0ad\" class=\"colab-df-container\">\n",
              "    <div>\n",
              "<style scoped>\n",
              "    .dataframe tbody tr th:only-of-type {\n",
              "        vertical-align: middle;\n",
              "    }\n",
              "\n",
              "    .dataframe tbody tr th {\n",
              "        vertical-align: top;\n",
              "    }\n",
              "\n",
              "    .dataframe thead th {\n",
              "        text-align: right;\n",
              "    }\n",
              "</style>\n",
              "<table border=\"1\" class=\"dataframe\">\n",
              "  <thead>\n",
              "    <tr style=\"text-align: right;\">\n",
              "      <th></th>\n",
              "      <th>Looks_handsome</th>\n",
              "      <th>Looks_repulsive</th>\n",
              "      <th>Alcoholic_beverage_no</th>\n",
              "      <th>Alcoholic_beverage_yes</th>\n",
              "      <th>Eloquence_average</th>\n",
              "      <th>Eloquence_high</th>\n",
              "      <th>Money_spent_little</th>\n",
              "      <th>Money_spent_lots</th>\n",
              "    </tr>\n",
              "  </thead>\n",
              "  <tbody>\n",
              "    <tr>\n",
              "      <th>0</th>\n",
              "      <td>True</td>\n",
              "      <td>False</td>\n",
              "      <td>True</td>\n",
              "      <td>False</td>\n",
              "      <td>True</td>\n",
              "      <td>False</td>\n",
              "      <td>False</td>\n",
              "      <td>True</td>\n",
              "    </tr>\n",
              "    <tr>\n",
              "      <th>1</th>\n",
              "      <td>True</td>\n",
              "      <td>False</td>\n",
              "      <td>False</td>\n",
              "      <td>True</td>\n",
              "      <td>False</td>\n",
              "      <td>True</td>\n",
              "      <td>True</td>\n",
              "      <td>False</td>\n",
              "    </tr>\n",
              "    <tr>\n",
              "      <th>2</th>\n",
              "      <td>False</td>\n",
              "      <td>True</td>\n",
              "      <td>False</td>\n",
              "      <td>True</td>\n",
              "      <td>True</td>\n",
              "      <td>False</td>\n",
              "      <td>False</td>\n",
              "      <td>True</td>\n",
              "    </tr>\n",
              "  </tbody>\n",
              "</table>\n",
              "</div>\n",
              "    <div class=\"colab-df-buttons\">\n",
              "\n",
              "  <div class=\"colab-df-container\">\n",
              "    <button class=\"colab-df-convert\" onclick=\"convertToInteractive('df-23adc4f3-3c72-4ba0-a4e2-7c563cd8a0ad')\"\n",
              "            title=\"Convert this dataframe to an interactive table.\"\n",
              "            style=\"display:none;\">\n",
              "\n",
              "  <svg xmlns=\"http://www.w3.org/2000/svg\" height=\"24px\" viewBox=\"0 -960 960 960\">\n",
              "    <path d=\"M120-120v-720h720v720H120Zm60-500h600v-160H180v160Zm220 220h160v-160H400v160Zm0 220h160v-160H400v160ZM180-400h160v-160H180v160Zm440 0h160v-160H620v160ZM180-180h160v-160H180v160Zm440 0h160v-160H620v160Z\"/>\n",
              "  </svg>\n",
              "    </button>\n",
              "\n",
              "  <style>\n",
              "    .colab-df-container {\n",
              "      display:flex;\n",
              "      gap: 12px;\n",
              "    }\n",
              "\n",
              "    .colab-df-convert {\n",
              "      background-color: #E8F0FE;\n",
              "      border: none;\n",
              "      border-radius: 50%;\n",
              "      cursor: pointer;\n",
              "      display: none;\n",
              "      fill: #1967D2;\n",
              "      height: 32px;\n",
              "      padding: 0 0 0 0;\n",
              "      width: 32px;\n",
              "    }\n",
              "\n",
              "    .colab-df-convert:hover {\n",
              "      background-color: #E2EBFA;\n",
              "      box-shadow: 0px 1px 2px rgba(60, 64, 67, 0.3), 0px 1px 3px 1px rgba(60, 64, 67, 0.15);\n",
              "      fill: #174EA6;\n",
              "    }\n",
              "\n",
              "    .colab-df-buttons div {\n",
              "      margin-bottom: 4px;\n",
              "    }\n",
              "\n",
              "    [theme=dark] .colab-df-convert {\n",
              "      background-color: #3B4455;\n",
              "      fill: #D2E3FC;\n",
              "    }\n",
              "\n",
              "    [theme=dark] .colab-df-convert:hover {\n",
              "      background-color: #434B5C;\n",
              "      box-shadow: 0px 1px 3px 1px rgba(0, 0, 0, 0.15);\n",
              "      filter: drop-shadow(0px 1px 2px rgba(0, 0, 0, 0.3));\n",
              "      fill: #FFFFFF;\n",
              "    }\n",
              "  </style>\n",
              "\n",
              "    <script>\n",
              "      const buttonEl =\n",
              "        document.querySelector('#df-23adc4f3-3c72-4ba0-a4e2-7c563cd8a0ad button.colab-df-convert');\n",
              "      buttonEl.style.display =\n",
              "        google.colab.kernel.accessAllowed ? 'block' : 'none';\n",
              "\n",
              "      async function convertToInteractive(key) {\n",
              "        const element = document.querySelector('#df-23adc4f3-3c72-4ba0-a4e2-7c563cd8a0ad');\n",
              "        const dataTable =\n",
              "          await google.colab.kernel.invokeFunction('convertToInteractive',\n",
              "                                                    [key], {});\n",
              "        if (!dataTable) return;\n",
              "\n",
              "        const docLinkHtml = 'Like what you see? Visit the ' +\n",
              "          '<a target=\"_blank\" href=https://colab.research.google.com/notebooks/data_table.ipynb>data table notebook</a>'\n",
              "          + ' to learn more about interactive tables.';\n",
              "        element.innerHTML = '';\n",
              "        dataTable['output_type'] = 'display_data';\n",
              "        await google.colab.output.renderOutput(dataTable, element);\n",
              "        const docLink = document.createElement('div');\n",
              "        docLink.innerHTML = docLinkHtml;\n",
              "        element.appendChild(docLink);\n",
              "      }\n",
              "    </script>\n",
              "  </div>\n",
              "\n",
              "\n",
              "<div id=\"df-8fab2b07-09fb-45a6-b99e-645282ea9478\">\n",
              "  <button class=\"colab-df-quickchart\" onclick=\"quickchart('df-8fab2b07-09fb-45a6-b99e-645282ea9478')\"\n",
              "            title=\"Suggest charts\"\n",
              "            style=\"display:none;\">\n",
              "\n",
              "<svg xmlns=\"http://www.w3.org/2000/svg\" height=\"24px\"viewBox=\"0 0 24 24\"\n",
              "     width=\"24px\">\n",
              "    <g>\n",
              "        <path d=\"M19 3H5c-1.1 0-2 .9-2 2v14c0 1.1.9 2 2 2h14c1.1 0 2-.9 2-2V5c0-1.1-.9-2-2-2zM9 17H7v-7h2v7zm4 0h-2V7h2v10zm4 0h-2v-4h2v4z\"/>\n",
              "    </g>\n",
              "</svg>\n",
              "  </button>\n",
              "\n",
              "<style>\n",
              "  .colab-df-quickchart {\n",
              "      --bg-color: #E8F0FE;\n",
              "      --fill-color: #1967D2;\n",
              "      --hover-bg-color: #E2EBFA;\n",
              "      --hover-fill-color: #174EA6;\n",
              "      --disabled-fill-color: #AAA;\n",
              "      --disabled-bg-color: #DDD;\n",
              "  }\n",
              "\n",
              "  [theme=dark] .colab-df-quickchart {\n",
              "      --bg-color: #3B4455;\n",
              "      --fill-color: #D2E3FC;\n",
              "      --hover-bg-color: #434B5C;\n",
              "      --hover-fill-color: #FFFFFF;\n",
              "      --disabled-bg-color: #3B4455;\n",
              "      --disabled-fill-color: #666;\n",
              "  }\n",
              "\n",
              "  .colab-df-quickchart {\n",
              "    background-color: var(--bg-color);\n",
              "    border: none;\n",
              "    border-radius: 50%;\n",
              "    cursor: pointer;\n",
              "    display: none;\n",
              "    fill: var(--fill-color);\n",
              "    height: 32px;\n",
              "    padding: 0;\n",
              "    width: 32px;\n",
              "  }\n",
              "\n",
              "  .colab-df-quickchart:hover {\n",
              "    background-color: var(--hover-bg-color);\n",
              "    box-shadow: 0 1px 2px rgba(60, 64, 67, 0.3), 0 1px 3px 1px rgba(60, 64, 67, 0.15);\n",
              "    fill: var(--button-hover-fill-color);\n",
              "  }\n",
              "\n",
              "  .colab-df-quickchart-complete:disabled,\n",
              "  .colab-df-quickchart-complete:disabled:hover {\n",
              "    background-color: var(--disabled-bg-color);\n",
              "    fill: var(--disabled-fill-color);\n",
              "    box-shadow: none;\n",
              "  }\n",
              "\n",
              "  .colab-df-spinner {\n",
              "    border: 2px solid var(--fill-color);\n",
              "    border-color: transparent;\n",
              "    border-bottom-color: var(--fill-color);\n",
              "    animation:\n",
              "      spin 1s steps(1) infinite;\n",
              "  }\n",
              "\n",
              "  @keyframes spin {\n",
              "    0% {\n",
              "      border-color: transparent;\n",
              "      border-bottom-color: var(--fill-color);\n",
              "      border-left-color: var(--fill-color);\n",
              "    }\n",
              "    20% {\n",
              "      border-color: transparent;\n",
              "      border-left-color: var(--fill-color);\n",
              "      border-top-color: var(--fill-color);\n",
              "    }\n",
              "    30% {\n",
              "      border-color: transparent;\n",
              "      border-left-color: var(--fill-color);\n",
              "      border-top-color: var(--fill-color);\n",
              "      border-right-color: var(--fill-color);\n",
              "    }\n",
              "    40% {\n",
              "      border-color: transparent;\n",
              "      border-right-color: var(--fill-color);\n",
              "      border-top-color: var(--fill-color);\n",
              "    }\n",
              "    60% {\n",
              "      border-color: transparent;\n",
              "      border-right-color: var(--fill-color);\n",
              "    }\n",
              "    80% {\n",
              "      border-color: transparent;\n",
              "      border-right-color: var(--fill-color);\n",
              "      border-bottom-color: var(--fill-color);\n",
              "    }\n",
              "    90% {\n",
              "      border-color: transparent;\n",
              "      border-bottom-color: var(--fill-color);\n",
              "    }\n",
              "  }\n",
              "</style>\n",
              "\n",
              "  <script>\n",
              "    async function quickchart(key) {\n",
              "      const quickchartButtonEl =\n",
              "        document.querySelector('#' + key + ' button');\n",
              "      quickchartButtonEl.disabled = true;  // To prevent multiple clicks.\n",
              "      quickchartButtonEl.classList.add('colab-df-spinner');\n",
              "      try {\n",
              "        const charts = await google.colab.kernel.invokeFunction(\n",
              "            'suggestCharts', [key], {});\n",
              "      } catch (error) {\n",
              "        console.error('Error during call to suggestCharts:', error);\n",
              "      }\n",
              "      quickchartButtonEl.classList.remove('colab-df-spinner');\n",
              "      quickchartButtonEl.classList.add('colab-df-quickchart-complete');\n",
              "    }\n",
              "    (() => {\n",
              "      let quickchartButtonEl =\n",
              "        document.querySelector('#df-8fab2b07-09fb-45a6-b99e-645282ea9478 button');\n",
              "      quickchartButtonEl.style.display =\n",
              "        google.colab.kernel.accessAllowed ? 'block' : 'none';\n",
              "    })();\n",
              "  </script>\n",
              "</div>\n",
              "    </div>\n",
              "  </div>\n"
            ],
            "application/vnd.google.colaboratory.intrinsic+json": {
              "type": "dataframe",
              "variable_name": "df_test",
              "summary": "{\n  \"name\": \"df_test\",\n  \"rows\": 3,\n  \"fields\": [\n    {\n      \"column\": \"Looks_handsome\",\n      \"properties\": {\n        \"dtype\": \"boolean\",\n        \"num_unique_values\": 2,\n        \"samples\": [\n          false,\n          true\n        ],\n        \"semantic_type\": \"\",\n        \"description\": \"\"\n      }\n    },\n    {\n      \"column\": \"Looks_repulsive\",\n      \"properties\": {\n        \"dtype\": \"boolean\",\n        \"num_unique_values\": 2,\n        \"samples\": [\n          true,\n          false\n        ],\n        \"semantic_type\": \"\",\n        \"description\": \"\"\n      }\n    },\n    {\n      \"column\": \"Alcoholic_beverage_no\",\n      \"properties\": {\n        \"dtype\": \"boolean\",\n        \"num_unique_values\": 2,\n        \"samples\": [\n          false,\n          true\n        ],\n        \"semantic_type\": \"\",\n        \"description\": \"\"\n      }\n    },\n    {\n      \"column\": \"Alcoholic_beverage_yes\",\n      \"properties\": {\n        \"dtype\": \"boolean\",\n        \"num_unique_values\": 2,\n        \"samples\": [\n          true,\n          false\n        ],\n        \"semantic_type\": \"\",\n        \"description\": \"\"\n      }\n    },\n    {\n      \"column\": \"Eloquence_average\",\n      \"properties\": {\n        \"dtype\": \"boolean\",\n        \"num_unique_values\": 2,\n        \"samples\": [\n          false,\n          true\n        ],\n        \"semantic_type\": \"\",\n        \"description\": \"\"\n      }\n    },\n    {\n      \"column\": \"Eloquence_high\",\n      \"properties\": {\n        \"dtype\": \"boolean\",\n        \"num_unique_values\": 2,\n        \"samples\": [\n          true,\n          false\n        ],\n        \"semantic_type\": \"\",\n        \"description\": \"\"\n      }\n    },\n    {\n      \"column\": \"Money_spent_little\",\n      \"properties\": {\n        \"dtype\": \"boolean\",\n        \"num_unique_values\": 2,\n        \"samples\": [\n          true,\n          false\n        ],\n        \"semantic_type\": \"\",\n        \"description\": \"\"\n      }\n    },\n    {\n      \"column\": \"Money_spent_lots\",\n      \"properties\": {\n        \"dtype\": \"boolean\",\n        \"num_unique_values\": 2,\n        \"samples\": [\n          false,\n          true\n        ],\n        \"semantic_type\": \"\",\n        \"description\": \"\"\n      }\n    }\n  ]\n}"
            }
          },
          "metadata": {},
          "execution_count": 274
        }
      ]
    },
    {
      "cell_type": "code",
      "source": [
        "# Some feature values are present in train and absent in test and vice-versa.\n",
        "y = df_train[\"Will_go\"]\n",
        "df_train, df_test = intersect_features(train=df_train, test=df_test)\n",
        "df_train"
      ],
      "metadata": {
        "colab": {
          "base_uri": "https://localhost:8080/",
          "height": 269
        },
        "id": "5qv3PyexJQkP",
        "outputId": "84bf027c-4896-4bc5-8a77-a78a648c02c8"
      },
      "execution_count": 275,
      "outputs": [
        {
          "output_type": "execute_result",
          "data": {
            "text/plain": [
              "   Eloquence_high  Looks_repulsive  Looks_handsome  Alcoholic_beverage_yes  \\\n",
              "0            True            False            True                    True   \n",
              "1           False            False            True                    True   \n",
              "2           False            False            True                   False   \n",
              "3           False             True           False                   False   \n",
              "4           False             True           False                    True   \n",
              "5            True             True           False                    True   \n",
              "6           False            False            True                    True   \n",
              "\n",
              "   Eloquence_average  Money_spent_lots  Money_spent_little  \\\n",
              "0              False              True               False   \n",
              "1              False             False                True   \n",
              "2               True              True               False   \n",
              "3               True             False                True   \n",
              "4              False              True               False   \n",
              "5              False              True               False   \n",
              "6               True              True               False   \n",
              "\n",
              "   Alcoholic_beverage_no  \n",
              "0                  False  \n",
              "1                  False  \n",
              "2                   True  \n",
              "3                   True  \n",
              "4                  False  \n",
              "5                  False  \n",
              "6                  False  "
            ],
            "text/html": [
              "\n",
              "  <div id=\"df-ea79a31c-f53b-41ee-81ed-a2d3e3082253\" class=\"colab-df-container\">\n",
              "    <div>\n",
              "<style scoped>\n",
              "    .dataframe tbody tr th:only-of-type {\n",
              "        vertical-align: middle;\n",
              "    }\n",
              "\n",
              "    .dataframe tbody tr th {\n",
              "        vertical-align: top;\n",
              "    }\n",
              "\n",
              "    .dataframe thead th {\n",
              "        text-align: right;\n",
              "    }\n",
              "</style>\n",
              "<table border=\"1\" class=\"dataframe\">\n",
              "  <thead>\n",
              "    <tr style=\"text-align: right;\">\n",
              "      <th></th>\n",
              "      <th>Eloquence_high</th>\n",
              "      <th>Looks_repulsive</th>\n",
              "      <th>Looks_handsome</th>\n",
              "      <th>Alcoholic_beverage_yes</th>\n",
              "      <th>Eloquence_average</th>\n",
              "      <th>Money_spent_lots</th>\n",
              "      <th>Money_spent_little</th>\n",
              "      <th>Alcoholic_beverage_no</th>\n",
              "    </tr>\n",
              "  </thead>\n",
              "  <tbody>\n",
              "    <tr>\n",
              "      <th>0</th>\n",
              "      <td>True</td>\n",
              "      <td>False</td>\n",
              "      <td>True</td>\n",
              "      <td>True</td>\n",
              "      <td>False</td>\n",
              "      <td>True</td>\n",
              "      <td>False</td>\n",
              "      <td>False</td>\n",
              "    </tr>\n",
              "    <tr>\n",
              "      <th>1</th>\n",
              "      <td>False</td>\n",
              "      <td>False</td>\n",
              "      <td>True</td>\n",
              "      <td>True</td>\n",
              "      <td>False</td>\n",
              "      <td>False</td>\n",
              "      <td>True</td>\n",
              "      <td>False</td>\n",
              "    </tr>\n",
              "    <tr>\n",
              "      <th>2</th>\n",
              "      <td>False</td>\n",
              "      <td>False</td>\n",
              "      <td>True</td>\n",
              "      <td>False</td>\n",
              "      <td>True</td>\n",
              "      <td>True</td>\n",
              "      <td>False</td>\n",
              "      <td>True</td>\n",
              "    </tr>\n",
              "    <tr>\n",
              "      <th>3</th>\n",
              "      <td>False</td>\n",
              "      <td>True</td>\n",
              "      <td>False</td>\n",
              "      <td>False</td>\n",
              "      <td>True</td>\n",
              "      <td>False</td>\n",
              "      <td>True</td>\n",
              "      <td>True</td>\n",
              "    </tr>\n",
              "    <tr>\n",
              "      <th>4</th>\n",
              "      <td>False</td>\n",
              "      <td>True</td>\n",
              "      <td>False</td>\n",
              "      <td>True</td>\n",
              "      <td>False</td>\n",
              "      <td>True</td>\n",
              "      <td>False</td>\n",
              "      <td>False</td>\n",
              "    </tr>\n",
              "    <tr>\n",
              "      <th>5</th>\n",
              "      <td>True</td>\n",
              "      <td>True</td>\n",
              "      <td>False</td>\n",
              "      <td>True</td>\n",
              "      <td>False</td>\n",
              "      <td>True</td>\n",
              "      <td>False</td>\n",
              "      <td>False</td>\n",
              "    </tr>\n",
              "    <tr>\n",
              "      <th>6</th>\n",
              "      <td>False</td>\n",
              "      <td>False</td>\n",
              "      <td>True</td>\n",
              "      <td>True</td>\n",
              "      <td>True</td>\n",
              "      <td>True</td>\n",
              "      <td>False</td>\n",
              "      <td>False</td>\n",
              "    </tr>\n",
              "  </tbody>\n",
              "</table>\n",
              "</div>\n",
              "    <div class=\"colab-df-buttons\">\n",
              "\n",
              "  <div class=\"colab-df-container\">\n",
              "    <button class=\"colab-df-convert\" onclick=\"convertToInteractive('df-ea79a31c-f53b-41ee-81ed-a2d3e3082253')\"\n",
              "            title=\"Convert this dataframe to an interactive table.\"\n",
              "            style=\"display:none;\">\n",
              "\n",
              "  <svg xmlns=\"http://www.w3.org/2000/svg\" height=\"24px\" viewBox=\"0 -960 960 960\">\n",
              "    <path d=\"M120-120v-720h720v720H120Zm60-500h600v-160H180v160Zm220 220h160v-160H400v160Zm0 220h160v-160H400v160ZM180-400h160v-160H180v160Zm440 0h160v-160H620v160ZM180-180h160v-160H180v160Zm440 0h160v-160H620v160Z\"/>\n",
              "  </svg>\n",
              "    </button>\n",
              "\n",
              "  <style>\n",
              "    .colab-df-container {\n",
              "      display:flex;\n",
              "      gap: 12px;\n",
              "    }\n",
              "\n",
              "    .colab-df-convert {\n",
              "      background-color: #E8F0FE;\n",
              "      border: none;\n",
              "      border-radius: 50%;\n",
              "      cursor: pointer;\n",
              "      display: none;\n",
              "      fill: #1967D2;\n",
              "      height: 32px;\n",
              "      padding: 0 0 0 0;\n",
              "      width: 32px;\n",
              "    }\n",
              "\n",
              "    .colab-df-convert:hover {\n",
              "      background-color: #E2EBFA;\n",
              "      box-shadow: 0px 1px 2px rgba(60, 64, 67, 0.3), 0px 1px 3px 1px rgba(60, 64, 67, 0.15);\n",
              "      fill: #174EA6;\n",
              "    }\n",
              "\n",
              "    .colab-df-buttons div {\n",
              "      margin-bottom: 4px;\n",
              "    }\n",
              "\n",
              "    [theme=dark] .colab-df-convert {\n",
              "      background-color: #3B4455;\n",
              "      fill: #D2E3FC;\n",
              "    }\n",
              "\n",
              "    [theme=dark] .colab-df-convert:hover {\n",
              "      background-color: #434B5C;\n",
              "      box-shadow: 0px 1px 3px 1px rgba(0, 0, 0, 0.15);\n",
              "      filter: drop-shadow(0px 1px 2px rgba(0, 0, 0, 0.3));\n",
              "      fill: #FFFFFF;\n",
              "    }\n",
              "  </style>\n",
              "\n",
              "    <script>\n",
              "      const buttonEl =\n",
              "        document.querySelector('#df-ea79a31c-f53b-41ee-81ed-a2d3e3082253 button.colab-df-convert');\n",
              "      buttonEl.style.display =\n",
              "        google.colab.kernel.accessAllowed ? 'block' : 'none';\n",
              "\n",
              "      async function convertToInteractive(key) {\n",
              "        const element = document.querySelector('#df-ea79a31c-f53b-41ee-81ed-a2d3e3082253');\n",
              "        const dataTable =\n",
              "          await google.colab.kernel.invokeFunction('convertToInteractive',\n",
              "                                                    [key], {});\n",
              "        if (!dataTable) return;\n",
              "\n",
              "        const docLinkHtml = 'Like what you see? Visit the ' +\n",
              "          '<a target=\"_blank\" href=https://colab.research.google.com/notebooks/data_table.ipynb>data table notebook</a>'\n",
              "          + ' to learn more about interactive tables.';\n",
              "        element.innerHTML = '';\n",
              "        dataTable['output_type'] = 'display_data';\n",
              "        await google.colab.output.renderOutput(dataTable, element);\n",
              "        const docLink = document.createElement('div');\n",
              "        docLink.innerHTML = docLinkHtml;\n",
              "        element.appendChild(docLink);\n",
              "      }\n",
              "    </script>\n",
              "  </div>\n",
              "\n",
              "\n",
              "<div id=\"df-6761dc6c-700a-4323-867e-6331e45bae7c\">\n",
              "  <button class=\"colab-df-quickchart\" onclick=\"quickchart('df-6761dc6c-700a-4323-867e-6331e45bae7c')\"\n",
              "            title=\"Suggest charts\"\n",
              "            style=\"display:none;\">\n",
              "\n",
              "<svg xmlns=\"http://www.w3.org/2000/svg\" height=\"24px\"viewBox=\"0 0 24 24\"\n",
              "     width=\"24px\">\n",
              "    <g>\n",
              "        <path d=\"M19 3H5c-1.1 0-2 .9-2 2v14c0 1.1.9 2 2 2h14c1.1 0 2-.9 2-2V5c0-1.1-.9-2-2-2zM9 17H7v-7h2v7zm4 0h-2V7h2v10zm4 0h-2v-4h2v4z\"/>\n",
              "    </g>\n",
              "</svg>\n",
              "  </button>\n",
              "\n",
              "<style>\n",
              "  .colab-df-quickchart {\n",
              "      --bg-color: #E8F0FE;\n",
              "      --fill-color: #1967D2;\n",
              "      --hover-bg-color: #E2EBFA;\n",
              "      --hover-fill-color: #174EA6;\n",
              "      --disabled-fill-color: #AAA;\n",
              "      --disabled-bg-color: #DDD;\n",
              "  }\n",
              "\n",
              "  [theme=dark] .colab-df-quickchart {\n",
              "      --bg-color: #3B4455;\n",
              "      --fill-color: #D2E3FC;\n",
              "      --hover-bg-color: #434B5C;\n",
              "      --hover-fill-color: #FFFFFF;\n",
              "      --disabled-bg-color: #3B4455;\n",
              "      --disabled-fill-color: #666;\n",
              "  }\n",
              "\n",
              "  .colab-df-quickchart {\n",
              "    background-color: var(--bg-color);\n",
              "    border: none;\n",
              "    border-radius: 50%;\n",
              "    cursor: pointer;\n",
              "    display: none;\n",
              "    fill: var(--fill-color);\n",
              "    height: 32px;\n",
              "    padding: 0;\n",
              "    width: 32px;\n",
              "  }\n",
              "\n",
              "  .colab-df-quickchart:hover {\n",
              "    background-color: var(--hover-bg-color);\n",
              "    box-shadow: 0 1px 2px rgba(60, 64, 67, 0.3), 0 1px 3px 1px rgba(60, 64, 67, 0.15);\n",
              "    fill: var(--button-hover-fill-color);\n",
              "  }\n",
              "\n",
              "  .colab-df-quickchart-complete:disabled,\n",
              "  .colab-df-quickchart-complete:disabled:hover {\n",
              "    background-color: var(--disabled-bg-color);\n",
              "    fill: var(--disabled-fill-color);\n",
              "    box-shadow: none;\n",
              "  }\n",
              "\n",
              "  .colab-df-spinner {\n",
              "    border: 2px solid var(--fill-color);\n",
              "    border-color: transparent;\n",
              "    border-bottom-color: var(--fill-color);\n",
              "    animation:\n",
              "      spin 1s steps(1) infinite;\n",
              "  }\n",
              "\n",
              "  @keyframes spin {\n",
              "    0% {\n",
              "      border-color: transparent;\n",
              "      border-bottom-color: var(--fill-color);\n",
              "      border-left-color: var(--fill-color);\n",
              "    }\n",
              "    20% {\n",
              "      border-color: transparent;\n",
              "      border-left-color: var(--fill-color);\n",
              "      border-top-color: var(--fill-color);\n",
              "    }\n",
              "    30% {\n",
              "      border-color: transparent;\n",
              "      border-left-color: var(--fill-color);\n",
              "      border-top-color: var(--fill-color);\n",
              "      border-right-color: var(--fill-color);\n",
              "    }\n",
              "    40% {\n",
              "      border-color: transparent;\n",
              "      border-right-color: var(--fill-color);\n",
              "      border-top-color: var(--fill-color);\n",
              "    }\n",
              "    60% {\n",
              "      border-color: transparent;\n",
              "      border-right-color: var(--fill-color);\n",
              "    }\n",
              "    80% {\n",
              "      border-color: transparent;\n",
              "      border-right-color: var(--fill-color);\n",
              "      border-bottom-color: var(--fill-color);\n",
              "    }\n",
              "    90% {\n",
              "      border-color: transparent;\n",
              "      border-bottom-color: var(--fill-color);\n",
              "    }\n",
              "  }\n",
              "</style>\n",
              "\n",
              "  <script>\n",
              "    async function quickchart(key) {\n",
              "      const quickchartButtonEl =\n",
              "        document.querySelector('#' + key + ' button');\n",
              "      quickchartButtonEl.disabled = true;  // To prevent multiple clicks.\n",
              "      quickchartButtonEl.classList.add('colab-df-spinner');\n",
              "      try {\n",
              "        const charts = await google.colab.kernel.invokeFunction(\n",
              "            'suggestCharts', [key], {});\n",
              "      } catch (error) {\n",
              "        console.error('Error during call to suggestCharts:', error);\n",
              "      }\n",
              "      quickchartButtonEl.classList.remove('colab-df-spinner');\n",
              "      quickchartButtonEl.classList.add('colab-df-quickchart-complete');\n",
              "    }\n",
              "    (() => {\n",
              "      let quickchartButtonEl =\n",
              "        document.querySelector('#df-6761dc6c-700a-4323-867e-6331e45bae7c button');\n",
              "      quickchartButtonEl.style.display =\n",
              "        google.colab.kernel.accessAllowed ? 'block' : 'none';\n",
              "    })();\n",
              "  </script>\n",
              "</div>\n",
              "    </div>\n",
              "  </div>\n"
            ],
            "application/vnd.google.colaboratory.intrinsic+json": {
              "type": "dataframe",
              "variable_name": "df_train",
              "summary": "{\n  \"name\": \"df_train\",\n  \"rows\": 7,\n  \"fields\": [\n    {\n      \"column\": \"Eloquence_high\",\n      \"properties\": {\n        \"dtype\": \"boolean\",\n        \"num_unique_values\": 2,\n        \"samples\": [\n          false,\n          true\n        ],\n        \"semantic_type\": \"\",\n        \"description\": \"\"\n      }\n    },\n    {\n      \"column\": \"Looks_repulsive\",\n      \"properties\": {\n        \"dtype\": \"boolean\",\n        \"num_unique_values\": 2,\n        \"samples\": [\n          true,\n          false\n        ],\n        \"semantic_type\": \"\",\n        \"description\": \"\"\n      }\n    },\n    {\n      \"column\": \"Looks_handsome\",\n      \"properties\": {\n        \"dtype\": \"boolean\",\n        \"num_unique_values\": 2,\n        \"samples\": [\n          false,\n          true\n        ],\n        \"semantic_type\": \"\",\n        \"description\": \"\"\n      }\n    },\n    {\n      \"column\": \"Alcoholic_beverage_yes\",\n      \"properties\": {\n        \"dtype\": \"boolean\",\n        \"num_unique_values\": 2,\n        \"samples\": [\n          false,\n          true\n        ],\n        \"semantic_type\": \"\",\n        \"description\": \"\"\n      }\n    },\n    {\n      \"column\": \"Eloquence_average\",\n      \"properties\": {\n        \"dtype\": \"boolean\",\n        \"num_unique_values\": 2,\n        \"samples\": [\n          true,\n          false\n        ],\n        \"semantic_type\": \"\",\n        \"description\": \"\"\n      }\n    },\n    {\n      \"column\": \"Money_spent_lots\",\n      \"properties\": {\n        \"dtype\": \"boolean\",\n        \"num_unique_values\": 2,\n        \"samples\": [\n          false,\n          true\n        ],\n        \"semantic_type\": \"\",\n        \"description\": \"\"\n      }\n    },\n    {\n      \"column\": \"Money_spent_little\",\n      \"properties\": {\n        \"dtype\": \"boolean\",\n        \"num_unique_values\": 2,\n        \"samples\": [\n          true,\n          false\n        ],\n        \"semantic_type\": \"\",\n        \"description\": \"\"\n      }\n    },\n    {\n      \"column\": \"Alcoholic_beverage_no\",\n      \"properties\": {\n        \"dtype\": \"boolean\",\n        \"num_unique_values\": 2,\n        \"samples\": [\n          true,\n          false\n        ],\n        \"semantic_type\": \"\",\n        \"description\": \"\"\n      }\n    }\n  ]\n}"
            }
          },
          "metadata": {},
          "execution_count": 275
        }
      ]
    },
    {
      "cell_type": "markdown",
      "source": [
        "1. What is the entropy $S_0$\n",
        " of the initial system? By system states, we mean values of the binary feature “Will_go” - 0 or 1 - two states in total."
      ],
      "metadata": {
        "id": "u29v_hZZKkGF"
      }
    },
    {
      "cell_type": "code",
      "source": [
        "y.value_counts()"
      ],
      "metadata": {
        "colab": {
          "base_uri": "https://localhost:8080/"
        },
        "id": "8MjdCmSwK3br",
        "outputId": "8213ccba-fbd8-474c-cc03-1ea2b28d97d6"
      },
      "execution_count": 276,
      "outputs": [
        {
          "output_type": "execute_result",
          "data": {
            "text/plain": [
              "Will_go\n",
              "0    4\n",
              "1    3\n",
              "Name: count, dtype: int64"
            ]
          },
          "metadata": {},
          "execution_count": 276
        }
      ]
    },
    {
      "cell_type": "markdown",
      "source": [
        "$$S_0 = -{4 \\over 7} log_2 {4 \\over 7} -{3 \\over 7} log_2 {3 \\over 7} = 0.985$$"
      ],
      "metadata": {
        "id": "da7X9IpuKufC"
      }
    },
    {
      "cell_type": "code",
      "source": [
        "s0 = -(4 / 7) * np.log2(4 / 7) - (3 / 7) * np.log2(3 / 7)\n",
        "s0"
      ],
      "metadata": {
        "colab": {
          "base_uri": "https://localhost:8080/"
        },
        "id": "lwjOtkKYJSFv",
        "outputId": "aebf9dd4-e9e7-46a1-f810-6a5de167de93"
      },
      "execution_count": 277,
      "outputs": [
        {
          "output_type": "execute_result",
          "data": {
            "text/plain": [
              "0.9852281360342515"
            ]
          },
          "metadata": {},
          "execution_count": 277
        }
      ]
    },
    {
      "cell_type": "markdown",
      "source": [
        "2. Let’s split the data by the feature “Looks_handsome”. What is the entropy\n",
        " of the left group - the one with “Looks_handsome”. What is the entropy\n",
        " in the opposite group? What is the information gain (IG) if we consider such a split?"
      ],
      "metadata": {
        "id": "XjJ7XeGoL2n_"
      }
    },
    {
      "cell_type": "code",
      "source": [
        "y[df_train['Looks_handsome']]"
      ],
      "metadata": {
        "colab": {
          "base_uri": "https://localhost:8080/"
        },
        "id": "Hs8B7uk5Lu9f",
        "outputId": "65108409-2a93-4c05-8070-bcdc3364465f"
      },
      "execution_count": 278,
      "outputs": [
        {
          "output_type": "execute_result",
          "data": {
            "text/plain": [
              "0    0\n",
              "1    1\n",
              "2    0\n",
              "6    0\n",
              "Name: Will_go, dtype: int64"
            ]
          },
          "metadata": {},
          "execution_count": 278
        }
      ]
    },
    {
      "cell_type": "code",
      "source": [
        "print(f'Entropy of left: {-(1 / 4) * np.log2(1 / 4) - (3 / 4) * np.log2(3 / 4)}')\n",
        "s1 = -(1 / 4) * np.log2(1 / 4) - (3 / 4) * np.log2(3 / 4)"
      ],
      "metadata": {
        "colab": {
          "base_uri": "https://localhost:8080/"
        },
        "id": "cnDv3XQHMsC9",
        "outputId": "268a1643-d82c-46e3-c983-1033674d3240"
      },
      "execution_count": 279,
      "outputs": [
        {
          "output_type": "stream",
          "name": "stdout",
          "text": [
            "Entropy of left: 0.8112781244591328\n"
          ]
        }
      ]
    },
    {
      "cell_type": "code",
      "source": [
        "y[~df_train['Looks_handsome']]"
      ],
      "metadata": {
        "colab": {
          "base_uri": "https://localhost:8080/"
        },
        "id": "NFP0V9i9Mm37",
        "outputId": "0d999d52-11eb-4dd6-8566-bf5a6218da87"
      },
      "execution_count": 280,
      "outputs": [
        {
          "output_type": "execute_result",
          "data": {
            "text/plain": [
              "3    1\n",
              "4    1\n",
              "5    0\n",
              "Name: Will_go, dtype: int64"
            ]
          },
          "metadata": {},
          "execution_count": 280
        }
      ]
    },
    {
      "cell_type": "code",
      "source": [
        "print(f'Entropy of right: {-(1 / 3) * np.log2(1 / 3) - (2 / 3) * np.log2(2 / 3)}')\n",
        "s2 = -(1 / 3) * np.log2(1 / 3) - (2 / 3) * np.log2(2 / 3)"
      ],
      "metadata": {
        "colab": {
          "base_uri": "https://localhost:8080/"
        },
        "id": "u3zVTvr6NJhD",
        "outputId": "5326d571-af8e-498c-8233-fadaa82ee174"
      },
      "execution_count": 281,
      "outputs": [
        {
          "output_type": "stream",
          "name": "stdout",
          "text": [
            "Entropy of right: 0.9182958340544896\n"
          ]
        }
      ]
    },
    {
      "cell_type": "code",
      "source": [
        "infromation_gain = s0 - (4 / 7) * s1 - (3 / 7) * s2\n",
        "infromation_gain"
      ],
      "metadata": {
        "colab": {
          "base_uri": "https://localhost:8080/"
        },
        "id": "DM3bHlgEXqhK",
        "outputId": "9c1cc69c-765a-45ed-b9fa-c943e7e07f7c"
      },
      "execution_count": 282,
      "outputs": [
        {
          "output_type": "execute_result",
          "data": {
            "text/plain": [
              "0.12808527889139443"
            ]
          },
          "metadata": {},
          "execution_count": 282
        }
      ]
    },
    {
      "cell_type": "markdown",
      "source": [
        "# Train a decision tree using sklearn on the training data. You may choose any depth for the tree."
      ],
      "metadata": {
        "id": "r3loR-_gON85"
      }
    },
    {
      "cell_type": "code",
      "source": [
        "tree = DecisionTreeClassifier()\n",
        "tree.fit(df_train, y)"
      ],
      "metadata": {
        "colab": {
          "base_uri": "https://localhost:8080/",
          "height": 75
        },
        "id": "daJooTY7OGOt",
        "outputId": "dbe51f8d-b20a-46a5-a4d8-9598d969a373"
      },
      "execution_count": 283,
      "outputs": [
        {
          "output_type": "execute_result",
          "data": {
            "text/plain": [
              "DecisionTreeClassifier()"
            ],
            "text/html": [
              "<style>#sk-container-id-8 {color: black;background-color: white;}#sk-container-id-8 pre{padding: 0;}#sk-container-id-8 div.sk-toggleable {background-color: white;}#sk-container-id-8 label.sk-toggleable__label {cursor: pointer;display: block;width: 100%;margin-bottom: 0;padding: 0.3em;box-sizing: border-box;text-align: center;}#sk-container-id-8 label.sk-toggleable__label-arrow:before {content: \"▸\";float: left;margin-right: 0.25em;color: #696969;}#sk-container-id-8 label.sk-toggleable__label-arrow:hover:before {color: black;}#sk-container-id-8 div.sk-estimator:hover label.sk-toggleable__label-arrow:before {color: black;}#sk-container-id-8 div.sk-toggleable__content {max-height: 0;max-width: 0;overflow: hidden;text-align: left;background-color: #f0f8ff;}#sk-container-id-8 div.sk-toggleable__content pre {margin: 0.2em;color: black;border-radius: 0.25em;background-color: #f0f8ff;}#sk-container-id-8 input.sk-toggleable__control:checked~div.sk-toggleable__content {max-height: 200px;max-width: 100%;overflow: auto;}#sk-container-id-8 input.sk-toggleable__control:checked~label.sk-toggleable__label-arrow:before {content: \"▾\";}#sk-container-id-8 div.sk-estimator input.sk-toggleable__control:checked~label.sk-toggleable__label {background-color: #d4ebff;}#sk-container-id-8 div.sk-label input.sk-toggleable__control:checked~label.sk-toggleable__label {background-color: #d4ebff;}#sk-container-id-8 input.sk-hidden--visually {border: 0;clip: rect(1px 1px 1px 1px);clip: rect(1px, 1px, 1px, 1px);height: 1px;margin: -1px;overflow: hidden;padding: 0;position: absolute;width: 1px;}#sk-container-id-8 div.sk-estimator {font-family: monospace;background-color: #f0f8ff;border: 1px dotted black;border-radius: 0.25em;box-sizing: border-box;margin-bottom: 0.5em;}#sk-container-id-8 div.sk-estimator:hover {background-color: #d4ebff;}#sk-container-id-8 div.sk-parallel-item::after {content: \"\";width: 100%;border-bottom: 1px solid gray;flex-grow: 1;}#sk-container-id-8 div.sk-label:hover label.sk-toggleable__label {background-color: #d4ebff;}#sk-container-id-8 div.sk-serial::before {content: \"\";position: absolute;border-left: 1px solid gray;box-sizing: border-box;top: 0;bottom: 0;left: 50%;z-index: 0;}#sk-container-id-8 div.sk-serial {display: flex;flex-direction: column;align-items: center;background-color: white;padding-right: 0.2em;padding-left: 0.2em;position: relative;}#sk-container-id-8 div.sk-item {position: relative;z-index: 1;}#sk-container-id-8 div.sk-parallel {display: flex;align-items: stretch;justify-content: center;background-color: white;position: relative;}#sk-container-id-8 div.sk-item::before, #sk-container-id-8 div.sk-parallel-item::before {content: \"\";position: absolute;border-left: 1px solid gray;box-sizing: border-box;top: 0;bottom: 0;left: 50%;z-index: -1;}#sk-container-id-8 div.sk-parallel-item {display: flex;flex-direction: column;z-index: 1;position: relative;background-color: white;}#sk-container-id-8 div.sk-parallel-item:first-child::after {align-self: flex-end;width: 50%;}#sk-container-id-8 div.sk-parallel-item:last-child::after {align-self: flex-start;width: 50%;}#sk-container-id-8 div.sk-parallel-item:only-child::after {width: 0;}#sk-container-id-8 div.sk-dashed-wrapped {border: 1px dashed gray;margin: 0 0.4em 0.5em 0.4em;box-sizing: border-box;padding-bottom: 0.4em;background-color: white;}#sk-container-id-8 div.sk-label label {font-family: monospace;font-weight: bold;display: inline-block;line-height: 1.2em;}#sk-container-id-8 div.sk-label-container {text-align: center;}#sk-container-id-8 div.sk-container {/* jupyter's `normalize.less` sets `[hidden] { display: none; }` but bootstrap.min.css set `[hidden] { display: none !important; }` so we also need the `!important` here to be able to override the default hidden behavior on the sphinx rendered scikit-learn.org. See: https://github.com/scikit-learn/scikit-learn/issues/21755 */display: inline-block !important;position: relative;}#sk-container-id-8 div.sk-text-repr-fallback {display: none;}</style><div id=\"sk-container-id-8\" class=\"sk-top-container\"><div class=\"sk-text-repr-fallback\"><pre>DecisionTreeClassifier()</pre><b>In a Jupyter environment, please rerun this cell to show the HTML representation or trust the notebook. <br />On GitHub, the HTML representation is unable to render, please try loading this page with nbviewer.org.</b></div><div class=\"sk-container\" hidden><div class=\"sk-item\"><div class=\"sk-estimator sk-toggleable\"><input class=\"sk-toggleable__control sk-hidden--visually\" id=\"sk-estimator-id-8\" type=\"checkbox\" checked><label for=\"sk-estimator-id-8\" class=\"sk-toggleable__label sk-toggleable__label-arrow\">DecisionTreeClassifier</label><div class=\"sk-toggleable__content\"><pre>DecisionTreeClassifier()</pre></div></div></div></div></div>"
            ]
          },
          "metadata": {},
          "execution_count": 283
        }
      ]
    },
    {
      "cell_type": "code",
      "source": [
        "pred = tree.predict(df_test)\n",
        "pred"
      ],
      "metadata": {
        "colab": {
          "base_uri": "https://localhost:8080/"
        },
        "id": "R2uFAzhkOvvD",
        "outputId": "68cabc38-fb1d-4ae4-fcd1-13995ed46d68"
      },
      "execution_count": 284,
      "outputs": [
        {
          "output_type": "execute_result",
          "data": {
            "text/plain": [
              "array([0, 1, 1])"
            ]
          },
          "metadata": {},
          "execution_count": 284
        }
      ]
    },
    {
      "cell_type": "code",
      "source": [
        "export_graphviz(\n",
        "    decision_tree=tree,\n",
        "    out_file='tree.dot',\n",
        "    feature_names=df_train.columns,\n",
        "    filled=True\n",
        ")"
      ],
      "metadata": {
        "id": "izT1BzLhPx_W"
      },
      "execution_count": 285,
      "outputs": []
    },
    {
      "cell_type": "code",
      "source": [
        "!cat tree.dot"
      ],
      "metadata": {
        "colab": {
          "base_uri": "https://localhost:8080/"
        },
        "id": "2vVznchUQgkV",
        "outputId": "680b5985-685a-41f1-835a-83faf059f189"
      },
      "execution_count": 286,
      "outputs": [
        {
          "output_type": "stream",
          "name": "stdout",
          "text": [
            "digraph Tree {\n",
            "node [shape=box, style=\"filled\", color=\"black\", fontname=\"helvetica\"] ;\n",
            "edge [fontname=\"helvetica\"] ;\n",
            "0 [label=\"Money_spent_little <= 0.5\\ngini = 0.49\\nsamples = 7\\nvalue = [4, 3]\", fillcolor=\"#f8e0ce\"] ;\n",
            "1 [label=\"Looks_handsome <= 0.5\\ngini = 0.32\\nsamples = 5\\nvalue = [4, 1]\", fillcolor=\"#eca06a\"] ;\n",
            "0 -> 1 [labeldistance=2.5, labelangle=45, headlabel=\"True\"] ;\n",
            "2 [label=\"Eloquence_high <= 0.5\\ngini = 0.5\\nsamples = 2\\nvalue = [1, 1]\", fillcolor=\"#ffffff\"] ;\n",
            "1 -> 2 ;\n",
            "3 [label=\"gini = 0.0\\nsamples = 1\\nvalue = [0, 1]\", fillcolor=\"#399de5\"] ;\n",
            "2 -> 3 ;\n",
            "4 [label=\"gini = 0.0\\nsamples = 1\\nvalue = [1, 0]\", fillcolor=\"#e58139\"] ;\n",
            "2 -> 4 ;\n",
            "5 [label=\"gini = 0.0\\nsamples = 3\\nvalue = [3, 0]\", fillcolor=\"#e58139\"] ;\n",
            "1 -> 5 ;\n",
            "6 [label=\"gini = 0.0\\nsamples = 2\\nvalue = [0, 2]\", fillcolor=\"#399de5\"] ;\n",
            "0 -> 6 [labeldistance=2.5, labelangle=-45, headlabel=\"False\"] ;\n",
            "}"
          ]
        }
      ]
    },
    {
      "cell_type": "markdown",
      "source": [
        "![image.png](data:image/png;base64,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)"
      ],
      "metadata": {
        "id": "V0kuiWcAQwtE"
      }
    },
    {
      "cell_type": "markdown",
      "source": [
        "# Part 2. Functions for calculating entropy and information gain."
      ],
      "metadata": {
        "id": "sGlQsku6QzoI"
      }
    },
    {
      "cell_type": "code",
      "source": [
        "# Consider the following warm-up example: we have 9 blue balls and 11 yellow balls. Let ball have label 1 if it is blue, 0 otherwise."
      ],
      "metadata": {
        "id": "cFDnZgB0QjGN"
      },
      "execution_count": 287,
      "outputs": []
    },
    {
      "cell_type": "code",
      "source": [
        "balls = [1 for i in range(9)] + [0 for i in range(11)]"
      ],
      "metadata": {
        "id": "8x01m-pcQ-xd"
      },
      "execution_count": 288,
      "outputs": []
    },
    {
      "cell_type": "code",
      "source": [
        "# two groups\n",
        "balls_left = [1 for i in range(8)] + [0 for i in range(5)]  # 8 blue and 5 yellow\n",
        "balls_right = [1 for i in range(1)] + [0 for i in range(6)]  # 1 blue and 6 yellow"
      ],
      "metadata": {
        "id": "5M3opcmpRAMl"
      },
      "execution_count": 289,
      "outputs": []
    },
    {
      "cell_type": "markdown",
      "source": [
        "Implement Function to Calculate Shennon's entropy"
      ],
      "metadata": {
        "id": "VsesGm9uRHVC"
      }
    },
    {
      "cell_type": "code",
      "source": [
        "from math import log\n",
        "\n",
        "\n",
        "def entropy(a_list):\n",
        "    lst = list(a_list)\n",
        "    size = len(lst)\n",
        "    entropy = 0\n",
        "    set_elements = len(set(lst))\n",
        "    if set_elements in [0, 1]:\n",
        "        return 0\n",
        "    for i in set(lst):\n",
        "        occ = lst.count(i)\n",
        "        entropy -= occ / size * log(occ / size, 2)\n",
        "    return entropy"
      ],
      "metadata": {
        "id": "pNRzAh9KUGUf"
      },
      "execution_count": 290,
      "outputs": []
    },
    {
      "cell_type": "code",
      "source": [
        "from math import log\n",
        "\n",
        "def entropy(a_list):\n",
        "    a_list = list(a_list)\n",
        "    classes = len(set(a_list))\n",
        "    n = len(a_list)\n",
        "    entropy = 0\n",
        "\n",
        "    for i in set(a_list):\n",
        "      occ = a_list.count(i)\n",
        "      entropy -= occ / n * np.log2(occ / n)\n",
        "\n",
        "    return entropy\n"
      ],
      "metadata": {
        "id": "Omr7Run-RD_l"
      },
      "execution_count": 291,
      "outputs": []
    },
    {
      "cell_type": "code",
      "source": [
        "print(entropy(balls))  # 9 blue и 11 yellow\n",
        "print(entropy(balls_left))  # 8 blue и 5 yellow\n",
        "print(entropy(balls_right))  # 1 blue и 6 yellow\n",
        "print(entropy([1, 2, 3, 4, 5, 6]))  # entropy of a fair 6-sided die\n",
        "print(entropy(y[~df_train['Looks_handsome']]))"
      ],
      "metadata": {
        "colab": {
          "base_uri": "https://localhost:8080/"
        },
        "id": "H_ApuAMcRytV",
        "outputId": "9200993f-1022-4f65-b24f-01c72c2dd7ef"
      },
      "execution_count": 292,
      "outputs": [
        {
          "output_type": "stream",
          "name": "stdout",
          "text": [
            "0.9927744539878083\n",
            "0.9612366047228759\n",
            "0.5916727785823275\n",
            "2.584962500721156\n",
            "0.9182958340544896\n"
          ]
        }
      ]
    },
    {
      "cell_type": "code",
      "source": [
        "def information_gain(root, l_node, r_node):\n",
        "  s0 = entropy(root)\n",
        "  s1 = entropy(l_node)\n",
        "  s2 = entropy(r_node)\n",
        "\n",
        "  return s0 - (len(l_node) / len(root) * s1 +\n",
        "               len(r_node) / len(root) * s2)"
      ],
      "metadata": {
        "id": "OC3App9JVuVT"
      },
      "execution_count": 293,
      "outputs": []
    },
    {
      "cell_type": "code",
      "source": [
        "information_gain(balls, balls_left, balls_right)"
      ],
      "metadata": {
        "colab": {
          "base_uri": "https://localhost:8080/"
        },
        "id": "3KebX3ciWhYb",
        "outputId": "71fb9e55-8a16-478a-e9b9-cb0674f0af0b"
      },
      "execution_count": 294,
      "outputs": [
        {
          "output_type": "execute_result",
          "data": {
            "text/plain": [
              "0.16088518841412436"
            ]
          },
          "metadata": {},
          "execution_count": 294
        }
      ]
    },
    {
      "cell_type": "code",
      "source": [
        "def information_gains(X, y):\n",
        "  res = []\n",
        "\n",
        "  for feature in X.columns:\n",
        "    res.append(information_gain(y, y[X[feature] == 0], y[X[feature] == 1]))\n",
        "  return res"
      ],
      "metadata": {
        "id": "_2CfPQcTZ4JJ"
      },
      "execution_count": 295,
      "outputs": []
    },
    {
      "cell_type": "markdown",
      "source": [
        "Optional:"
      ],
      "metadata": {
        "id": "wIuFR2QhZmuD"
      }
    },
    {
      "cell_type": "code",
      "source": [
        "def build_tree(X, y, feature_names, depth=0):\n",
        "  print(f'Current depth is {depth}')\n",
        "\n",
        "  gains = information_gains(X, y)\n",
        "  best_feature_index = np.argmax(gains)\n",
        "  best_feature = feature_names[best_feature_index]\n",
        "  print(f'{best_feature} was chosen as the best feature')\n",
        "\n",
        "  x_left = X[X.iloc[:, best_feature_index] == 0]\n",
        "  x_right = X[X.iloc[:, best_feature_index] == 1]\n",
        "\n",
        "  y_left = y[X.iloc[:, best_feature_index] == 0]\n",
        "  y_right = y[X.iloc[:, best_feature_index] == 1]\n",
        "\n",
        "  l_entropy = entropy(y_left)\n",
        "  r_entropy = entropy(y_right)\n",
        "\n",
        "  print(f'Left entropy: {l_entropy} | Right entropy: {r_entropy}')\n",
        "  print('-' * 60)\n",
        "\n",
        "  if l_entropy > 0:\n",
        "    build_tree(x_left, y_left, feature_names, depth+1)\n",
        "\n",
        "  if r_entropy > 0:\n",
        "    build_tree(x_right, y_right, feature_names, depth+1)"
      ],
      "metadata": {
        "id": "8c3ASsmVWnYk"
      },
      "execution_count": 296,
      "outputs": []
    },
    {
      "cell_type": "code",
      "source": [
        "build_tree(df_train, y, df_train.columns)"
      ],
      "metadata": {
        "colab": {
          "base_uri": "https://localhost:8080/"
        },
        "id": "MKINZx-9cN_S",
        "outputId": "c0e423da-14e4-44a2-d356-f3e65fe045eb"
      },
      "execution_count": 297,
      "outputs": [
        {
          "output_type": "stream",
          "name": "stdout",
          "text": [
            "Current depth is 0\n",
            "Money_spent_lots was chosen as the best feature\n",
            "Left entropy: 0.0 | Right entropy: 0.7219280948873623\n",
            "------------------------------------------------------------\n",
            "Current depth is 1\n",
            "Looks_repulsive was chosen as the best feature\n",
            "Left entropy: 0.0 | Right entropy: 1.0\n",
            "------------------------------------------------------------\n",
            "Current depth is 2\n",
            "Eloquence_high was chosen as the best feature\n",
            "Left entropy: 0.0 | Right entropy: 0.0\n",
            "------------------------------------------------------------\n"
          ]
        }
      ]
    },
    {
      "cell_type": "code",
      "source": [],
      "metadata": {
        "id": "ydoStWXBdXxy"
      },
      "execution_count": 297,
      "outputs": []
    }
  ]
}