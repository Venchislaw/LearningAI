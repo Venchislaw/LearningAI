{
  "nbformat": 4,
  "nbformat_minor": 0,
  "metadata": {
    "colab": {
      "provenance": []
    },
    "kernelspec": {
      "name": "python3",
      "display_name": "Python 3"
    },
    "language_info": {
      "name": "python"
    }
  },
  "cells": [
    {
      "cell_type": "code",
      "execution_count": 3,
      "metadata": {
        "id": "dSxb6liiMiCT"
      },
      "outputs": [],
      "source": [
        "import os\n",
        "import numpy as np\n",
        "import matplotlib.pyplot as plt\n",
        "from sklearn.datasets import load_files\n",
        "from sklearn.feature_extraction.text import CountVectorizer\n",
        "from sklearn.linear_model import LogisticRegression"
      ]
    },
    {
      "cell_type": "code",
      "source": [
        "import tarfile\n",
        "from io import BytesIO\n",
        "\n",
        "import requests\n",
        "\n",
        "url = 'http://ai.stanford.edu/~amaas/data/sentiment/aclImdb_v1.tar.gz'\n",
        "\n",
        "def load_imdb_data(path, overwrite=False):\n",
        "  if (\n",
        "      os.path.isfile(os.path.join(path, \"aclImdb\", \"README\"))\n",
        "      and not overwrite\n",
        "  ):\n",
        "    print('IMDB already setted')\n",
        "    return\n",
        "\n",
        "  print('IMDB dataset downloading: ')\n",
        "\n",
        "  response = requests.get(url)\n",
        "\n",
        "  tar = tarfile.open(mode='r:gz', fileobj=BytesIO(response.content))\n",
        "  data = tar.extractall(path)\n",
        "\n"
      ],
      "metadata": {
        "id": "DIqsqZy4PTWt"
      },
      "execution_count": 4,
      "outputs": []
    },
    {
      "cell_type": "code",
      "source": [
        "DATA_PATH = \"https://github.com/Yorko/mlcourse.ai/\"\n",
        "\n",
        "load_imdb_data(path=DATA_PATH)"
      ],
      "metadata": {
        "colab": {
          "base_uri": "https://localhost:8080/"
        },
        "id": "aN0S6iU1QQAl",
        "outputId": "43f1518f-b1cd-40fe-b42a-2c4fd6196e3b"
      },
      "execution_count": 8,
      "outputs": [
        {
          "output_type": "stream",
          "name": "stdout",
          "text": [
            "IMDB dataset downloading: \n"
          ]
        }
      ]
    },
    {
      "cell_type": "code",
      "source": [
        "# change if you have it in alternative location\n",
        "PATH_TO_IMDB = DATA_PATH + \"aclImdb\"\n",
        "\n",
        "reviews_train = load_files(\n",
        "    os.path.join(PATH_TO_IMDB, \"train\"), categories=[\"pos\", \"neg\"]\n",
        ")\n",
        "text_train, y_train = reviews_train.data, reviews_train.target\n",
        "\n",
        "reviews_test = load_files(os.path.join(PATH_TO_IMDB, \"test\"), categories=[\"pos\", \"neg\"])\n",
        "text_test, y_test = reviews_test.data, reviews_test.target"
      ],
      "metadata": {
        "id": "QTZ-uLWyQU7c"
      },
      "execution_count": 9,
      "outputs": []
    },
    {
      "cell_type": "code",
      "source": [
        "print(\"Number of documents in training data: %d\" % len(text_train))\n",
        "print(np.bincount(y_train))\n",
        "print(\"Number of documents in test data: %d\" % len(text_test))\n",
        "print(np.bincount(y_test))"
      ],
      "metadata": {
        "colab": {
          "base_uri": "https://localhost:8080/"
        },
        "id": "zIbE7KaAQyLV",
        "outputId": "85d5cb80-de4c-478b-f340-06bf93d3f206"
      },
      "execution_count": 10,
      "outputs": [
        {
          "output_type": "stream",
          "name": "stdout",
          "text": [
            "Number of documents in training data: 25000\n",
            "[12500 12500]\n",
            "Number of documents in test data: 25000\n",
            "[12500 12500]\n"
          ]
        }
      ]
    },
    {
      "cell_type": "code",
      "source": [
        "print(text_train[1])"
      ],
      "metadata": {
        "colab": {
          "base_uri": "https://localhost:8080/"
        },
        "id": "QnIt_v-IQ1bE",
        "outputId": "ff8e2d18-59a4-4e04-ef55-1ed12557b7ed"
      },
      "execution_count": 14,
      "outputs": [
        {
          "output_type": "stream",
          "name": "stdout",
          "text": [
            "b'Words can\\'t describe how bad this movie is. I can\\'t explain it by writing only. You have too see it for yourself to get at grip of how horrible a movie really can be. Not that I recommend you to do that. There are so many clich\\xc3\\xa9s, mistakes (and all other negative things you can imagine) here that will just make you cry. To start with the technical first, there are a LOT of mistakes regarding the airplane. I won\\'t list them here, but just mention the coloring of the plane. They didn\\'t even manage to show an airliner in the colors of a fictional airline, but instead used a 747 painted in the original Boeing livery. Very bad. The plot is stupid and has been done many times before, only much, much better. There are so many ridiculous moments here that i lost count of it really early. Also, I was on the bad guys\\' side all the time in the movie, because the good guys were so stupid. \"Executive Decision\" should without a doubt be you\\'re choice over this one, even the \"Turbulence\"-movies are better. In fact, every other movie in the world is better than this one.'\n"
          ]
        }
      ]
    },
    {
      "cell_type": "code",
      "source": [
        "print(y_train[1])"
      ],
      "metadata": {
        "colab": {
          "base_uri": "https://localhost:8080/"
        },
        "id": "9oLwDS08Q4wk",
        "outputId": "22e971c3-3c2e-4308-f278-bcc8a32636cd"
      },
      "execution_count": 15,
      "outputs": [
        {
          "output_type": "stream",
          "name": "stdout",
          "text": [
            "0\n"
          ]
        }
      ]
    },
    {
      "cell_type": "code",
      "source": [],
      "metadata": {
        "id": "OQvxCW77Q_F7"
      },
      "execution_count": null,
      "outputs": []
    },
    {
      "cell_type": "code",
      "source": [
        "print(text_train[2])"
      ],
      "metadata": {
        "colab": {
          "base_uri": "https://localhost:8080/"
        },
        "outputId": "dbfff74e-a726-45d5-d968-76b8ce2dfc80",
        "id": "3hDh933rRHTs"
      },
      "execution_count": 16,
      "outputs": [
        {
          "output_type": "stream",
          "name": "stdout",
          "text": [
            "b'Everyone plays their part pretty well in this \"little nice movie\". Belushi gets the chance to live part of his life differently, but ends up realizing that what he had was going to be just as good or maybe even better. The movie shows us that we ought to take advantage of the opportunities we have, not the ones we do not or cannot have. If U can get this movie on video for around $10, it\\xc2\\xb4d be an investment!'\n"
          ]
        }
      ]
    },
    {
      "cell_type": "code",
      "source": [
        "print(y_train[2])"
      ],
      "metadata": {
        "colab": {
          "base_uri": "https://localhost:8080/"
        },
        "outputId": "9f502b72-9096-4902-9e30-f785b2749ccf",
        "id": "udZj8fD4RHTt"
      },
      "execution_count": 17,
      "outputs": [
        {
          "output_type": "stream",
          "name": "stdout",
          "text": [
            "1\n"
          ]
        }
      ]
    },
    {
      "cell_type": "code",
      "source": [
        "# Let's Create Dictionary of ALL words using count vectorizer"
      ],
      "metadata": {
        "id": "Y2YDda4rRIck"
      },
      "execution_count": 18,
      "outputs": []
    },
    {
      "cell_type": "code",
      "source": [
        "cv = CountVectorizer()\n",
        "cv.fit(text_train)\n",
        "\n",
        "len(cv.vocabulary_)"
      ],
      "metadata": {
        "colab": {
          "base_uri": "https://localhost:8080/"
        },
        "id": "JCz-ZK7ORR17",
        "outputId": "6c3631d4-f1db-4dee-9ebd-66044ab6e007"
      },
      "execution_count": 20,
      "outputs": [
        {
          "output_type": "execute_result",
          "data": {
            "text/plain": [
              "74849"
            ]
          },
          "metadata": {},
          "execution_count": 20
        }
      ]
    },
    {
      "cell_type": "code",
      "source": [
        "X_train = cv.transform(text_train)\n",
        "X_train"
      ],
      "metadata": {
        "colab": {
          "base_uri": "https://localhost:8080/"
        },
        "id": "f8MIKJthRX1j",
        "outputId": "7d99c69d-e4a6-4367-c0f4-80db2e5055f3"
      },
      "execution_count": 21,
      "outputs": [
        {
          "output_type": "execute_result",
          "data": {
            "text/plain": [
              "<25000x74849 sparse matrix of type '<class 'numpy.int64'>'\n",
              "\twith 3445861 stored elements in Compressed Sparse Row format>"
            ]
          },
          "metadata": {},
          "execution_count": 21
        }
      ]
    },
    {
      "cell_type": "code",
      "source": [
        "print(text_train[19726])"
      ],
      "metadata": {
        "colab": {
          "base_uri": "https://localhost:8080/"
        },
        "id": "HTJ_3orcRqi7",
        "outputId": "a7345389-d41b-484c-ea02-4e06ef1ec035"
      },
      "execution_count": 22,
      "outputs": [
        {
          "output_type": "stream",
          "name": "stdout",
          "text": [
            "b'This movie is terrible but it has some good effects.'\n"
          ]
        }
      ]
    },
    {
      "cell_type": "code",
      "source": [
        "X_train[19726].nonzero()[1]"
      ],
      "metadata": {
        "colab": {
          "base_uri": "https://localhost:8080/"
        },
        "id": "l3LvdxscRvcr",
        "outputId": "1ad0430c-2732-46d4-c9a0-87f87b3eb7ee"
      },
      "execution_count": 26,
      "outputs": [
        {
          "output_type": "execute_result",
          "data": {
            "text/plain": [
              "array([ 9881, 21020, 28068, 29999, 34585, 34683, 44147, 61617, 66150,\n",
              "       66562], dtype=int32)"
            ]
          },
          "metadata": {},
          "execution_count": 26
        }
      ]
    },
    {
      "cell_type": "code",
      "source": [
        "X_test = cv.transform(text_test)"
      ],
      "metadata": {
        "id": "7p5-chgKR0yj"
      },
      "execution_count": 27,
      "outputs": []
    },
    {
      "cell_type": "code",
      "source": [],
      "metadata": {
        "id": "TVxdiGfCR_Bz"
      },
      "execution_count": null,
      "outputs": []
    }
  ]
}