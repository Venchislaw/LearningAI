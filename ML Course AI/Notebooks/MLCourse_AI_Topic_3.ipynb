{
  "nbformat": 4,
  "nbformat_minor": 0,
  "metadata": {
    "colab": {
      "provenance": []
    },
    "kernelspec": {
      "name": "python3",
      "display_name": "Python 3"
    },
    "language_info": {
      "name": "python"
    },
    "widgets": {
      "application/vnd.jupyter.widget-state+json": {
        "b283416370b24db78f19d11f4b235bad": {
          "model_module": "@jupyter-widgets/controls",
          "model_name": "HBoxModel",
          "model_module_version": "1.5.0",
          "state": {
            "_dom_classes": [],
            "_model_module": "@jupyter-widgets/controls",
            "_model_module_version": "1.5.0",
            "_model_name": "HBoxModel",
            "_view_count": null,
            "_view_module": "@jupyter-widgets/controls",
            "_view_module_version": "1.5.0",
            "_view_name": "HBoxView",
            "box_style": "",
            "children": [
              "IPY_MODEL_d09531e1b4cd4b10ab783f723da2ce35",
              "IPY_MODEL_605ec6fa14454211bfad2620823f8934",
              "IPY_MODEL_55c5892a33994801ac644bf808b07659"
            ],
            "layout": "IPY_MODEL_67efdcc05da64bc3ae3bc67a99ef6355"
          }
        },
        "d09531e1b4cd4b10ab783f723da2ce35": {
          "model_module": "@jupyter-widgets/controls",
          "model_name": "HTMLModel",
          "model_module_version": "1.5.0",
          "state": {
            "_dom_classes": [],
            "_model_module": "@jupyter-widgets/controls",
            "_model_module_version": "1.5.0",
            "_model_name": "HTMLModel",
            "_view_count": null,
            "_view_module": "@jupyter-widgets/controls",
            "_view_module_version": "1.5.0",
            "_view_name": "HTMLView",
            "description": "",
            "description_tooltip": null,
            "layout": "IPY_MODEL_95894a96039f4cedaa973cacfe9c58d1",
            "placeholder": "​",
            "style": "IPY_MODEL_6d6c3e08e2794d9d81e7a4508c72c052",
            "value": "100%"
          }
        },
        "605ec6fa14454211bfad2620823f8934": {
          "model_module": "@jupyter-widgets/controls",
          "model_name": "FloatProgressModel",
          "model_module_version": "1.5.0",
          "state": {
            "_dom_classes": [],
            "_model_module": "@jupyter-widgets/controls",
            "_model_module_version": "1.5.0",
            "_model_name": "FloatProgressModel",
            "_view_count": null,
            "_view_module": "@jupyter-widgets/controls",
            "_view_module_version": "1.5.0",
            "_view_name": "ProgressView",
            "bar_style": "success",
            "description": "",
            "description_tooltip": null,
            "layout": "IPY_MODEL_d2b9ab7330d249cfa4f2a0bd38fb2b30",
            "max": 9,
            "min": 0,
            "orientation": "horizontal",
            "style": "IPY_MODEL_fc5ca3fcffdd45d1af4971af15a0d3db",
            "value": 9
          }
        },
        "55c5892a33994801ac644bf808b07659": {
          "model_module": "@jupyter-widgets/controls",
          "model_name": "HTMLModel",
          "model_module_version": "1.5.0",
          "state": {
            "_dom_classes": [],
            "_model_module": "@jupyter-widgets/controls",
            "_model_module_version": "1.5.0",
            "_model_name": "HTMLModel",
            "_view_count": null,
            "_view_module": "@jupyter-widgets/controls",
            "_view_module_version": "1.5.0",
            "_view_name": "HTMLView",
            "description": "",
            "description_tooltip": null,
            "layout": "IPY_MODEL_407b3c34bdd446bf8150f6842bd0ae0a",
            "placeholder": "​",
            "style": "IPY_MODEL_c3264bfa209d4c13a9f5c82b34461c01",
            "value": " 9/9 [00:01&lt;00:00,  6.44it/s]"
          }
        },
        "67efdcc05da64bc3ae3bc67a99ef6355": {
          "model_module": "@jupyter-widgets/base",
          "model_name": "LayoutModel",
          "model_module_version": "1.2.0",
          "state": {
            "_model_module": "@jupyter-widgets/base",
            "_model_module_version": "1.2.0",
            "_model_name": "LayoutModel",
            "_view_count": null,
            "_view_module": "@jupyter-widgets/base",
            "_view_module_version": "1.2.0",
            "_view_name": "LayoutView",
            "align_content": null,
            "align_items": null,
            "align_self": null,
            "border": null,
            "bottom": null,
            "display": null,
            "flex": null,
            "flex_flow": null,
            "grid_area": null,
            "grid_auto_columns": null,
            "grid_auto_flow": null,
            "grid_auto_rows": null,
            "grid_column": null,
            "grid_gap": null,
            "grid_row": null,
            "grid_template_areas": null,
            "grid_template_columns": null,
            "grid_template_rows": null,
            "height": null,
            "justify_content": null,
            "justify_items": null,
            "left": null,
            "margin": null,
            "max_height": null,
            "max_width": null,
            "min_height": null,
            "min_width": null,
            "object_fit": null,
            "object_position": null,
            "order": null,
            "overflow": null,
            "overflow_x": null,
            "overflow_y": null,
            "padding": null,
            "right": null,
            "top": null,
            "visibility": null,
            "width": null
          }
        },
        "95894a96039f4cedaa973cacfe9c58d1": {
          "model_module": "@jupyter-widgets/base",
          "model_name": "LayoutModel",
          "model_module_version": "1.2.0",
          "state": {
            "_model_module": "@jupyter-widgets/base",
            "_model_module_version": "1.2.0",
            "_model_name": "LayoutModel",
            "_view_count": null,
            "_view_module": "@jupyter-widgets/base",
            "_view_module_version": "1.2.0",
            "_view_name": "LayoutView",
            "align_content": null,
            "align_items": null,
            "align_self": null,
            "border": null,
            "bottom": null,
            "display": null,
            "flex": null,
            "flex_flow": null,
            "grid_area": null,
            "grid_auto_columns": null,
            "grid_auto_flow": null,
            "grid_auto_rows": null,
            "grid_column": null,
            "grid_gap": null,
            "grid_row": null,
            "grid_template_areas": null,
            "grid_template_columns": null,
            "grid_template_rows": null,
            "height": null,
            "justify_content": null,
            "justify_items": null,
            "left": null,
            "margin": null,
            "max_height": null,
            "max_width": null,
            "min_height": null,
            "min_width": null,
            "object_fit": null,
            "object_position": null,
            "order": null,
            "overflow": null,
            "overflow_x": null,
            "overflow_y": null,
            "padding": null,
            "right": null,
            "top": null,
            "visibility": null,
            "width": null
          }
        },
        "6d6c3e08e2794d9d81e7a4508c72c052": {
          "model_module": "@jupyter-widgets/controls",
          "model_name": "DescriptionStyleModel",
          "model_module_version": "1.5.0",
          "state": {
            "_model_module": "@jupyter-widgets/controls",
            "_model_module_version": "1.5.0",
            "_model_name": "DescriptionStyleModel",
            "_view_count": null,
            "_view_module": "@jupyter-widgets/base",
            "_view_module_version": "1.2.0",
            "_view_name": "StyleView",
            "description_width": ""
          }
        },
        "d2b9ab7330d249cfa4f2a0bd38fb2b30": {
          "model_module": "@jupyter-widgets/base",
          "model_name": "LayoutModel",
          "model_module_version": "1.2.0",
          "state": {
            "_model_module": "@jupyter-widgets/base",
            "_model_module_version": "1.2.0",
            "_model_name": "LayoutModel",
            "_view_count": null,
            "_view_module": "@jupyter-widgets/base",
            "_view_module_version": "1.2.0",
            "_view_name": "LayoutView",
            "align_content": null,
            "align_items": null,
            "align_self": null,
            "border": null,
            "bottom": null,
            "display": null,
            "flex": null,
            "flex_flow": null,
            "grid_area": null,
            "grid_auto_columns": null,
            "grid_auto_flow": null,
            "grid_auto_rows": null,
            "grid_column": null,
            "grid_gap": null,
            "grid_row": null,
            "grid_template_areas": null,
            "grid_template_columns": null,
            "grid_template_rows": null,
            "height": null,
            "justify_content": null,
            "justify_items": null,
            "left": null,
            "margin": null,
            "max_height": null,
            "max_width": null,
            "min_height": null,
            "min_width": null,
            "object_fit": null,
            "object_position": null,
            "order": null,
            "overflow": null,
            "overflow_x": null,
            "overflow_y": null,
            "padding": null,
            "right": null,
            "top": null,
            "visibility": null,
            "width": null
          }
        },
        "fc5ca3fcffdd45d1af4971af15a0d3db": {
          "model_module": "@jupyter-widgets/controls",
          "model_name": "ProgressStyleModel",
          "model_module_version": "1.5.0",
          "state": {
            "_model_module": "@jupyter-widgets/controls",
            "_model_module_version": "1.5.0",
            "_model_name": "ProgressStyleModel",
            "_view_count": null,
            "_view_module": "@jupyter-widgets/base",
            "_view_module_version": "1.2.0",
            "_view_name": "StyleView",
            "bar_color": null,
            "description_width": ""
          }
        },
        "407b3c34bdd446bf8150f6842bd0ae0a": {
          "model_module": "@jupyter-widgets/base",
          "model_name": "LayoutModel",
          "model_module_version": "1.2.0",
          "state": {
            "_model_module": "@jupyter-widgets/base",
            "_model_module_version": "1.2.0",
            "_model_name": "LayoutModel",
            "_view_count": null,
            "_view_module": "@jupyter-widgets/base",
            "_view_module_version": "1.2.0",
            "_view_name": "LayoutView",
            "align_content": null,
            "align_items": null,
            "align_self": null,
            "border": null,
            "bottom": null,
            "display": null,
            "flex": null,
            "flex_flow": null,
            "grid_area": null,
            "grid_auto_columns": null,
            "grid_auto_flow": null,
            "grid_auto_rows": null,
            "grid_column": null,
            "grid_gap": null,
            "grid_row": null,
            "grid_template_areas": null,
            "grid_template_columns": null,
            "grid_template_rows": null,
            "height": null,
            "justify_content": null,
            "justify_items": null,
            "left": null,
            "margin": null,
            "max_height": null,
            "max_width": null,
            "min_height": null,
            "min_width": null,
            "object_fit": null,
            "object_position": null,
            "order": null,
            "overflow": null,
            "overflow_x": null,
            "overflow_y": null,
            "padding": null,
            "right": null,
            "top": null,
            "visibility": null,
            "width": null
          }
        },
        "c3264bfa209d4c13a9f5c82b34461c01": {
          "model_module": "@jupyter-widgets/controls",
          "model_name": "DescriptionStyleModel",
          "model_module_version": "1.5.0",
          "state": {
            "_model_module": "@jupyter-widgets/controls",
            "_model_module_version": "1.5.0",
            "_model_name": "DescriptionStyleModel",
            "_view_count": null,
            "_view_module": "@jupyter-widgets/base",
            "_view_module_version": "1.2.0",
            "_view_name": "StyleView",
            "description_width": ""
          }
        },
        "914e5443e0574fb282b11de81961686a": {
          "model_module": "@jupyter-widgets/controls",
          "model_name": "ImageModel",
          "model_module_version": "1.5.0",
          "state": {
            "_dom_classes": [],
            "_model_module": "@jupyter-widgets/controls",
            "_model_module_version": "1.5.0",
            "_model_name": "ImageModel",
            "_view_count": null,
            "_view_module": "@jupyter-widgets/controls",
            "_view_module_version": "1.5.0",
            "_view_name": "ImageView",
            "format": "png",
            "height": "",
            "layout": "IPY_MODEL_416a34939bc54184addca09d485e8c32",
            "width": ""
          }
        },
        "416a34939bc54184addca09d485e8c32": {
          "model_module": "@jupyter-widgets/base",
          "model_name": "LayoutModel",
          "model_module_version": "1.2.0",
          "state": {
            "_model_module": "@jupyter-widgets/base",
            "_model_module_version": "1.2.0",
            "_model_name": "LayoutModel",
            "_view_count": null,
            "_view_module": "@jupyter-widgets/base",
            "_view_module_version": "1.2.0",
            "_view_name": "LayoutView",
            "align_content": null,
            "align_items": null,
            "align_self": null,
            "border": null,
            "bottom": null,
            "display": null,
            "flex": null,
            "flex_flow": null,
            "grid_area": null,
            "grid_auto_columns": null,
            "grid_auto_flow": null,
            "grid_auto_rows": null,
            "grid_column": null,
            "grid_gap": null,
            "grid_row": null,
            "grid_template_areas": null,
            "grid_template_columns": null,
            "grid_template_rows": null,
            "height": null,
            "justify_content": null,
            "justify_items": null,
            "left": null,
            "margin": null,
            "max_height": null,
            "max_width": null,
            "min_height": null,
            "min_width": null,
            "object_fit": null,
            "object_position": null,
            "order": null,
            "overflow": null,
            "overflow_x": null,
            "overflow_y": null,
            "padding": null,
            "right": null,
            "top": null,
            "visibility": null,
            "width": null
          }
        }
      }
    }
  },
  "cells": [
    {
      "cell_type": "code",
      "execution_count": 108,
      "metadata": {
        "id": "OtPU6FAp9FBc"
      },
      "outputs": [],
      "source": [
        "import numpy as np\n",
        "import pandas as pd\n",
        "import matplotlib.pyplot as plt\n",
        "import seaborn as sns"
      ]
    },
    {
      "cell_type": "code",
      "source": [
        "DATA_URL = \"https://raw.githubusercontent.com/Yorko/mlcourse.ai/main/data/\"\n",
        "df = pd.read_csv(DATA_URL + \"telecom_churn.csv\")\n",
        "\n",
        "df.head()"
      ],
      "metadata": {
        "colab": {
          "base_uri": "https://localhost:8080/",
          "height": 261
        },
        "id": "ltS2XYdV9Z7N",
        "outputId": "70f00410-1ad2-4dac-f144-d9cb13a1bd21"
      },
      "execution_count": 109,
      "outputs": [
        {
          "output_type": "execute_result",
          "data": {
            "text/plain": [
              "  State  Account length  Area code International plan Voice mail plan  \\\n",
              "0    KS             128        415                 No             Yes   \n",
              "1    OH             107        415                 No             Yes   \n",
              "2    NJ             137        415                 No              No   \n",
              "3    OH              84        408                Yes              No   \n",
              "4    OK              75        415                Yes              No   \n",
              "\n",
              "   Number vmail messages  Total day minutes  Total day calls  \\\n",
              "0                     25              265.1              110   \n",
              "1                     26              161.6              123   \n",
              "2                      0              243.4              114   \n",
              "3                      0              299.4               71   \n",
              "4                      0              166.7              113   \n",
              "\n",
              "   Total day charge  Total eve minutes  Total eve calls  Total eve charge  \\\n",
              "0             45.07              197.4               99             16.78   \n",
              "1             27.47              195.5              103             16.62   \n",
              "2             41.38              121.2              110             10.30   \n",
              "3             50.90               61.9               88              5.26   \n",
              "4             28.34              148.3              122             12.61   \n",
              "\n",
              "   Total night minutes  Total night calls  Total night charge  \\\n",
              "0                244.7                 91               11.01   \n",
              "1                254.4                103               11.45   \n",
              "2                162.6                104                7.32   \n",
              "3                196.9                 89                8.86   \n",
              "4                186.9                121                8.41   \n",
              "\n",
              "   Total intl minutes  Total intl calls  Total intl charge  \\\n",
              "0                10.0                 3               2.70   \n",
              "1                13.7                 3               3.70   \n",
              "2                12.2                 5               3.29   \n",
              "3                 6.6                 7               1.78   \n",
              "4                10.1                 3               2.73   \n",
              "\n",
              "   Customer service calls  Churn  \n",
              "0                       1  False  \n",
              "1                       1  False  \n",
              "2                       0  False  \n",
              "3                       2  False  \n",
              "4                       3  False  "
            ],
            "text/html": [
              "\n",
              "  <div id=\"df-c65984b8-5d74-466d-8f8d-1751b1d46ba0\" class=\"colab-df-container\">\n",
              "    <div>\n",
              "<style scoped>\n",
              "    .dataframe tbody tr th:only-of-type {\n",
              "        vertical-align: middle;\n",
              "    }\n",
              "\n",
              "    .dataframe tbody tr th {\n",
              "        vertical-align: top;\n",
              "    }\n",
              "\n",
              "    .dataframe thead th {\n",
              "        text-align: right;\n",
              "    }\n",
              "</style>\n",
              "<table border=\"1\" class=\"dataframe\">\n",
              "  <thead>\n",
              "    <tr style=\"text-align: right;\">\n",
              "      <th></th>\n",
              "      <th>State</th>\n",
              "      <th>Account length</th>\n",
              "      <th>Area code</th>\n",
              "      <th>International plan</th>\n",
              "      <th>Voice mail plan</th>\n",
              "      <th>Number vmail messages</th>\n",
              "      <th>Total day minutes</th>\n",
              "      <th>Total day calls</th>\n",
              "      <th>Total day charge</th>\n",
              "      <th>Total eve minutes</th>\n",
              "      <th>Total eve calls</th>\n",
              "      <th>Total eve charge</th>\n",
              "      <th>Total night minutes</th>\n",
              "      <th>Total night calls</th>\n",
              "      <th>Total night charge</th>\n",
              "      <th>Total intl minutes</th>\n",
              "      <th>Total intl calls</th>\n",
              "      <th>Total intl charge</th>\n",
              "      <th>Customer service calls</th>\n",
              "      <th>Churn</th>\n",
              "    </tr>\n",
              "  </thead>\n",
              "  <tbody>\n",
              "    <tr>\n",
              "      <th>0</th>\n",
              "      <td>KS</td>\n",
              "      <td>128</td>\n",
              "      <td>415</td>\n",
              "      <td>No</td>\n",
              "      <td>Yes</td>\n",
              "      <td>25</td>\n",
              "      <td>265.1</td>\n",
              "      <td>110</td>\n",
              "      <td>45.07</td>\n",
              "      <td>197.4</td>\n",
              "      <td>99</td>\n",
              "      <td>16.78</td>\n",
              "      <td>244.7</td>\n",
              "      <td>91</td>\n",
              "      <td>11.01</td>\n",
              "      <td>10.0</td>\n",
              "      <td>3</td>\n",
              "      <td>2.70</td>\n",
              "      <td>1</td>\n",
              "      <td>False</td>\n",
              "    </tr>\n",
              "    <tr>\n",
              "      <th>1</th>\n",
              "      <td>OH</td>\n",
              "      <td>107</td>\n",
              "      <td>415</td>\n",
              "      <td>No</td>\n",
              "      <td>Yes</td>\n",
              "      <td>26</td>\n",
              "      <td>161.6</td>\n",
              "      <td>123</td>\n",
              "      <td>27.47</td>\n",
              "      <td>195.5</td>\n",
              "      <td>103</td>\n",
              "      <td>16.62</td>\n",
              "      <td>254.4</td>\n",
              "      <td>103</td>\n",
              "      <td>11.45</td>\n",
              "      <td>13.7</td>\n",
              "      <td>3</td>\n",
              "      <td>3.70</td>\n",
              "      <td>1</td>\n",
              "      <td>False</td>\n",
              "    </tr>\n",
              "    <tr>\n",
              "      <th>2</th>\n",
              "      <td>NJ</td>\n",
              "      <td>137</td>\n",
              "      <td>415</td>\n",
              "      <td>No</td>\n",
              "      <td>No</td>\n",
              "      <td>0</td>\n",
              "      <td>243.4</td>\n",
              "      <td>114</td>\n",
              "      <td>41.38</td>\n",
              "      <td>121.2</td>\n",
              "      <td>110</td>\n",
              "      <td>10.30</td>\n",
              "      <td>162.6</td>\n",
              "      <td>104</td>\n",
              "      <td>7.32</td>\n",
              "      <td>12.2</td>\n",
              "      <td>5</td>\n",
              "      <td>3.29</td>\n",
              "      <td>0</td>\n",
              "      <td>False</td>\n",
              "    </tr>\n",
              "    <tr>\n",
              "      <th>3</th>\n",
              "      <td>OH</td>\n",
              "      <td>84</td>\n",
              "      <td>408</td>\n",
              "      <td>Yes</td>\n",
              "      <td>No</td>\n",
              "      <td>0</td>\n",
              "      <td>299.4</td>\n",
              "      <td>71</td>\n",
              "      <td>50.90</td>\n",
              "      <td>61.9</td>\n",
              "      <td>88</td>\n",
              "      <td>5.26</td>\n",
              "      <td>196.9</td>\n",
              "      <td>89</td>\n",
              "      <td>8.86</td>\n",
              "      <td>6.6</td>\n",
              "      <td>7</td>\n",
              "      <td>1.78</td>\n",
              "      <td>2</td>\n",
              "      <td>False</td>\n",
              "    </tr>\n",
              "    <tr>\n",
              "      <th>4</th>\n",
              "      <td>OK</td>\n",
              "      <td>75</td>\n",
              "      <td>415</td>\n",
              "      <td>Yes</td>\n",
              "      <td>No</td>\n",
              "      <td>0</td>\n",
              "      <td>166.7</td>\n",
              "      <td>113</td>\n",
              "      <td>28.34</td>\n",
              "      <td>148.3</td>\n",
              "      <td>122</td>\n",
              "      <td>12.61</td>\n",
              "      <td>186.9</td>\n",
              "      <td>121</td>\n",
              "      <td>8.41</td>\n",
              "      <td>10.1</td>\n",
              "      <td>3</td>\n",
              "      <td>2.73</td>\n",
              "      <td>3</td>\n",
              "      <td>False</td>\n",
              "    </tr>\n",
              "  </tbody>\n",
              "</table>\n",
              "</div>\n",
              "    <div class=\"colab-df-buttons\">\n",
              "\n",
              "  <div class=\"colab-df-container\">\n",
              "    <button class=\"colab-df-convert\" onclick=\"convertToInteractive('df-c65984b8-5d74-466d-8f8d-1751b1d46ba0')\"\n",
              "            title=\"Convert this dataframe to an interactive table.\"\n",
              "            style=\"display:none;\">\n",
              "\n",
              "  <svg xmlns=\"http://www.w3.org/2000/svg\" height=\"24px\" viewBox=\"0 -960 960 960\">\n",
              "    <path d=\"M120-120v-720h720v720H120Zm60-500h600v-160H180v160Zm220 220h160v-160H400v160Zm0 220h160v-160H400v160ZM180-400h160v-160H180v160Zm440 0h160v-160H620v160ZM180-180h160v-160H180v160Zm440 0h160v-160H620v160Z\"/>\n",
              "  </svg>\n",
              "    </button>\n",
              "\n",
              "  <style>\n",
              "    .colab-df-container {\n",
              "      display:flex;\n",
              "      gap: 12px;\n",
              "    }\n",
              "\n",
              "    .colab-df-convert {\n",
              "      background-color: #E8F0FE;\n",
              "      border: none;\n",
              "      border-radius: 50%;\n",
              "      cursor: pointer;\n",
              "      display: none;\n",
              "      fill: #1967D2;\n",
              "      height: 32px;\n",
              "      padding: 0 0 0 0;\n",
              "      width: 32px;\n",
              "    }\n",
              "\n",
              "    .colab-df-convert:hover {\n",
              "      background-color: #E2EBFA;\n",
              "      box-shadow: 0px 1px 2px rgba(60, 64, 67, 0.3), 0px 1px 3px 1px rgba(60, 64, 67, 0.15);\n",
              "      fill: #174EA6;\n",
              "    }\n",
              "\n",
              "    .colab-df-buttons div {\n",
              "      margin-bottom: 4px;\n",
              "    }\n",
              "\n",
              "    [theme=dark] .colab-df-convert {\n",
              "      background-color: #3B4455;\n",
              "      fill: #D2E3FC;\n",
              "    }\n",
              "\n",
              "    [theme=dark] .colab-df-convert:hover {\n",
              "      background-color: #434B5C;\n",
              "      box-shadow: 0px 1px 3px 1px rgba(0, 0, 0, 0.15);\n",
              "      filter: drop-shadow(0px 1px 2px rgba(0, 0, 0, 0.3));\n",
              "      fill: #FFFFFF;\n",
              "    }\n",
              "  </style>\n",
              "\n",
              "    <script>\n",
              "      const buttonEl =\n",
              "        document.querySelector('#df-c65984b8-5d74-466d-8f8d-1751b1d46ba0 button.colab-df-convert');\n",
              "      buttonEl.style.display =\n",
              "        google.colab.kernel.accessAllowed ? 'block' : 'none';\n",
              "\n",
              "      async function convertToInteractive(key) {\n",
              "        const element = document.querySelector('#df-c65984b8-5d74-466d-8f8d-1751b1d46ba0');\n",
              "        const dataTable =\n",
              "          await google.colab.kernel.invokeFunction('convertToInteractive',\n",
              "                                                    [key], {});\n",
              "        if (!dataTable) return;\n",
              "\n",
              "        const docLinkHtml = 'Like what you see? Visit the ' +\n",
              "          '<a target=\"_blank\" href=https://colab.research.google.com/notebooks/data_table.ipynb>data table notebook</a>'\n",
              "          + ' to learn more about interactive tables.';\n",
              "        element.innerHTML = '';\n",
              "        dataTable['output_type'] = 'display_data';\n",
              "        await google.colab.output.renderOutput(dataTable, element);\n",
              "        const docLink = document.createElement('div');\n",
              "        docLink.innerHTML = docLinkHtml;\n",
              "        element.appendChild(docLink);\n",
              "      }\n",
              "    </script>\n",
              "  </div>\n",
              "\n",
              "\n",
              "<div id=\"df-73d6a258-e2e0-4f90-b6c8-aeb196e2128f\">\n",
              "  <button class=\"colab-df-quickchart\" onclick=\"quickchart('df-73d6a258-e2e0-4f90-b6c8-aeb196e2128f')\"\n",
              "            title=\"Suggest charts\"\n",
              "            style=\"display:none;\">\n",
              "\n",
              "<svg xmlns=\"http://www.w3.org/2000/svg\" height=\"24px\"viewBox=\"0 0 24 24\"\n",
              "     width=\"24px\">\n",
              "    <g>\n",
              "        <path d=\"M19 3H5c-1.1 0-2 .9-2 2v14c0 1.1.9 2 2 2h14c1.1 0 2-.9 2-2V5c0-1.1-.9-2-2-2zM9 17H7v-7h2v7zm4 0h-2V7h2v10zm4 0h-2v-4h2v4z\"/>\n",
              "    </g>\n",
              "</svg>\n",
              "  </button>\n",
              "\n",
              "<style>\n",
              "  .colab-df-quickchart {\n",
              "      --bg-color: #E8F0FE;\n",
              "      --fill-color: #1967D2;\n",
              "      --hover-bg-color: #E2EBFA;\n",
              "      --hover-fill-color: #174EA6;\n",
              "      --disabled-fill-color: #AAA;\n",
              "      --disabled-bg-color: #DDD;\n",
              "  }\n",
              "\n",
              "  [theme=dark] .colab-df-quickchart {\n",
              "      --bg-color: #3B4455;\n",
              "      --fill-color: #D2E3FC;\n",
              "      --hover-bg-color: #434B5C;\n",
              "      --hover-fill-color: #FFFFFF;\n",
              "      --disabled-bg-color: #3B4455;\n",
              "      --disabled-fill-color: #666;\n",
              "  }\n",
              "\n",
              "  .colab-df-quickchart {\n",
              "    background-color: var(--bg-color);\n",
              "    border: none;\n",
              "    border-radius: 50%;\n",
              "    cursor: pointer;\n",
              "    display: none;\n",
              "    fill: var(--fill-color);\n",
              "    height: 32px;\n",
              "    padding: 0;\n",
              "    width: 32px;\n",
              "  }\n",
              "\n",
              "  .colab-df-quickchart:hover {\n",
              "    background-color: var(--hover-bg-color);\n",
              "    box-shadow: 0 1px 2px rgba(60, 64, 67, 0.3), 0 1px 3px 1px rgba(60, 64, 67, 0.15);\n",
              "    fill: var(--button-hover-fill-color);\n",
              "  }\n",
              "\n",
              "  .colab-df-quickchart-complete:disabled,\n",
              "  .colab-df-quickchart-complete:disabled:hover {\n",
              "    background-color: var(--disabled-bg-color);\n",
              "    fill: var(--disabled-fill-color);\n",
              "    box-shadow: none;\n",
              "  }\n",
              "\n",
              "  .colab-df-spinner {\n",
              "    border: 2px solid var(--fill-color);\n",
              "    border-color: transparent;\n",
              "    border-bottom-color: var(--fill-color);\n",
              "    animation:\n",
              "      spin 1s steps(1) infinite;\n",
              "  }\n",
              "\n",
              "  @keyframes spin {\n",
              "    0% {\n",
              "      border-color: transparent;\n",
              "      border-bottom-color: var(--fill-color);\n",
              "      border-left-color: var(--fill-color);\n",
              "    }\n",
              "    20% {\n",
              "      border-color: transparent;\n",
              "      border-left-color: var(--fill-color);\n",
              "      border-top-color: var(--fill-color);\n",
              "    }\n",
              "    30% {\n",
              "      border-color: transparent;\n",
              "      border-left-color: var(--fill-color);\n",
              "      border-top-color: var(--fill-color);\n",
              "      border-right-color: var(--fill-color);\n",
              "    }\n",
              "    40% {\n",
              "      border-color: transparent;\n",
              "      border-right-color: var(--fill-color);\n",
              "      border-top-color: var(--fill-color);\n",
              "    }\n",
              "    60% {\n",
              "      border-color: transparent;\n",
              "      border-right-color: var(--fill-color);\n",
              "    }\n",
              "    80% {\n",
              "      border-color: transparent;\n",
              "      border-right-color: var(--fill-color);\n",
              "      border-bottom-color: var(--fill-color);\n",
              "    }\n",
              "    90% {\n",
              "      border-color: transparent;\n",
              "      border-bottom-color: var(--fill-color);\n",
              "    }\n",
              "  }\n",
              "</style>\n",
              "\n",
              "  <script>\n",
              "    async function quickchart(key) {\n",
              "      const quickchartButtonEl =\n",
              "        document.querySelector('#' + key + ' button');\n",
              "      quickchartButtonEl.disabled = true;  // To prevent multiple clicks.\n",
              "      quickchartButtonEl.classList.add('colab-df-spinner');\n",
              "      try {\n",
              "        const charts = await google.colab.kernel.invokeFunction(\n",
              "            'suggestCharts', [key], {});\n",
              "      } catch (error) {\n",
              "        console.error('Error during call to suggestCharts:', error);\n",
              "      }\n",
              "      quickchartButtonEl.classList.remove('colab-df-spinner');\n",
              "      quickchartButtonEl.classList.add('colab-df-quickchart-complete');\n",
              "    }\n",
              "    (() => {\n",
              "      let quickchartButtonEl =\n",
              "        document.querySelector('#df-73d6a258-e2e0-4f90-b6c8-aeb196e2128f button');\n",
              "      quickchartButtonEl.style.display =\n",
              "        google.colab.kernel.accessAllowed ? 'block' : 'none';\n",
              "    })();\n",
              "  </script>\n",
              "</div>\n",
              "    </div>\n",
              "  </div>\n"
            ],
            "application/vnd.google.colaboratory.intrinsic+json": {
              "type": "dataframe",
              "variable_name": "df",
              "summary": "{\n  \"name\": \"df\",\n  \"rows\": 3333,\n  \"fields\": [\n    {\n      \"column\": \"State\",\n      \"properties\": {\n        \"dtype\": \"category\",\n        \"num_unique_values\": 51,\n        \"samples\": [\n          \"DC\",\n          \"WA\",\n          \"MS\"\n        ],\n        \"semantic_type\": \"\",\n        \"description\": \"\"\n      }\n    },\n    {\n      \"column\": \"Account length\",\n      \"properties\": {\n        \"dtype\": \"number\",\n        \"std\": 39,\n        \"min\": 1,\n        \"max\": 243,\n        \"num_unique_values\": 212,\n        \"samples\": [\n          172,\n          189,\n          44\n        ],\n        \"semantic_type\": \"\",\n        \"description\": \"\"\n      }\n    },\n    {\n      \"column\": \"Area code\",\n      \"properties\": {\n        \"dtype\": \"number\",\n        \"std\": 42,\n        \"min\": 408,\n        \"max\": 510,\n        \"num_unique_values\": 3,\n        \"samples\": [\n          415,\n          408,\n          510\n        ],\n        \"semantic_type\": \"\",\n        \"description\": \"\"\n      }\n    },\n    {\n      \"column\": \"International plan\",\n      \"properties\": {\n        \"dtype\": \"category\",\n        \"num_unique_values\": 2,\n        \"samples\": [\n          \"Yes\",\n          \"No\"\n        ],\n        \"semantic_type\": \"\",\n        \"description\": \"\"\n      }\n    },\n    {\n      \"column\": \"Voice mail plan\",\n      \"properties\": {\n        \"dtype\": \"category\",\n        \"num_unique_values\": 2,\n        \"samples\": [\n          \"No\",\n          \"Yes\"\n        ],\n        \"semantic_type\": \"\",\n        \"description\": \"\"\n      }\n    },\n    {\n      \"column\": \"Number vmail messages\",\n      \"properties\": {\n        \"dtype\": \"number\",\n        \"std\": 13,\n        \"min\": 0,\n        \"max\": 51,\n        \"num_unique_values\": 46,\n        \"samples\": [\n          44,\n          48\n        ],\n        \"semantic_type\": \"\",\n        \"description\": \"\"\n      }\n    },\n    {\n      \"column\": \"Total day minutes\",\n      \"properties\": {\n        \"dtype\": \"number\",\n        \"std\": 54.46738920237137,\n        \"min\": 0.0,\n        \"max\": 350.8,\n        \"num_unique_values\": 1667,\n        \"samples\": [\n          87.6,\n          115.7\n        ],\n        \"semantic_type\": \"\",\n        \"description\": \"\"\n      }\n    },\n    {\n      \"column\": \"Total day calls\",\n      \"properties\": {\n        \"dtype\": \"number\",\n        \"std\": 20,\n        \"min\": 0,\n        \"max\": 165,\n        \"num_unique_values\": 119,\n        \"samples\": [\n          125,\n          59\n        ],\n        \"semantic_type\": \"\",\n        \"description\": \"\"\n      }\n    },\n    {\n      \"column\": \"Total day charge\",\n      \"properties\": {\n        \"dtype\": \"number\",\n        \"std\": 9.2594345539305,\n        \"min\": 0.0,\n        \"max\": 59.64,\n        \"num_unique_values\": 1667,\n        \"samples\": [\n          14.89,\n          19.67\n        ],\n        \"semantic_type\": \"\",\n        \"description\": \"\"\n      }\n    },\n    {\n      \"column\": \"Total eve minutes\",\n      \"properties\": {\n        \"dtype\": \"number\",\n        \"std\": 50.713844425812,\n        \"min\": 0.0,\n        \"max\": 363.7,\n        \"num_unique_values\": 1611,\n        \"samples\": [\n          215.1,\n          219.1\n        ],\n        \"semantic_type\": \"\",\n        \"description\": \"\"\n      }\n    },\n    {\n      \"column\": \"Total eve calls\",\n      \"properties\": {\n        \"dtype\": \"number\",\n        \"std\": 19,\n        \"min\": 0,\n        \"max\": 170,\n        \"num_unique_values\": 123,\n        \"samples\": [\n          93,\n          142\n        ],\n        \"semantic_type\": \"\",\n        \"description\": \"\"\n      }\n    },\n    {\n      \"column\": \"Total eve charge\",\n      \"properties\": {\n        \"dtype\": \"number\",\n        \"std\": 4.310667643110341,\n        \"min\": 0.0,\n        \"max\": 30.91,\n        \"num_unique_values\": 1440,\n        \"samples\": [\n          24.85,\n          14.19\n        ],\n        \"semantic_type\": \"\",\n        \"description\": \"\"\n      }\n    },\n    {\n      \"column\": \"Total night minutes\",\n      \"properties\": {\n        \"dtype\": \"number\",\n        \"std\": 50.57384701365836,\n        \"min\": 23.2,\n        \"max\": 395.0,\n        \"num_unique_values\": 1591,\n        \"samples\": [\n          311.1,\n          179.1\n        ],\n        \"semantic_type\": \"\",\n        \"description\": \"\"\n      }\n    },\n    {\n      \"column\": \"Total night calls\",\n      \"properties\": {\n        \"dtype\": \"number\",\n        \"std\": 19,\n        \"min\": 33,\n        \"max\": 175,\n        \"num_unique_values\": 120,\n        \"samples\": [\n          60,\n          73\n        ],\n        \"semantic_type\": \"\",\n        \"description\": \"\"\n      }\n    },\n    {\n      \"column\": \"Total night charge\",\n      \"properties\": {\n        \"dtype\": \"number\",\n        \"std\": 2.275872837660029,\n        \"min\": 1.04,\n        \"max\": 17.77,\n        \"num_unique_values\": 933,\n        \"samples\": [\n          6.2,\n          6.86\n        ],\n        \"semantic_type\": \"\",\n        \"description\": \"\"\n      }\n    },\n    {\n      \"column\": \"Total intl minutes\",\n      \"properties\": {\n        \"dtype\": \"number\",\n        \"std\": 2.791839548408416,\n        \"min\": 0.0,\n        \"max\": 20.0,\n        \"num_unique_values\": 162,\n        \"samples\": [\n          16.6,\n          14.8\n        ],\n        \"semantic_type\": \"\",\n        \"description\": \"\"\n      }\n    },\n    {\n      \"column\": \"Total intl calls\",\n      \"properties\": {\n        \"dtype\": \"number\",\n        \"std\": 2,\n        \"min\": 0,\n        \"max\": 20,\n        \"num_unique_values\": 21,\n        \"samples\": [\n          3,\n          14\n        ],\n        \"semantic_type\": \"\",\n        \"description\": \"\"\n      }\n    },\n    {\n      \"column\": \"Total intl charge\",\n      \"properties\": {\n        \"dtype\": \"number\",\n        \"std\": 0.753772612663046,\n        \"min\": 0.0,\n        \"max\": 5.4,\n        \"num_unique_values\": 162,\n        \"samples\": [\n          4.48,\n          4.0\n        ],\n        \"semantic_type\": \"\",\n        \"description\": \"\"\n      }\n    },\n    {\n      \"column\": \"Customer service calls\",\n      \"properties\": {\n        \"dtype\": \"number\",\n        \"std\": 1,\n        \"min\": 0,\n        \"max\": 9,\n        \"num_unique_values\": 10,\n        \"samples\": [\n          6,\n          0\n        ],\n        \"semantic_type\": \"\",\n        \"description\": \"\"\n      }\n    },\n    {\n      \"column\": \"Churn\",\n      \"properties\": {\n        \"dtype\": \"boolean\",\n        \"num_unique_values\": 2,\n        \"samples\": [\n          true,\n          false\n        ],\n        \"semantic_type\": \"\",\n        \"description\": \"\"\n      }\n    }\n  ]\n}"
            }
          },
          "metadata": {},
          "execution_count": 109
        }
      ]
    },
    {
      "cell_type": "code",
      "source": [
        "df['International plan'] = df['International plan'].map({'Yes': 1, 'No': 0})\n",
        "df['Voice mail plan'] = df['Voice mail plan'].map({'Yes': 1, 'No': 0})"
      ],
      "metadata": {
        "id": "YFLThsQeCome"
      },
      "execution_count": 110,
      "outputs": []
    },
    {
      "cell_type": "code",
      "source": [
        "df['Churn'] = df['Churn'].astype('int')"
      ],
      "metadata": {
        "id": "vuuVwbncDkxp"
      },
      "execution_count": 111,
      "outputs": []
    },
    {
      "cell_type": "code",
      "source": [
        "df.head()"
      ],
      "metadata": {
        "colab": {
          "base_uri": "https://localhost:8080/",
          "height": 261
        },
        "id": "Uw40V1UkDogR",
        "outputId": "6569c693-ef0c-499d-af0f-11015084c0a6"
      },
      "execution_count": 112,
      "outputs": [
        {
          "output_type": "execute_result",
          "data": {
            "text/plain": [
              "  State  Account length  Area code  International plan  Voice mail plan  \\\n",
              "0    KS             128        415                   0                1   \n",
              "1    OH             107        415                   0                1   \n",
              "2    NJ             137        415                   0                0   \n",
              "3    OH              84        408                   1                0   \n",
              "4    OK              75        415                   1                0   \n",
              "\n",
              "   Number vmail messages  Total day minutes  Total day calls  \\\n",
              "0                     25              265.1              110   \n",
              "1                     26              161.6              123   \n",
              "2                      0              243.4              114   \n",
              "3                      0              299.4               71   \n",
              "4                      0              166.7              113   \n",
              "\n",
              "   Total day charge  Total eve minutes  Total eve calls  Total eve charge  \\\n",
              "0             45.07              197.4               99             16.78   \n",
              "1             27.47              195.5              103             16.62   \n",
              "2             41.38              121.2              110             10.30   \n",
              "3             50.90               61.9               88              5.26   \n",
              "4             28.34              148.3              122             12.61   \n",
              "\n",
              "   Total night minutes  Total night calls  Total night charge  \\\n",
              "0                244.7                 91               11.01   \n",
              "1                254.4                103               11.45   \n",
              "2                162.6                104                7.32   \n",
              "3                196.9                 89                8.86   \n",
              "4                186.9                121                8.41   \n",
              "\n",
              "   Total intl minutes  Total intl calls  Total intl charge  \\\n",
              "0                10.0                 3               2.70   \n",
              "1                13.7                 3               3.70   \n",
              "2                12.2                 5               3.29   \n",
              "3                 6.6                 7               1.78   \n",
              "4                10.1                 3               2.73   \n",
              "\n",
              "   Customer service calls  Churn  \n",
              "0                       1      0  \n",
              "1                       1      0  \n",
              "2                       0      0  \n",
              "3                       2      0  \n",
              "4                       3      0  "
            ],
            "text/html": [
              "\n",
              "  <div id=\"df-bd4c916a-9e1d-430a-88b4-6fe2ae317238\" class=\"colab-df-container\">\n",
              "    <div>\n",
              "<style scoped>\n",
              "    .dataframe tbody tr th:only-of-type {\n",
              "        vertical-align: middle;\n",
              "    }\n",
              "\n",
              "    .dataframe tbody tr th {\n",
              "        vertical-align: top;\n",
              "    }\n",
              "\n",
              "    .dataframe thead th {\n",
              "        text-align: right;\n",
              "    }\n",
              "</style>\n",
              "<table border=\"1\" class=\"dataframe\">\n",
              "  <thead>\n",
              "    <tr style=\"text-align: right;\">\n",
              "      <th></th>\n",
              "      <th>State</th>\n",
              "      <th>Account length</th>\n",
              "      <th>Area code</th>\n",
              "      <th>International plan</th>\n",
              "      <th>Voice mail plan</th>\n",
              "      <th>Number vmail messages</th>\n",
              "      <th>Total day minutes</th>\n",
              "      <th>Total day calls</th>\n",
              "      <th>Total day charge</th>\n",
              "      <th>Total eve minutes</th>\n",
              "      <th>Total eve calls</th>\n",
              "      <th>Total eve charge</th>\n",
              "      <th>Total night minutes</th>\n",
              "      <th>Total night calls</th>\n",
              "      <th>Total night charge</th>\n",
              "      <th>Total intl minutes</th>\n",
              "      <th>Total intl calls</th>\n",
              "      <th>Total intl charge</th>\n",
              "      <th>Customer service calls</th>\n",
              "      <th>Churn</th>\n",
              "    </tr>\n",
              "  </thead>\n",
              "  <tbody>\n",
              "    <tr>\n",
              "      <th>0</th>\n",
              "      <td>KS</td>\n",
              "      <td>128</td>\n",
              "      <td>415</td>\n",
              "      <td>0</td>\n",
              "      <td>1</td>\n",
              "      <td>25</td>\n",
              "      <td>265.1</td>\n",
              "      <td>110</td>\n",
              "      <td>45.07</td>\n",
              "      <td>197.4</td>\n",
              "      <td>99</td>\n",
              "      <td>16.78</td>\n",
              "      <td>244.7</td>\n",
              "      <td>91</td>\n",
              "      <td>11.01</td>\n",
              "      <td>10.0</td>\n",
              "      <td>3</td>\n",
              "      <td>2.70</td>\n",
              "      <td>1</td>\n",
              "      <td>0</td>\n",
              "    </tr>\n",
              "    <tr>\n",
              "      <th>1</th>\n",
              "      <td>OH</td>\n",
              "      <td>107</td>\n",
              "      <td>415</td>\n",
              "      <td>0</td>\n",
              "      <td>1</td>\n",
              "      <td>26</td>\n",
              "      <td>161.6</td>\n",
              "      <td>123</td>\n",
              "      <td>27.47</td>\n",
              "      <td>195.5</td>\n",
              "      <td>103</td>\n",
              "      <td>16.62</td>\n",
              "      <td>254.4</td>\n",
              "      <td>103</td>\n",
              "      <td>11.45</td>\n",
              "      <td>13.7</td>\n",
              "      <td>3</td>\n",
              "      <td>3.70</td>\n",
              "      <td>1</td>\n",
              "      <td>0</td>\n",
              "    </tr>\n",
              "    <tr>\n",
              "      <th>2</th>\n",
              "      <td>NJ</td>\n",
              "      <td>137</td>\n",
              "      <td>415</td>\n",
              "      <td>0</td>\n",
              "      <td>0</td>\n",
              "      <td>0</td>\n",
              "      <td>243.4</td>\n",
              "      <td>114</td>\n",
              "      <td>41.38</td>\n",
              "      <td>121.2</td>\n",
              "      <td>110</td>\n",
              "      <td>10.30</td>\n",
              "      <td>162.6</td>\n",
              "      <td>104</td>\n",
              "      <td>7.32</td>\n",
              "      <td>12.2</td>\n",
              "      <td>5</td>\n",
              "      <td>3.29</td>\n",
              "      <td>0</td>\n",
              "      <td>0</td>\n",
              "    </tr>\n",
              "    <tr>\n",
              "      <th>3</th>\n",
              "      <td>OH</td>\n",
              "      <td>84</td>\n",
              "      <td>408</td>\n",
              "      <td>1</td>\n",
              "      <td>0</td>\n",
              "      <td>0</td>\n",
              "      <td>299.4</td>\n",
              "      <td>71</td>\n",
              "      <td>50.90</td>\n",
              "      <td>61.9</td>\n",
              "      <td>88</td>\n",
              "      <td>5.26</td>\n",
              "      <td>196.9</td>\n",
              "      <td>89</td>\n",
              "      <td>8.86</td>\n",
              "      <td>6.6</td>\n",
              "      <td>7</td>\n",
              "      <td>1.78</td>\n",
              "      <td>2</td>\n",
              "      <td>0</td>\n",
              "    </tr>\n",
              "    <tr>\n",
              "      <th>4</th>\n",
              "      <td>OK</td>\n",
              "      <td>75</td>\n",
              "      <td>415</td>\n",
              "      <td>1</td>\n",
              "      <td>0</td>\n",
              "      <td>0</td>\n",
              "      <td>166.7</td>\n",
              "      <td>113</td>\n",
              "      <td>28.34</td>\n",
              "      <td>148.3</td>\n",
              "      <td>122</td>\n",
              "      <td>12.61</td>\n",
              "      <td>186.9</td>\n",
              "      <td>121</td>\n",
              "      <td>8.41</td>\n",
              "      <td>10.1</td>\n",
              "      <td>3</td>\n",
              "      <td>2.73</td>\n",
              "      <td>3</td>\n",
              "      <td>0</td>\n",
              "    </tr>\n",
              "  </tbody>\n",
              "</table>\n",
              "</div>\n",
              "    <div class=\"colab-df-buttons\">\n",
              "\n",
              "  <div class=\"colab-df-container\">\n",
              "    <button class=\"colab-df-convert\" onclick=\"convertToInteractive('df-bd4c916a-9e1d-430a-88b4-6fe2ae317238')\"\n",
              "            title=\"Convert this dataframe to an interactive table.\"\n",
              "            style=\"display:none;\">\n",
              "\n",
              "  <svg xmlns=\"http://www.w3.org/2000/svg\" height=\"24px\" viewBox=\"0 -960 960 960\">\n",
              "    <path d=\"M120-120v-720h720v720H120Zm60-500h600v-160H180v160Zm220 220h160v-160H400v160Zm0 220h160v-160H400v160ZM180-400h160v-160H180v160Zm440 0h160v-160H620v160ZM180-180h160v-160H180v160Zm440 0h160v-160H620v160Z\"/>\n",
              "  </svg>\n",
              "    </button>\n",
              "\n",
              "  <style>\n",
              "    .colab-df-container {\n",
              "      display:flex;\n",
              "      gap: 12px;\n",
              "    }\n",
              "\n",
              "    .colab-df-convert {\n",
              "      background-color: #E8F0FE;\n",
              "      border: none;\n",
              "      border-radius: 50%;\n",
              "      cursor: pointer;\n",
              "      display: none;\n",
              "      fill: #1967D2;\n",
              "      height: 32px;\n",
              "      padding: 0 0 0 0;\n",
              "      width: 32px;\n",
              "    }\n",
              "\n",
              "    .colab-df-convert:hover {\n",
              "      background-color: #E2EBFA;\n",
              "      box-shadow: 0px 1px 2px rgba(60, 64, 67, 0.3), 0px 1px 3px 1px rgba(60, 64, 67, 0.15);\n",
              "      fill: #174EA6;\n",
              "    }\n",
              "\n",
              "    .colab-df-buttons div {\n",
              "      margin-bottom: 4px;\n",
              "    }\n",
              "\n",
              "    [theme=dark] .colab-df-convert {\n",
              "      background-color: #3B4455;\n",
              "      fill: #D2E3FC;\n",
              "    }\n",
              "\n",
              "    [theme=dark] .colab-df-convert:hover {\n",
              "      background-color: #434B5C;\n",
              "      box-shadow: 0px 1px 3px 1px rgba(0, 0, 0, 0.15);\n",
              "      filter: drop-shadow(0px 1px 2px rgba(0, 0, 0, 0.3));\n",
              "      fill: #FFFFFF;\n",
              "    }\n",
              "  </style>\n",
              "\n",
              "    <script>\n",
              "      const buttonEl =\n",
              "        document.querySelector('#df-bd4c916a-9e1d-430a-88b4-6fe2ae317238 button.colab-df-convert');\n",
              "      buttonEl.style.display =\n",
              "        google.colab.kernel.accessAllowed ? 'block' : 'none';\n",
              "\n",
              "      async function convertToInteractive(key) {\n",
              "        const element = document.querySelector('#df-bd4c916a-9e1d-430a-88b4-6fe2ae317238');\n",
              "        const dataTable =\n",
              "          await google.colab.kernel.invokeFunction('convertToInteractive',\n",
              "                                                    [key], {});\n",
              "        if (!dataTable) return;\n",
              "\n",
              "        const docLinkHtml = 'Like what you see? Visit the ' +\n",
              "          '<a target=\"_blank\" href=https://colab.research.google.com/notebooks/data_table.ipynb>data table notebook</a>'\n",
              "          + ' to learn more about interactive tables.';\n",
              "        element.innerHTML = '';\n",
              "        dataTable['output_type'] = 'display_data';\n",
              "        await google.colab.output.renderOutput(dataTable, element);\n",
              "        const docLink = document.createElement('div');\n",
              "        docLink.innerHTML = docLinkHtml;\n",
              "        element.appendChild(docLink);\n",
              "      }\n",
              "    </script>\n",
              "  </div>\n",
              "\n",
              "\n",
              "<div id=\"df-3c4d7a62-2622-4138-9f41-bfa1dab8fbe9\">\n",
              "  <button class=\"colab-df-quickchart\" onclick=\"quickchart('df-3c4d7a62-2622-4138-9f41-bfa1dab8fbe9')\"\n",
              "            title=\"Suggest charts\"\n",
              "            style=\"display:none;\">\n",
              "\n",
              "<svg xmlns=\"http://www.w3.org/2000/svg\" height=\"24px\"viewBox=\"0 0 24 24\"\n",
              "     width=\"24px\">\n",
              "    <g>\n",
              "        <path d=\"M19 3H5c-1.1 0-2 .9-2 2v14c0 1.1.9 2 2 2h14c1.1 0 2-.9 2-2V5c0-1.1-.9-2-2-2zM9 17H7v-7h2v7zm4 0h-2V7h2v10zm4 0h-2v-4h2v4z\"/>\n",
              "    </g>\n",
              "</svg>\n",
              "  </button>\n",
              "\n",
              "<style>\n",
              "  .colab-df-quickchart {\n",
              "      --bg-color: #E8F0FE;\n",
              "      --fill-color: #1967D2;\n",
              "      --hover-bg-color: #E2EBFA;\n",
              "      --hover-fill-color: #174EA6;\n",
              "      --disabled-fill-color: #AAA;\n",
              "      --disabled-bg-color: #DDD;\n",
              "  }\n",
              "\n",
              "  [theme=dark] .colab-df-quickchart {\n",
              "      --bg-color: #3B4455;\n",
              "      --fill-color: #D2E3FC;\n",
              "      --hover-bg-color: #434B5C;\n",
              "      --hover-fill-color: #FFFFFF;\n",
              "      --disabled-bg-color: #3B4455;\n",
              "      --disabled-fill-color: #666;\n",
              "  }\n",
              "\n",
              "  .colab-df-quickchart {\n",
              "    background-color: var(--bg-color);\n",
              "    border: none;\n",
              "    border-radius: 50%;\n",
              "    cursor: pointer;\n",
              "    display: none;\n",
              "    fill: var(--fill-color);\n",
              "    height: 32px;\n",
              "    padding: 0;\n",
              "    width: 32px;\n",
              "  }\n",
              "\n",
              "  .colab-df-quickchart:hover {\n",
              "    background-color: var(--hover-bg-color);\n",
              "    box-shadow: 0 1px 2px rgba(60, 64, 67, 0.3), 0 1px 3px 1px rgba(60, 64, 67, 0.15);\n",
              "    fill: var(--button-hover-fill-color);\n",
              "  }\n",
              "\n",
              "  .colab-df-quickchart-complete:disabled,\n",
              "  .colab-df-quickchart-complete:disabled:hover {\n",
              "    background-color: var(--disabled-bg-color);\n",
              "    fill: var(--disabled-fill-color);\n",
              "    box-shadow: none;\n",
              "  }\n",
              "\n",
              "  .colab-df-spinner {\n",
              "    border: 2px solid var(--fill-color);\n",
              "    border-color: transparent;\n",
              "    border-bottom-color: var(--fill-color);\n",
              "    animation:\n",
              "      spin 1s steps(1) infinite;\n",
              "  }\n",
              "\n",
              "  @keyframes spin {\n",
              "    0% {\n",
              "      border-color: transparent;\n",
              "      border-bottom-color: var(--fill-color);\n",
              "      border-left-color: var(--fill-color);\n",
              "    }\n",
              "    20% {\n",
              "      border-color: transparent;\n",
              "      border-left-color: var(--fill-color);\n",
              "      border-top-color: var(--fill-color);\n",
              "    }\n",
              "    30% {\n",
              "      border-color: transparent;\n",
              "      border-left-color: var(--fill-color);\n",
              "      border-top-color: var(--fill-color);\n",
              "      border-right-color: var(--fill-color);\n",
              "    }\n",
              "    40% {\n",
              "      border-color: transparent;\n",
              "      border-right-color: var(--fill-color);\n",
              "      border-top-color: var(--fill-color);\n",
              "    }\n",
              "    60% {\n",
              "      border-color: transparent;\n",
              "      border-right-color: var(--fill-color);\n",
              "    }\n",
              "    80% {\n",
              "      border-color: transparent;\n",
              "      border-right-color: var(--fill-color);\n",
              "      border-bottom-color: var(--fill-color);\n",
              "    }\n",
              "    90% {\n",
              "      border-color: transparent;\n",
              "      border-bottom-color: var(--fill-color);\n",
              "    }\n",
              "  }\n",
              "</style>\n",
              "\n",
              "  <script>\n",
              "    async function quickchart(key) {\n",
              "      const quickchartButtonEl =\n",
              "        document.querySelector('#' + key + ' button');\n",
              "      quickchartButtonEl.disabled = true;  // To prevent multiple clicks.\n",
              "      quickchartButtonEl.classList.add('colab-df-spinner');\n",
              "      try {\n",
              "        const charts = await google.colab.kernel.invokeFunction(\n",
              "            'suggestCharts', [key], {});\n",
              "      } catch (error) {\n",
              "        console.error('Error during call to suggestCharts:', error);\n",
              "      }\n",
              "      quickchartButtonEl.classList.remove('colab-df-spinner');\n",
              "      quickchartButtonEl.classList.add('colab-df-quickchart-complete');\n",
              "    }\n",
              "    (() => {\n",
              "      let quickchartButtonEl =\n",
              "        document.querySelector('#df-3c4d7a62-2622-4138-9f41-bfa1dab8fbe9 button');\n",
              "      quickchartButtonEl.style.display =\n",
              "        google.colab.kernel.accessAllowed ? 'block' : 'none';\n",
              "    })();\n",
              "  </script>\n",
              "</div>\n",
              "    </div>\n",
              "  </div>\n"
            ],
            "application/vnd.google.colaboratory.intrinsic+json": {
              "type": "dataframe",
              "variable_name": "df",
              "summary": "{\n  \"name\": \"df\",\n  \"rows\": 3333,\n  \"fields\": [\n    {\n      \"column\": \"State\",\n      \"properties\": {\n        \"dtype\": \"category\",\n        \"num_unique_values\": 51,\n        \"samples\": [\n          \"DC\",\n          \"WA\",\n          \"MS\"\n        ],\n        \"semantic_type\": \"\",\n        \"description\": \"\"\n      }\n    },\n    {\n      \"column\": \"Account length\",\n      \"properties\": {\n        \"dtype\": \"number\",\n        \"std\": 39,\n        \"min\": 1,\n        \"max\": 243,\n        \"num_unique_values\": 212,\n        \"samples\": [\n          172,\n          189,\n          44\n        ],\n        \"semantic_type\": \"\",\n        \"description\": \"\"\n      }\n    },\n    {\n      \"column\": \"Area code\",\n      \"properties\": {\n        \"dtype\": \"number\",\n        \"std\": 42,\n        \"min\": 408,\n        \"max\": 510,\n        \"num_unique_values\": 3,\n        \"samples\": [\n          415,\n          408,\n          510\n        ],\n        \"semantic_type\": \"\",\n        \"description\": \"\"\n      }\n    },\n    {\n      \"column\": \"International plan\",\n      \"properties\": {\n        \"dtype\": \"number\",\n        \"std\": 0,\n        \"min\": 0,\n        \"max\": 1,\n        \"num_unique_values\": 2,\n        \"samples\": [\n          1,\n          0\n        ],\n        \"semantic_type\": \"\",\n        \"description\": \"\"\n      }\n    },\n    {\n      \"column\": \"Voice mail plan\",\n      \"properties\": {\n        \"dtype\": \"number\",\n        \"std\": 0,\n        \"min\": 0,\n        \"max\": 1,\n        \"num_unique_values\": 2,\n        \"samples\": [\n          0,\n          1\n        ],\n        \"semantic_type\": \"\",\n        \"description\": \"\"\n      }\n    },\n    {\n      \"column\": \"Number vmail messages\",\n      \"properties\": {\n        \"dtype\": \"number\",\n        \"std\": 13,\n        \"min\": 0,\n        \"max\": 51,\n        \"num_unique_values\": 46,\n        \"samples\": [\n          44,\n          48\n        ],\n        \"semantic_type\": \"\",\n        \"description\": \"\"\n      }\n    },\n    {\n      \"column\": \"Total day minutes\",\n      \"properties\": {\n        \"dtype\": \"number\",\n        \"std\": 54.46738920237137,\n        \"min\": 0.0,\n        \"max\": 350.8,\n        \"num_unique_values\": 1667,\n        \"samples\": [\n          87.6,\n          115.7\n        ],\n        \"semantic_type\": \"\",\n        \"description\": \"\"\n      }\n    },\n    {\n      \"column\": \"Total day calls\",\n      \"properties\": {\n        \"dtype\": \"number\",\n        \"std\": 20,\n        \"min\": 0,\n        \"max\": 165,\n        \"num_unique_values\": 119,\n        \"samples\": [\n          125,\n          59\n        ],\n        \"semantic_type\": \"\",\n        \"description\": \"\"\n      }\n    },\n    {\n      \"column\": \"Total day charge\",\n      \"properties\": {\n        \"dtype\": \"number\",\n        \"std\": 9.2594345539305,\n        \"min\": 0.0,\n        \"max\": 59.64,\n        \"num_unique_values\": 1667,\n        \"samples\": [\n          14.89,\n          19.67\n        ],\n        \"semantic_type\": \"\",\n        \"description\": \"\"\n      }\n    },\n    {\n      \"column\": \"Total eve minutes\",\n      \"properties\": {\n        \"dtype\": \"number\",\n        \"std\": 50.713844425812,\n        \"min\": 0.0,\n        \"max\": 363.7,\n        \"num_unique_values\": 1611,\n        \"samples\": [\n          215.1,\n          219.1\n        ],\n        \"semantic_type\": \"\",\n        \"description\": \"\"\n      }\n    },\n    {\n      \"column\": \"Total eve calls\",\n      \"properties\": {\n        \"dtype\": \"number\",\n        \"std\": 19,\n        \"min\": 0,\n        \"max\": 170,\n        \"num_unique_values\": 123,\n        \"samples\": [\n          93,\n          142\n        ],\n        \"semantic_type\": \"\",\n        \"description\": \"\"\n      }\n    },\n    {\n      \"column\": \"Total eve charge\",\n      \"properties\": {\n        \"dtype\": \"number\",\n        \"std\": 4.310667643110341,\n        \"min\": 0.0,\n        \"max\": 30.91,\n        \"num_unique_values\": 1440,\n        \"samples\": [\n          24.85,\n          14.19\n        ],\n        \"semantic_type\": \"\",\n        \"description\": \"\"\n      }\n    },\n    {\n      \"column\": \"Total night minutes\",\n      \"properties\": {\n        \"dtype\": \"number\",\n        \"std\": 50.57384701365836,\n        \"min\": 23.2,\n        \"max\": 395.0,\n        \"num_unique_values\": 1591,\n        \"samples\": [\n          311.1,\n          179.1\n        ],\n        \"semantic_type\": \"\",\n        \"description\": \"\"\n      }\n    },\n    {\n      \"column\": \"Total night calls\",\n      \"properties\": {\n        \"dtype\": \"number\",\n        \"std\": 19,\n        \"min\": 33,\n        \"max\": 175,\n        \"num_unique_values\": 120,\n        \"samples\": [\n          60,\n          73\n        ],\n        \"semantic_type\": \"\",\n        \"description\": \"\"\n      }\n    },\n    {\n      \"column\": \"Total night charge\",\n      \"properties\": {\n        \"dtype\": \"number\",\n        \"std\": 2.275872837660029,\n        \"min\": 1.04,\n        \"max\": 17.77,\n        \"num_unique_values\": 933,\n        \"samples\": [\n          6.2,\n          6.86\n        ],\n        \"semantic_type\": \"\",\n        \"description\": \"\"\n      }\n    },\n    {\n      \"column\": \"Total intl minutes\",\n      \"properties\": {\n        \"dtype\": \"number\",\n        \"std\": 2.791839548408416,\n        \"min\": 0.0,\n        \"max\": 20.0,\n        \"num_unique_values\": 162,\n        \"samples\": [\n          16.6,\n          14.8\n        ],\n        \"semantic_type\": \"\",\n        \"description\": \"\"\n      }\n    },\n    {\n      \"column\": \"Total intl calls\",\n      \"properties\": {\n        \"dtype\": \"number\",\n        \"std\": 2,\n        \"min\": 0,\n        \"max\": 20,\n        \"num_unique_values\": 21,\n        \"samples\": [\n          3,\n          14\n        ],\n        \"semantic_type\": \"\",\n        \"description\": \"\"\n      }\n    },\n    {\n      \"column\": \"Total intl charge\",\n      \"properties\": {\n        \"dtype\": \"number\",\n        \"std\": 0.753772612663046,\n        \"min\": 0.0,\n        \"max\": 5.4,\n        \"num_unique_values\": 162,\n        \"samples\": [\n          4.48,\n          4.0\n        ],\n        \"semantic_type\": \"\",\n        \"description\": \"\"\n      }\n    },\n    {\n      \"column\": \"Customer service calls\",\n      \"properties\": {\n        \"dtype\": \"number\",\n        \"std\": 1,\n        \"min\": 0,\n        \"max\": 9,\n        \"num_unique_values\": 10,\n        \"samples\": [\n          6,\n          0\n        ],\n        \"semantic_type\": \"\",\n        \"description\": \"\"\n      }\n    },\n    {\n      \"column\": \"Churn\",\n      \"properties\": {\n        \"dtype\": \"number\",\n        \"std\": 0,\n        \"min\": 0,\n        \"max\": 1,\n        \"num_unique_values\": 2,\n        \"samples\": [\n          1,\n          0\n        ],\n        \"semantic_type\": \"\",\n        \"description\": \"\"\n      }\n    }\n  ]\n}"
            }
          },
          "metadata": {},
          "execution_count": 112
        }
      ]
    },
    {
      "cell_type": "code",
      "source": [
        "# pop non-numeric feature\n",
        "states = df.pop('State')"
      ],
      "metadata": {
        "id": "0SqqE_OvD0hf"
      },
      "execution_count": 113,
      "outputs": []
    },
    {
      "cell_type": "code",
      "source": [
        "X, y = df.drop('Churn', axis=1), df['Churn']"
      ],
      "metadata": {
        "id": "SP4DfryzD2kx"
      },
      "execution_count": 114,
      "outputs": []
    },
    {
      "cell_type": "code",
      "source": [
        "X.shape, y.shape"
      ],
      "metadata": {
        "colab": {
          "base_uri": "https://localhost:8080/"
        },
        "id": "VUtBAZM_ERXt",
        "outputId": "b8a76ed3-f84d-4d91-c5ac-3ec3134fa074"
      },
      "execution_count": 115,
      "outputs": [
        {
          "output_type": "execute_result",
          "data": {
            "text/plain": [
              "((3333, 18), (3333,))"
            ]
          },
          "metadata": {},
          "execution_count": 115
        }
      ]
    },
    {
      "cell_type": "code",
      "source": [
        "from sklearn.model_selection import train_test_split"
      ],
      "metadata": {
        "id": "yRmRpbMGEXCn"
      },
      "execution_count": 116,
      "outputs": []
    },
    {
      "cell_type": "code",
      "source": [
        "X_train, X_holdout, y_train, y_holdout = \\\n",
        "train_test_split(X, y, test_size=0.3, random_state=17)"
      ],
      "metadata": {
        "id": "Nxf0om-BEk6O"
      },
      "execution_count": 117,
      "outputs": []
    },
    {
      "cell_type": "code",
      "source": [
        "X_train.shape, X_holdout.shape"
      ],
      "metadata": {
        "colab": {
          "base_uri": "https://localhost:8080/"
        },
        "id": "Fo7hqqBlE75F",
        "outputId": "aa073135-8300-4b61-fac7-cf8dffb25bdc"
      },
      "execution_count": 118,
      "outputs": [
        {
          "output_type": "execute_result",
          "data": {
            "text/plain": [
              "((2333, 18), (1000, 18))"
            ]
          },
          "metadata": {},
          "execution_count": 118
        }
      ]
    },
    {
      "cell_type": "code",
      "source": [
        "from sklearn.tree import DecisionTreeClassifier"
      ],
      "metadata": {
        "id": "GExc7d-NE-Yd"
      },
      "execution_count": 119,
      "outputs": []
    },
    {
      "cell_type": "code",
      "source": [
        "tree = DecisionTreeClassifier(random_state=17)"
      ],
      "metadata": {
        "id": "tQnNznd6F2GT"
      },
      "execution_count": 120,
      "outputs": []
    },
    {
      "cell_type": "code",
      "source": [
        "# fit-predict"
      ],
      "metadata": {
        "id": "7A5a_c7SGI-x"
      },
      "execution_count": 121,
      "outputs": []
    },
    {
      "cell_type": "code",
      "source": [
        "tree.fit(X_train, y_train)"
      ],
      "metadata": {
        "colab": {
          "base_uri": "https://localhost:8080/",
          "height": 75
        },
        "id": "Oazm8W-yGKzZ",
        "outputId": "4c0ddda1-5a9b-4fd8-b14a-6615a70f1df5"
      },
      "execution_count": 122,
      "outputs": [
        {
          "output_type": "execute_result",
          "data": {
            "text/plain": [
              "DecisionTreeClassifier(random_state=17)"
            ],
            "text/html": [
              "<style>#sk-container-id-8 {color: black;background-color: white;}#sk-container-id-8 pre{padding: 0;}#sk-container-id-8 div.sk-toggleable {background-color: white;}#sk-container-id-8 label.sk-toggleable__label {cursor: pointer;display: block;width: 100%;margin-bottom: 0;padding: 0.3em;box-sizing: border-box;text-align: center;}#sk-container-id-8 label.sk-toggleable__label-arrow:before {content: \"▸\";float: left;margin-right: 0.25em;color: #696969;}#sk-container-id-8 label.sk-toggleable__label-arrow:hover:before {color: black;}#sk-container-id-8 div.sk-estimator:hover label.sk-toggleable__label-arrow:before {color: black;}#sk-container-id-8 div.sk-toggleable__content {max-height: 0;max-width: 0;overflow: hidden;text-align: left;background-color: #f0f8ff;}#sk-container-id-8 div.sk-toggleable__content pre {margin: 0.2em;color: black;border-radius: 0.25em;background-color: #f0f8ff;}#sk-container-id-8 input.sk-toggleable__control:checked~div.sk-toggleable__content {max-height: 200px;max-width: 100%;overflow: auto;}#sk-container-id-8 input.sk-toggleable__control:checked~label.sk-toggleable__label-arrow:before {content: \"▾\";}#sk-container-id-8 div.sk-estimator input.sk-toggleable__control:checked~label.sk-toggleable__label {background-color: #d4ebff;}#sk-container-id-8 div.sk-label input.sk-toggleable__control:checked~label.sk-toggleable__label {background-color: #d4ebff;}#sk-container-id-8 input.sk-hidden--visually {border: 0;clip: rect(1px 1px 1px 1px);clip: rect(1px, 1px, 1px, 1px);height: 1px;margin: -1px;overflow: hidden;padding: 0;position: absolute;width: 1px;}#sk-container-id-8 div.sk-estimator {font-family: monospace;background-color: #f0f8ff;border: 1px dotted black;border-radius: 0.25em;box-sizing: border-box;margin-bottom: 0.5em;}#sk-container-id-8 div.sk-estimator:hover {background-color: #d4ebff;}#sk-container-id-8 div.sk-parallel-item::after {content: \"\";width: 100%;border-bottom: 1px solid gray;flex-grow: 1;}#sk-container-id-8 div.sk-label:hover label.sk-toggleable__label {background-color: #d4ebff;}#sk-container-id-8 div.sk-serial::before {content: \"\";position: absolute;border-left: 1px solid gray;box-sizing: border-box;top: 0;bottom: 0;left: 50%;z-index: 0;}#sk-container-id-8 div.sk-serial {display: flex;flex-direction: column;align-items: center;background-color: white;padding-right: 0.2em;padding-left: 0.2em;position: relative;}#sk-container-id-8 div.sk-item {position: relative;z-index: 1;}#sk-container-id-8 div.sk-parallel {display: flex;align-items: stretch;justify-content: center;background-color: white;position: relative;}#sk-container-id-8 div.sk-item::before, #sk-container-id-8 div.sk-parallel-item::before {content: \"\";position: absolute;border-left: 1px solid gray;box-sizing: border-box;top: 0;bottom: 0;left: 50%;z-index: -1;}#sk-container-id-8 div.sk-parallel-item {display: flex;flex-direction: column;z-index: 1;position: relative;background-color: white;}#sk-container-id-8 div.sk-parallel-item:first-child::after {align-self: flex-end;width: 50%;}#sk-container-id-8 div.sk-parallel-item:last-child::after {align-self: flex-start;width: 50%;}#sk-container-id-8 div.sk-parallel-item:only-child::after {width: 0;}#sk-container-id-8 div.sk-dashed-wrapped {border: 1px dashed gray;margin: 0 0.4em 0.5em 0.4em;box-sizing: border-box;padding-bottom: 0.4em;background-color: white;}#sk-container-id-8 div.sk-label label {font-family: monospace;font-weight: bold;display: inline-block;line-height: 1.2em;}#sk-container-id-8 div.sk-label-container {text-align: center;}#sk-container-id-8 div.sk-container {/* jupyter's `normalize.less` sets `[hidden] { display: none; }` but bootstrap.min.css set `[hidden] { display: none !important; }` so we also need the `!important` here to be able to override the default hidden behavior on the sphinx rendered scikit-learn.org. See: https://github.com/scikit-learn/scikit-learn/issues/21755 */display: inline-block !important;position: relative;}#sk-container-id-8 div.sk-text-repr-fallback {display: none;}</style><div id=\"sk-container-id-8\" class=\"sk-top-container\"><div class=\"sk-text-repr-fallback\"><pre>DecisionTreeClassifier(random_state=17)</pre><b>In a Jupyter environment, please rerun this cell to show the HTML representation or trust the notebook. <br />On GitHub, the HTML representation is unable to render, please try loading this page with nbviewer.org.</b></div><div class=\"sk-container\" hidden><div class=\"sk-item\"><div class=\"sk-estimator sk-toggleable\"><input class=\"sk-toggleable__control sk-hidden--visually\" id=\"sk-estimator-id-16\" type=\"checkbox\" checked><label for=\"sk-estimator-id-16\" class=\"sk-toggleable__label sk-toggleable__label-arrow\">DecisionTreeClassifier</label><div class=\"sk-toggleable__content\"><pre>DecisionTreeClassifier(random_state=17)</pre></div></div></div></div></div>"
            ]
          },
          "metadata": {},
          "execution_count": 122
        }
      ]
    },
    {
      "cell_type": "code",
      "source": [
        "from sklearn.metrics import accuracy_score"
      ],
      "metadata": {
        "id": "dEGjqHMIGQZJ"
      },
      "execution_count": 123,
      "outputs": []
    },
    {
      "cell_type": "code",
      "source": [
        "pred_holdout = tree.predict(X_holdout)"
      ],
      "metadata": {
        "id": "BhPt_MFoG9AH"
      },
      "execution_count": 124,
      "outputs": []
    },
    {
      "cell_type": "code",
      "source": [
        "accuracy_score(y_holdout, pred_holdout)"
      ],
      "metadata": {
        "colab": {
          "base_uri": "https://localhost:8080/"
        },
        "id": "oVo4Qb1BHBFX",
        "outputId": "d3ee8bc9-1753-4fc4-9b21-24fe1e9113f9"
      },
      "execution_count": 125,
      "outputs": [
        {
          "output_type": "execute_result",
          "data": {
            "text/plain": [
              "0.921"
            ]
          },
          "metadata": {},
          "execution_count": 125
        }
      ]
    },
    {
      "cell_type": "code",
      "source": [
        "tree.get_depth()"
      ],
      "metadata": {
        "colab": {
          "base_uri": "https://localhost:8080/"
        },
        "id": "gd9BwUfjHLHW",
        "outputId": "eaebc7f2-d90f-43c9-ecba-020243bc1c1c"
      },
      "execution_count": 126,
      "outputs": [
        {
          "output_type": "execute_result",
          "data": {
            "text/plain": [
              "18"
            ]
          },
          "metadata": {},
          "execution_count": 126
        }
      ]
    },
    {
      "cell_type": "code",
      "source": [
        "# hyperparameter tuning:"
      ],
      "metadata": {
        "id": "y76EJq0zHwKM"
      },
      "execution_count": 127,
      "outputs": []
    },
    {
      "cell_type": "code",
      "source": [
        "from sklearn.model_selection import GridSearchCV, StratifiedKFold"
      ],
      "metadata": {
        "id": "d0EH4L5_HyQU"
      },
      "execution_count": 128,
      "outputs": []
    },
    {
      "cell_type": "code",
      "source": [
        "params = {'max_depth': np.arange(2, 11), 'min_samples_leaf': np.arange(2, 11)}\n",
        "skuf = StratifiedKFold(n_splits=5, shuffle=True, random_state=17)"
      ],
      "metadata": {
        "id": "f3LUARStJSCo"
      },
      "execution_count": 129,
      "outputs": []
    },
    {
      "cell_type": "code",
      "source": [
        "# it takes best combination of max depth and min_samlpes_leaf\n",
        "# and fits it 5 times with cross validation\n",
        "# 9^2 * 5 = 405 (tree is fitted 405 times 💀)\n",
        "best_tree = GridSearchCV(estimator=tree, param_grid=params, cv=skuf)"
      ],
      "metadata": {
        "id": "H8p4HyZOH2IU"
      },
      "execution_count": 130,
      "outputs": []
    },
    {
      "cell_type": "code",
      "source": [
        "best_tree.fit(X_train, y_train)"
      ],
      "metadata": {
        "colab": {
          "base_uri": "https://localhost:8080/",
          "height": 119
        },
        "id": "2k8Tr5gTKY3m",
        "outputId": "bba66c1c-dd6d-4e29-c4a0-804f163225d5"
      },
      "execution_count": 131,
      "outputs": [
        {
          "output_type": "execute_result",
          "data": {
            "text/plain": [
              "GridSearchCV(cv=StratifiedKFold(n_splits=5, random_state=17, shuffle=True),\n",
              "             estimator=DecisionTreeClassifier(random_state=17),\n",
              "             param_grid={'max_depth': array([ 2,  3,  4,  5,  6,  7,  8,  9, 10]),\n",
              "                         'min_samples_leaf': array([ 2,  3,  4,  5,  6,  7,  8,  9, 10])})"
            ],
            "text/html": [
              "<style>#sk-container-id-9 {color: black;background-color: white;}#sk-container-id-9 pre{padding: 0;}#sk-container-id-9 div.sk-toggleable {background-color: white;}#sk-container-id-9 label.sk-toggleable__label {cursor: pointer;display: block;width: 100%;margin-bottom: 0;padding: 0.3em;box-sizing: border-box;text-align: center;}#sk-container-id-9 label.sk-toggleable__label-arrow:before {content: \"▸\";float: left;margin-right: 0.25em;color: #696969;}#sk-container-id-9 label.sk-toggleable__label-arrow:hover:before {color: black;}#sk-container-id-9 div.sk-estimator:hover label.sk-toggleable__label-arrow:before {color: black;}#sk-container-id-9 div.sk-toggleable__content {max-height: 0;max-width: 0;overflow: hidden;text-align: left;background-color: #f0f8ff;}#sk-container-id-9 div.sk-toggleable__content pre {margin: 0.2em;color: black;border-radius: 0.25em;background-color: #f0f8ff;}#sk-container-id-9 input.sk-toggleable__control:checked~div.sk-toggleable__content {max-height: 200px;max-width: 100%;overflow: auto;}#sk-container-id-9 input.sk-toggleable__control:checked~label.sk-toggleable__label-arrow:before {content: \"▾\";}#sk-container-id-9 div.sk-estimator input.sk-toggleable__control:checked~label.sk-toggleable__label {background-color: #d4ebff;}#sk-container-id-9 div.sk-label input.sk-toggleable__control:checked~label.sk-toggleable__label {background-color: #d4ebff;}#sk-container-id-9 input.sk-hidden--visually {border: 0;clip: rect(1px 1px 1px 1px);clip: rect(1px, 1px, 1px, 1px);height: 1px;margin: -1px;overflow: hidden;padding: 0;position: absolute;width: 1px;}#sk-container-id-9 div.sk-estimator {font-family: monospace;background-color: #f0f8ff;border: 1px dotted black;border-radius: 0.25em;box-sizing: border-box;margin-bottom: 0.5em;}#sk-container-id-9 div.sk-estimator:hover {background-color: #d4ebff;}#sk-container-id-9 div.sk-parallel-item::after {content: \"\";width: 100%;border-bottom: 1px solid gray;flex-grow: 1;}#sk-container-id-9 div.sk-label:hover label.sk-toggleable__label {background-color: #d4ebff;}#sk-container-id-9 div.sk-serial::before {content: \"\";position: absolute;border-left: 1px solid gray;box-sizing: border-box;top: 0;bottom: 0;left: 50%;z-index: 0;}#sk-container-id-9 div.sk-serial {display: flex;flex-direction: column;align-items: center;background-color: white;padding-right: 0.2em;padding-left: 0.2em;position: relative;}#sk-container-id-9 div.sk-item {position: relative;z-index: 1;}#sk-container-id-9 div.sk-parallel {display: flex;align-items: stretch;justify-content: center;background-color: white;position: relative;}#sk-container-id-9 div.sk-item::before, #sk-container-id-9 div.sk-parallel-item::before {content: \"\";position: absolute;border-left: 1px solid gray;box-sizing: border-box;top: 0;bottom: 0;left: 50%;z-index: -1;}#sk-container-id-9 div.sk-parallel-item {display: flex;flex-direction: column;z-index: 1;position: relative;background-color: white;}#sk-container-id-9 div.sk-parallel-item:first-child::after {align-self: flex-end;width: 50%;}#sk-container-id-9 div.sk-parallel-item:last-child::after {align-self: flex-start;width: 50%;}#sk-container-id-9 div.sk-parallel-item:only-child::after {width: 0;}#sk-container-id-9 div.sk-dashed-wrapped {border: 1px dashed gray;margin: 0 0.4em 0.5em 0.4em;box-sizing: border-box;padding-bottom: 0.4em;background-color: white;}#sk-container-id-9 div.sk-label label {font-family: monospace;font-weight: bold;display: inline-block;line-height: 1.2em;}#sk-container-id-9 div.sk-label-container {text-align: center;}#sk-container-id-9 div.sk-container {/* jupyter's `normalize.less` sets `[hidden] { display: none; }` but bootstrap.min.css set `[hidden] { display: none !important; }` so we also need the `!important` here to be able to override the default hidden behavior on the sphinx rendered scikit-learn.org. See: https://github.com/scikit-learn/scikit-learn/issues/21755 */display: inline-block !important;position: relative;}#sk-container-id-9 div.sk-text-repr-fallback {display: none;}</style><div id=\"sk-container-id-9\" class=\"sk-top-container\"><div class=\"sk-text-repr-fallback\"><pre>GridSearchCV(cv=StratifiedKFold(n_splits=5, random_state=17, shuffle=True),\n",
              "             estimator=DecisionTreeClassifier(random_state=17),\n",
              "             param_grid={&#x27;max_depth&#x27;: array([ 2,  3,  4,  5,  6,  7,  8,  9, 10]),\n",
              "                         &#x27;min_samples_leaf&#x27;: array([ 2,  3,  4,  5,  6,  7,  8,  9, 10])})</pre><b>In a Jupyter environment, please rerun this cell to show the HTML representation or trust the notebook. <br />On GitHub, the HTML representation is unable to render, please try loading this page with nbviewer.org.</b></div><div class=\"sk-container\" hidden><div class=\"sk-item sk-dashed-wrapped\"><div class=\"sk-label-container\"><div class=\"sk-label sk-toggleable\"><input class=\"sk-toggleable__control sk-hidden--visually\" id=\"sk-estimator-id-17\" type=\"checkbox\" ><label for=\"sk-estimator-id-17\" class=\"sk-toggleable__label sk-toggleable__label-arrow\">GridSearchCV</label><div class=\"sk-toggleable__content\"><pre>GridSearchCV(cv=StratifiedKFold(n_splits=5, random_state=17, shuffle=True),\n",
              "             estimator=DecisionTreeClassifier(random_state=17),\n",
              "             param_grid={&#x27;max_depth&#x27;: array([ 2,  3,  4,  5,  6,  7,  8,  9, 10]),\n",
              "                         &#x27;min_samples_leaf&#x27;: array([ 2,  3,  4,  5,  6,  7,  8,  9, 10])})</pre></div></div></div><div class=\"sk-parallel\"><div class=\"sk-parallel-item\"><div class=\"sk-item\"><div class=\"sk-label-container\"><div class=\"sk-label sk-toggleable\"><input class=\"sk-toggleable__control sk-hidden--visually\" id=\"sk-estimator-id-18\" type=\"checkbox\" ><label for=\"sk-estimator-id-18\" class=\"sk-toggleable__label sk-toggleable__label-arrow\">estimator: DecisionTreeClassifier</label><div class=\"sk-toggleable__content\"><pre>DecisionTreeClassifier(random_state=17)</pre></div></div></div><div class=\"sk-serial\"><div class=\"sk-item\"><div class=\"sk-estimator sk-toggleable\"><input class=\"sk-toggleable__control sk-hidden--visually\" id=\"sk-estimator-id-19\" type=\"checkbox\" ><label for=\"sk-estimator-id-19\" class=\"sk-toggleable__label sk-toggleable__label-arrow\">DecisionTreeClassifier</label><div class=\"sk-toggleable__content\"><pre>DecisionTreeClassifier(random_state=17)</pre></div></div></div></div></div></div></div></div></div></div>"
            ]
          },
          "metadata": {},
          "execution_count": 131
        }
      ]
    },
    {
      "cell_type": "code",
      "source": [],
      "metadata": {
        "id": "fwMQ1XQBKznn"
      },
      "execution_count": 131,
      "outputs": []
    },
    {
      "cell_type": "code",
      "source": [
        "# n_jobs specifies number of cores to use\n",
        "# setting it to -1 tells computer to use max number of cores available\n",
        "best_tree = GridSearchCV(estimator=tree, param_grid=params, cv=skuf, n_jobs=-1)"
      ],
      "metadata": {
        "id": "g9NPmVqqLFqs"
      },
      "execution_count": 132,
      "outputs": []
    },
    {
      "cell_type": "code",
      "source": [
        "best_tree.fit(X_train, y_train)"
      ],
      "metadata": {
        "colab": {
          "base_uri": "https://localhost:8080/",
          "height": 119
        },
        "outputId": "404ae38f-dc36-4975-91cd-f6127f7b4e78",
        "id": "8YZlGKTlLFqs"
      },
      "execution_count": 133,
      "outputs": [
        {
          "output_type": "execute_result",
          "data": {
            "text/plain": [
              "GridSearchCV(cv=StratifiedKFold(n_splits=5, random_state=17, shuffle=True),\n",
              "             estimator=DecisionTreeClassifier(random_state=17), n_jobs=-1,\n",
              "             param_grid={'max_depth': array([ 2,  3,  4,  5,  6,  7,  8,  9, 10]),\n",
              "                         'min_samples_leaf': array([ 2,  3,  4,  5,  6,  7,  8,  9, 10])})"
            ],
            "text/html": [
              "<style>#sk-container-id-10 {color: black;background-color: white;}#sk-container-id-10 pre{padding: 0;}#sk-container-id-10 div.sk-toggleable {background-color: white;}#sk-container-id-10 label.sk-toggleable__label {cursor: pointer;display: block;width: 100%;margin-bottom: 0;padding: 0.3em;box-sizing: border-box;text-align: center;}#sk-container-id-10 label.sk-toggleable__label-arrow:before {content: \"▸\";float: left;margin-right: 0.25em;color: #696969;}#sk-container-id-10 label.sk-toggleable__label-arrow:hover:before {color: black;}#sk-container-id-10 div.sk-estimator:hover label.sk-toggleable__label-arrow:before {color: black;}#sk-container-id-10 div.sk-toggleable__content {max-height: 0;max-width: 0;overflow: hidden;text-align: left;background-color: #f0f8ff;}#sk-container-id-10 div.sk-toggleable__content pre {margin: 0.2em;color: black;border-radius: 0.25em;background-color: #f0f8ff;}#sk-container-id-10 input.sk-toggleable__control:checked~div.sk-toggleable__content {max-height: 200px;max-width: 100%;overflow: auto;}#sk-container-id-10 input.sk-toggleable__control:checked~label.sk-toggleable__label-arrow:before {content: \"▾\";}#sk-container-id-10 div.sk-estimator input.sk-toggleable__control:checked~label.sk-toggleable__label {background-color: #d4ebff;}#sk-container-id-10 div.sk-label input.sk-toggleable__control:checked~label.sk-toggleable__label {background-color: #d4ebff;}#sk-container-id-10 input.sk-hidden--visually {border: 0;clip: rect(1px 1px 1px 1px);clip: rect(1px, 1px, 1px, 1px);height: 1px;margin: -1px;overflow: hidden;padding: 0;position: absolute;width: 1px;}#sk-container-id-10 div.sk-estimator {font-family: monospace;background-color: #f0f8ff;border: 1px dotted black;border-radius: 0.25em;box-sizing: border-box;margin-bottom: 0.5em;}#sk-container-id-10 div.sk-estimator:hover {background-color: #d4ebff;}#sk-container-id-10 div.sk-parallel-item::after {content: \"\";width: 100%;border-bottom: 1px solid gray;flex-grow: 1;}#sk-container-id-10 div.sk-label:hover label.sk-toggleable__label {background-color: #d4ebff;}#sk-container-id-10 div.sk-serial::before {content: \"\";position: absolute;border-left: 1px solid gray;box-sizing: border-box;top: 0;bottom: 0;left: 50%;z-index: 0;}#sk-container-id-10 div.sk-serial {display: flex;flex-direction: column;align-items: center;background-color: white;padding-right: 0.2em;padding-left: 0.2em;position: relative;}#sk-container-id-10 div.sk-item {position: relative;z-index: 1;}#sk-container-id-10 div.sk-parallel {display: flex;align-items: stretch;justify-content: center;background-color: white;position: relative;}#sk-container-id-10 div.sk-item::before, #sk-container-id-10 div.sk-parallel-item::before {content: \"\";position: absolute;border-left: 1px solid gray;box-sizing: border-box;top: 0;bottom: 0;left: 50%;z-index: -1;}#sk-container-id-10 div.sk-parallel-item {display: flex;flex-direction: column;z-index: 1;position: relative;background-color: white;}#sk-container-id-10 div.sk-parallel-item:first-child::after {align-self: flex-end;width: 50%;}#sk-container-id-10 div.sk-parallel-item:last-child::after {align-self: flex-start;width: 50%;}#sk-container-id-10 div.sk-parallel-item:only-child::after {width: 0;}#sk-container-id-10 div.sk-dashed-wrapped {border: 1px dashed gray;margin: 0 0.4em 0.5em 0.4em;box-sizing: border-box;padding-bottom: 0.4em;background-color: white;}#sk-container-id-10 div.sk-label label {font-family: monospace;font-weight: bold;display: inline-block;line-height: 1.2em;}#sk-container-id-10 div.sk-label-container {text-align: center;}#sk-container-id-10 div.sk-container {/* jupyter's `normalize.less` sets `[hidden] { display: none; }` but bootstrap.min.css set `[hidden] { display: none !important; }` so we also need the `!important` here to be able to override the default hidden behavior on the sphinx rendered scikit-learn.org. See: https://github.com/scikit-learn/scikit-learn/issues/21755 */display: inline-block !important;position: relative;}#sk-container-id-10 div.sk-text-repr-fallback {display: none;}</style><div id=\"sk-container-id-10\" class=\"sk-top-container\"><div class=\"sk-text-repr-fallback\"><pre>GridSearchCV(cv=StratifiedKFold(n_splits=5, random_state=17, shuffle=True),\n",
              "             estimator=DecisionTreeClassifier(random_state=17), n_jobs=-1,\n",
              "             param_grid={&#x27;max_depth&#x27;: array([ 2,  3,  4,  5,  6,  7,  8,  9, 10]),\n",
              "                         &#x27;min_samples_leaf&#x27;: array([ 2,  3,  4,  5,  6,  7,  8,  9, 10])})</pre><b>In a Jupyter environment, please rerun this cell to show the HTML representation or trust the notebook. <br />On GitHub, the HTML representation is unable to render, please try loading this page with nbviewer.org.</b></div><div class=\"sk-container\" hidden><div class=\"sk-item sk-dashed-wrapped\"><div class=\"sk-label-container\"><div class=\"sk-label sk-toggleable\"><input class=\"sk-toggleable__control sk-hidden--visually\" id=\"sk-estimator-id-20\" type=\"checkbox\" ><label for=\"sk-estimator-id-20\" class=\"sk-toggleable__label sk-toggleable__label-arrow\">GridSearchCV</label><div class=\"sk-toggleable__content\"><pre>GridSearchCV(cv=StratifiedKFold(n_splits=5, random_state=17, shuffle=True),\n",
              "             estimator=DecisionTreeClassifier(random_state=17), n_jobs=-1,\n",
              "             param_grid={&#x27;max_depth&#x27;: array([ 2,  3,  4,  5,  6,  7,  8,  9, 10]),\n",
              "                         &#x27;min_samples_leaf&#x27;: array([ 2,  3,  4,  5,  6,  7,  8,  9, 10])})</pre></div></div></div><div class=\"sk-parallel\"><div class=\"sk-parallel-item\"><div class=\"sk-item\"><div class=\"sk-label-container\"><div class=\"sk-label sk-toggleable\"><input class=\"sk-toggleable__control sk-hidden--visually\" id=\"sk-estimator-id-21\" type=\"checkbox\" ><label for=\"sk-estimator-id-21\" class=\"sk-toggleable__label sk-toggleable__label-arrow\">estimator: DecisionTreeClassifier</label><div class=\"sk-toggleable__content\"><pre>DecisionTreeClassifier(random_state=17)</pre></div></div></div><div class=\"sk-serial\"><div class=\"sk-item\"><div class=\"sk-estimator sk-toggleable\"><input class=\"sk-toggleable__control sk-hidden--visually\" id=\"sk-estimator-id-22\" type=\"checkbox\" ><label for=\"sk-estimator-id-22\" class=\"sk-toggleable__label sk-toggleable__label-arrow\">DecisionTreeClassifier</label><div class=\"sk-toggleable__content\"><pre>DecisionTreeClassifier(random_state=17)</pre></div></div></div></div></div></div></div></div></div></div>"
            ]
          },
          "metadata": {},
          "execution_count": 133
        }
      ]
    },
    {
      "cell_type": "code",
      "source": [
        "best_tree.best_params_"
      ],
      "metadata": {
        "colab": {
          "base_uri": "https://localhost:8080/"
        },
        "id": "DhycP3PiLiJj",
        "outputId": "192a0e83-75dd-433f-a6ab-6833b8e07335"
      },
      "execution_count": 134,
      "outputs": [
        {
          "output_type": "execute_result",
          "data": {
            "text/plain": [
              "{'max_depth': 6, 'min_samples_leaf': 4}"
            ]
          },
          "metadata": {},
          "execution_count": 134
        }
      ]
    },
    {
      "cell_type": "code",
      "source": [
        "best_tree.best_estimator_"
      ],
      "metadata": {
        "colab": {
          "base_uri": "https://localhost:8080/",
          "height": 75
        },
        "id": "FngwyqHZLrtW",
        "outputId": "08adf383-2cef-45b0-b3fb-a1e3b78cc4e1"
      },
      "execution_count": 135,
      "outputs": [
        {
          "output_type": "execute_result",
          "data": {
            "text/plain": [
              "DecisionTreeClassifier(max_depth=6, min_samples_leaf=4, random_state=17)"
            ],
            "text/html": [
              "<style>#sk-container-id-11 {color: black;background-color: white;}#sk-container-id-11 pre{padding: 0;}#sk-container-id-11 div.sk-toggleable {background-color: white;}#sk-container-id-11 label.sk-toggleable__label {cursor: pointer;display: block;width: 100%;margin-bottom: 0;padding: 0.3em;box-sizing: border-box;text-align: center;}#sk-container-id-11 label.sk-toggleable__label-arrow:before {content: \"▸\";float: left;margin-right: 0.25em;color: #696969;}#sk-container-id-11 label.sk-toggleable__label-arrow:hover:before {color: black;}#sk-container-id-11 div.sk-estimator:hover label.sk-toggleable__label-arrow:before {color: black;}#sk-container-id-11 div.sk-toggleable__content {max-height: 0;max-width: 0;overflow: hidden;text-align: left;background-color: #f0f8ff;}#sk-container-id-11 div.sk-toggleable__content pre {margin: 0.2em;color: black;border-radius: 0.25em;background-color: #f0f8ff;}#sk-container-id-11 input.sk-toggleable__control:checked~div.sk-toggleable__content {max-height: 200px;max-width: 100%;overflow: auto;}#sk-container-id-11 input.sk-toggleable__control:checked~label.sk-toggleable__label-arrow:before {content: \"▾\";}#sk-container-id-11 div.sk-estimator input.sk-toggleable__control:checked~label.sk-toggleable__label {background-color: #d4ebff;}#sk-container-id-11 div.sk-label input.sk-toggleable__control:checked~label.sk-toggleable__label {background-color: #d4ebff;}#sk-container-id-11 input.sk-hidden--visually {border: 0;clip: rect(1px 1px 1px 1px);clip: rect(1px, 1px, 1px, 1px);height: 1px;margin: -1px;overflow: hidden;padding: 0;position: absolute;width: 1px;}#sk-container-id-11 div.sk-estimator {font-family: monospace;background-color: #f0f8ff;border: 1px dotted black;border-radius: 0.25em;box-sizing: border-box;margin-bottom: 0.5em;}#sk-container-id-11 div.sk-estimator:hover {background-color: #d4ebff;}#sk-container-id-11 div.sk-parallel-item::after {content: \"\";width: 100%;border-bottom: 1px solid gray;flex-grow: 1;}#sk-container-id-11 div.sk-label:hover label.sk-toggleable__label {background-color: #d4ebff;}#sk-container-id-11 div.sk-serial::before {content: \"\";position: absolute;border-left: 1px solid gray;box-sizing: border-box;top: 0;bottom: 0;left: 50%;z-index: 0;}#sk-container-id-11 div.sk-serial {display: flex;flex-direction: column;align-items: center;background-color: white;padding-right: 0.2em;padding-left: 0.2em;position: relative;}#sk-container-id-11 div.sk-item {position: relative;z-index: 1;}#sk-container-id-11 div.sk-parallel {display: flex;align-items: stretch;justify-content: center;background-color: white;position: relative;}#sk-container-id-11 div.sk-item::before, #sk-container-id-11 div.sk-parallel-item::before {content: \"\";position: absolute;border-left: 1px solid gray;box-sizing: border-box;top: 0;bottom: 0;left: 50%;z-index: -1;}#sk-container-id-11 div.sk-parallel-item {display: flex;flex-direction: column;z-index: 1;position: relative;background-color: white;}#sk-container-id-11 div.sk-parallel-item:first-child::after {align-self: flex-end;width: 50%;}#sk-container-id-11 div.sk-parallel-item:last-child::after {align-self: flex-start;width: 50%;}#sk-container-id-11 div.sk-parallel-item:only-child::after {width: 0;}#sk-container-id-11 div.sk-dashed-wrapped {border: 1px dashed gray;margin: 0 0.4em 0.5em 0.4em;box-sizing: border-box;padding-bottom: 0.4em;background-color: white;}#sk-container-id-11 div.sk-label label {font-family: monospace;font-weight: bold;display: inline-block;line-height: 1.2em;}#sk-container-id-11 div.sk-label-container {text-align: center;}#sk-container-id-11 div.sk-container {/* jupyter's `normalize.less` sets `[hidden] { display: none; }` but bootstrap.min.css set `[hidden] { display: none !important; }` so we also need the `!important` here to be able to override the default hidden behavior on the sphinx rendered scikit-learn.org. See: https://github.com/scikit-learn/scikit-learn/issues/21755 */display: inline-block !important;position: relative;}#sk-container-id-11 div.sk-text-repr-fallback {display: none;}</style><div id=\"sk-container-id-11\" class=\"sk-top-container\"><div class=\"sk-text-repr-fallback\"><pre>DecisionTreeClassifier(max_depth=6, min_samples_leaf=4, random_state=17)</pre><b>In a Jupyter environment, please rerun this cell to show the HTML representation or trust the notebook. <br />On GitHub, the HTML representation is unable to render, please try loading this page with nbviewer.org.</b></div><div class=\"sk-container\" hidden><div class=\"sk-item\"><div class=\"sk-estimator sk-toggleable\"><input class=\"sk-toggleable__control sk-hidden--visually\" id=\"sk-estimator-id-23\" type=\"checkbox\" checked><label for=\"sk-estimator-id-23\" class=\"sk-toggleable__label sk-toggleable__label-arrow\">DecisionTreeClassifier</label><div class=\"sk-toggleable__content\"><pre>DecisionTreeClassifier(max_depth=6, min_samples_leaf=4, random_state=17)</pre></div></div></div></div></div>"
            ]
          },
          "metadata": {},
          "execution_count": 135
        }
      ]
    },
    {
      "cell_type": "markdown",
      "source": [
        "**Cross-Validation assesment of model quality**"
      ],
      "metadata": {
        "id": "D8nIJjhDMN_R"
      }
    },
    {
      "cell_type": "code",
      "source": [
        "best_tree.best_score_  # yo!"
      ],
      "metadata": {
        "colab": {
          "base_uri": "https://localhost:8080/"
        },
        "id": "T6wurXI3MD_u",
        "outputId": "fa101c3e-3ce4-44f0-91a2-1e676b4f342d"
      },
      "execution_count": 136,
      "outputs": [
        {
          "output_type": "execute_result",
          "data": {
            "text/plain": [
              "0.9438485079633493"
            ]
          },
          "metadata": {},
          "execution_count": 136
        }
      ]
    },
    {
      "cell_type": "markdown",
      "source": [
        "**Holdout assesment**"
      ],
      "metadata": {
        "id": "pN7hmit2M42E"
      }
    },
    {
      "cell_type": "code",
      "source": [
        "pred_holdout_better = best_tree.predict(X_holdout)\n",
        "accuracy_score(y_holdout, pred_holdout_better)"
      ],
      "metadata": {
        "colab": {
          "base_uri": "https://localhost:8080/"
        },
        "id": "fqmG_E5mMKL7",
        "outputId": "563484be-f08f-4ad0-fb6d-53ee7f3497fb"
      },
      "execution_count": 137,
      "outputs": [
        {
          "output_type": "execute_result",
          "data": {
            "text/plain": [
              "0.94"
            ]
          },
          "metadata": {},
          "execution_count": 137
        }
      ]
    },
    {
      "cell_type": "markdown",
      "source": [
        "We could do it in other way"
      ],
      "metadata": {
        "id": "gHX2IbeuN8C7"
      }
    },
    {
      "cell_type": "code",
      "source": [
        "from sklearn.model_selection import cross_val_score\n",
        "from tqdm.notebook import tqdm"
      ],
      "metadata": {
        "id": "ZSCDGFrFMp0y"
      },
      "execution_count": 138,
      "outputs": []
    },
    {
      "cell_type": "code",
      "source": [
        "cv_accuracies = []\n",
        "holdout_accuracies = []\n",
        "max_depth_range = range(2, 11)\n",
        "\n",
        "# for each value of max_depth range\n",
        "for max_depth in tqdm(max_depth_range):\n",
        "  tree = DecisionTreeClassifier(random_state=17, max_depth=max_depth)\n",
        "\n",
        "  # perform cross_validation\n",
        "  val_scores = cross_val_score(estimator=tree, X=X_train, y=y_train, cv=skuf)\n",
        "\n",
        "  # save mean of validation accuracy scores to cv_accuracies\n",
        "  cv_accuracies.append(val_scores.mean())\n",
        "\n",
        "  # fit our tree on whole training set\n",
        "  tree.fit(X_train, y_train)\n",
        "  cur_holdout_pred = tree.predict(X_holdout)\n",
        "  # in order to calculate accuracy score of holdout and save it to\n",
        "  # holdout_accuracies\n",
        "  holdout_accuracies.append(accuracy_score(y_holdout, cur_holdout_pred))"
      ],
      "metadata": {
        "colab": {
          "base_uri": "https://localhost:8080/",
          "height": 49,
          "referenced_widgets": [
            "b283416370b24db78f19d11f4b235bad",
            "d09531e1b4cd4b10ab783f723da2ce35",
            "605ec6fa14454211bfad2620823f8934",
            "55c5892a33994801ac644bf808b07659",
            "67efdcc05da64bc3ae3bc67a99ef6355",
            "95894a96039f4cedaa973cacfe9c58d1",
            "6d6c3e08e2794d9d81e7a4508c72c052",
            "d2b9ab7330d249cfa4f2a0bd38fb2b30",
            "fc5ca3fcffdd45d1af4971af15a0d3db",
            "407b3c34bdd446bf8150f6842bd0ae0a",
            "c3264bfa209d4c13a9f5c82b34461c01"
          ]
        },
        "id": "pdB5h0OLOCp4",
        "outputId": "2a336673-dafe-4662-8f32-46e4e016b3b6"
      },
      "execution_count": 139,
      "outputs": [
        {
          "output_type": "display_data",
          "data": {
            "text/plain": [
              "  0%|          | 0/9 [00:00<?, ?it/s]"
            ],
            "application/vnd.jupyter.widget-view+json": {
              "version_major": 2,
              "version_minor": 0,
              "model_id": "b283416370b24db78f19d11f4b235bad"
            }
          },
          "metadata": {}
        }
      ]
    },
    {
      "cell_type": "code",
      "source": [
        "cv_accuracies"
      ],
      "metadata": {
        "colab": {
          "base_uri": "https://localhost:8080/"
        },
        "id": "oC0KknB3OMN7",
        "outputId": "b8e0be90-8e43-4c5d-ec9e-7162b7cb8767"
      },
      "execution_count": 140,
      "outputs": [
        {
          "output_type": "execute_result",
          "data": {
            "text/plain": [
              "[0.8769848636626811,\n",
              " 0.9018352923877181,\n",
              " 0.9211292975893981,\n",
              " 0.9335600261003023,\n",
              " 0.9361296192480539,\n",
              " 0.936563398921065,\n",
              " 0.9382746229701041,\n",
              " 0.9318432879028775,\n",
              " 0.9288445102057695]"
            ]
          },
          "metadata": {},
          "execution_count": 140
        }
      ]
    },
    {
      "cell_type": "code",
      "source": [
        "holdout_accuracies"
      ],
      "metadata": {
        "colab": {
          "base_uri": "https://localhost:8080/"
        },
        "id": "4QIeiaOMPYun",
        "outputId": "41a642e0-8635-4456-d561-0338bc12d8a4"
      },
      "execution_count": 141,
      "outputs": [
        {
          "output_type": "execute_result",
          "data": {
            "text/plain": [
              "[0.881, 0.905, 0.919, 0.94, 0.945, 0.946, 0.944, 0.945, 0.945]"
            ]
          },
          "metadata": {},
          "execution_count": 141
        }
      ]
    },
    {
      "cell_type": "code",
      "source": [
        "plt.title('DT val curves for max_depth')\n",
        "plt.plot(max_depth_range, cv_accuracies, label='cross_val_mean')\n",
        "plt.plot(max_depth_range, holdout_accuracies, label='holdout')\n",
        "plt.xlabel('Max Depth')\n",
        "plt.ylabel('Accuracy')\n",
        "\n",
        "plt.legend()\n",
        "plt.show();"
      ],
      "metadata": {
        "colab": {
          "base_uri": "https://localhost:8080/",
          "height": 472
        },
        "id": "LJzTYD6cP47e",
        "outputId": "bd10e705-9a3d-4de2-b99f-3f010e161524"
      },
      "execution_count": 142,
      "outputs": [
        {
          "output_type": "display_data",
          "data": {
            "text/plain": [
              "<Figure size 640x480 with 1 Axes>"
            ],
            "image/png": "[encoded data removed]"
          },
          "metadata": {}
        }
      ]
    },
    {
      "cell_type": "code",
      "source": [
        "from sklearn.tree import export_graphviz"
      ],
      "metadata": {
        "id": "vcrgbo_eQ_4c"
      },
      "execution_count": 144,
      "outputs": []
    },
    {
      "cell_type": "code",
      "source": [
        "export_graphviz(decision_tree=best_tree.best_estimator_,\n",
        "                out_file='tree.dot',\n",
        "                filled=True,\n",
        "                feature_names=X.columns)"
      ],
      "metadata": {
        "id": "DELnLrHCSY6z"
      },
      "execution_count": 145,
      "outputs": []
    },
    {
      "cell_type": "code",
      "source": [
        "!cat tree.dot"
      ],
      "metadata": {
        "colab": {
          "base_uri": "https://localhost:8080/"
        },
        "id": "G29TCKdOSy-y",
        "outputId": "e3324e16-ab92-422d-8b00-89ac1898388a"
      },
      "execution_count": 148,
      "outputs": [
        {
          "output_type": "stream",
          "name": "stdout",
          "text": [
            "digraph Tree {\n",
            "node [shape=box, style=\"filled\", color=\"black\", fontname=\"helvetica\"] ;\n",
            "edge [fontname=\"helvetica\"] ;\n",
            "0 [label=\"Total day minutes <= 264.45\\ngini = 0.255\\nsamples = 2333\\nvalue = [1983, 350]\", fillcolor=\"#ea975c\"] ;\n",
            "1 [label=\"Customer service calls <= 3.5\\ngini = 0.206\\nsamples = 2182\\nvalue = [1927, 255]\", fillcolor=\"#e89253\"] ;\n",
            "0 -> 1 [labeldistance=2.5, labelangle=45, headlabel=\"True\"] ;\n",
            "2 [label=\"International plan <= 0.5\\ngini = 0.149\\nsamples = 2004\\nvalue = [1842, 162]\", fillcolor=\"#e78c4a\"] ;\n",
            "1 -> 2 ;\n",
            "3 [label=\"Total day charge <= 38.185\\ngini = 0.096\\nsamples = 1828\\nvalue = [1736, 92]\", fillcolor=\"#e68843\"] ;\n",
            "2 -> 3 ;\n",
            "4 [label=\"Total eve charge <= 27.965\\ngini = 0.056\\nsamples = 1570\\nvalue = [1525, 45]\", fillcolor=\"#e6853f\"] ;\n",
            "3 -> 4 ;\n",
            "5 [label=\"Total day calls <= 121.5\\ngini = 0.054\\nsamples = 1562\\nvalue = [1519, 43]\", fillcolor=\"#e6853f\"] ;\n",
            "4 -> 5 ;\n",
            "6 [label=\"gini = 0.044\\nsamples = 1336\\nvalue = [1306, 30]\", fillcolor=\"#e6843e\"] ;\n",
            "5 -> 6 ;\n",
            "7 [label=\"gini = 0.108\\nsamples = 226\\nvalue = [213, 13]\", fillcolor=\"#e78945\"] ;\n",
            "5 -> 7 ;\n",
            "8 [label=\"Total day calls <= 99.5\\ngini = 0.375\\nsamples = 8\\nvalue = [6, 2]\", fillcolor=\"#eeab7b\"] ;\n",
            "4 -> 8 ;\n",
            "9 [label=\"gini = 0.0\\nsamples = 4\\nvalue = [4, 0]\", fillcolor=\"#e58139\"] ;\n",
            "8 -> 9 ;\n",
            "10 [label=\"gini = 0.5\\nsamples = 4\\nvalue = [2, 2]\", fillcolor=\"#ffffff\"] ;\n",
            "8 -> 10 ;\n",
            "11 [label=\"Total eve charge <= 22.67\\ngini = 0.298\\nsamples = 258\\nvalue = [211, 47]\", fillcolor=\"#eb9d65\"] ;\n",
            "3 -> 11 ;\n",
            "12 [label=\"Total eve minutes <= 242.35\\ngini = 0.188\\nsamples = 229\\nvalue = [205, 24]\", fillcolor=\"#e89050\"] ;\n",
            "11 -> 12 ;\n",
            "13 [label=\"gini = 0.123\\nsamples = 198\\nvalue = [185, 13]\", fillcolor=\"#e78a47\"] ;\n",
            "12 -> 13 ;\n",
            "14 [label=\"gini = 0.458\\nsamples = 31\\nvalue = [20, 11]\", fillcolor=\"#f3c6a6\"] ;\n",
            "12 -> 14 ;\n",
            "15 [label=\"Voice mail plan <= 0.5\\ngini = 0.328\\nsamples = 29\\nvalue = [6, 23]\", fillcolor=\"#6db7ec\"] ;\n",
            "11 -> 15 ;\n",
            "16 [label=\"gini = 0.08\\nsamples = 24\\nvalue = [1, 23]\", fillcolor=\"#42a1e6\"] ;\n",
            "15 -> 16 ;\n",
            "17 [label=\"gini = 0.0\\nsamples = 5\\nvalue = [5, 0]\", fillcolor=\"#e58139\"] ;\n",
            "15 -> 17 ;\n",
            "18 [label=\"Total intl calls <= 2.5\\ngini = 0.479\\nsamples = 176\\nvalue = [106, 70]\", fillcolor=\"#f6d4bc\"] ;\n",
            "2 -> 18 ;\n",
            "19 [label=\"gini = 0.0\\nsamples = 39\\nvalue = [0, 39]\", fillcolor=\"#399de5\"] ;\n",
            "18 -> 19 ;\n",
            "20 [label=\"Total intl minutes <= 13.1\\ngini = 0.35\\nsamples = 137\\nvalue = [106, 31]\", fillcolor=\"#eda673\"] ;\n",
            "18 -> 20 ;\n",
            "21 [label=\"Total eve minutes <= 321.0\\ngini = 0.086\\nsamples = 111\\nvalue = [106, 5]\", fillcolor=\"#e68742\"] ;\n",
            "20 -> 21 ;\n",
            "22 [label=\"gini = 0.055\\nsamples = 107\\nvalue = [104, 3]\", fillcolor=\"#e6853f\"] ;\n",
            "21 -> 22 ;\n",
            "23 [label=\"gini = 0.5\\nsamples = 4\\nvalue = [2, 2]\", fillcolor=\"#ffffff\"] ;\n",
            "21 -> 23 ;\n",
            "24 [label=\"gini = 0.0\\nsamples = 26\\nvalue = [0, 26]\", fillcolor=\"#399de5\"] ;\n",
            "20 -> 24 ;\n",
            "25 [label=\"Total day minutes <= 159.9\\ngini = 0.499\\nsamples = 178\\nvalue = [85, 93]\", fillcolor=\"#eef7fd\"] ;\n",
            "1 -> 25 ;\n",
            "26 [label=\"Total eve minutes <= 265.5\\ngini = 0.209\\nsamples = 76\\nvalue = [9, 67]\", fillcolor=\"#54aae8\"] ;\n",
            "25 -> 26 ;\n",
            "27 [label=\"Total day minutes <= 138.6\\ngini = 0.153\\nsamples = 72\\nvalue = [6, 66]\", fillcolor=\"#4ba6e7\"] ;\n",
            "26 -> 27 ;\n",
            "28 [label=\"gini = 0.0\\nsamples = 41\\nvalue = [0, 41]\", fillcolor=\"#399de5\"] ;\n",
            "27 -> 28 ;\n",
            "29 [label=\"Total eve charge <= 16.42\\ngini = 0.312\\nsamples = 31\\nvalue = [6, 25]\", fillcolor=\"#69b5eb\"] ;\n",
            "27 -> 29 ;\n",
            "30 [label=\"gini = 0.0\\nsamples = 19\\nvalue = [0, 19]\", fillcolor=\"#399de5\"] ;\n",
            "29 -> 30 ;\n",
            "31 [label=\"gini = 0.5\\nsamples = 12\\nvalue = [6, 6]\", fillcolor=\"#ffffff\"] ;\n",
            "29 -> 31 ;\n",
            "32 [label=\"gini = 0.375\\nsamples = 4\\nvalue = [3, 1]\", fillcolor=\"#eeab7b\"] ;\n",
            "26 -> 32 ;\n",
            "33 [label=\"Total eve minutes <= 155.5\\ngini = 0.38\\nsamples = 102\\nvalue = [76, 26]\", fillcolor=\"#eeac7d\"] ;\n",
            "25 -> 33 ;\n",
            "34 [label=\"Total day charge <= 34.36\\ngini = 0.461\\nsamples = 25\\nvalue = [9, 16]\", fillcolor=\"#a8d4f4\"] ;\n",
            "33 -> 34 ;\n",
            "35 [label=\"Account length <= 52.0\\ngini = 0.231\\nsamples = 15\\nvalue = [2, 13]\", fillcolor=\"#57ace9\"] ;\n",
            "34 -> 35 ;\n",
            "36 [label=\"gini = 0.5\\nsamples = 4\\nvalue = [2, 2]\", fillcolor=\"#ffffff\"] ;\n",
            "35 -> 36 ;\n",
            "37 [label=\"gini = 0.0\\nsamples = 11\\nvalue = [0, 11]\", fillcolor=\"#399de5\"] ;\n",
            "35 -> 37 ;\n",
            "38 [label=\"Total night calls <= 100.5\\ngini = 0.42\\nsamples = 10\\nvalue = [7, 3]\", fillcolor=\"#f0b78e\"] ;\n",
            "34 -> 38 ;\n",
            "39 [label=\"gini = 0.0\\nsamples = 5\\nvalue = [5, 0]\", fillcolor=\"#e58139\"] ;\n",
            "38 -> 39 ;\n",
            "40 [label=\"gini = 0.48\\nsamples = 5\\nvalue = [2, 3]\", fillcolor=\"#bddef6\"] ;\n",
            "38 -> 40 ;\n",
            "41 [label=\"Total day charge <= 29.525\\ngini = 0.226\\nsamples = 77\\nvalue = [67, 10]\", fillcolor=\"#e99457\"] ;\n",
            "33 -> 41 ;\n",
            "42 [label=\"Total eve charge <= 17.755\\ngini = 0.457\\nsamples = 17\\nvalue = [11, 6]\", fillcolor=\"#f3c6a5\"] ;\n",
            "41 -> 42 ;\n",
            "43 [label=\"gini = 0.245\\nsamples = 7\\nvalue = [1, 6]\", fillcolor=\"#5aade9\"] ;\n",
            "42 -> 43 ;\n",
            "44 [label=\"gini = 0.0\\nsamples = 10\\nvalue = [10, 0]\", fillcolor=\"#e58139\"] ;\n",
            "42 -> 44 ;\n",
            "45 [label=\"International plan <= 0.5\\ngini = 0.124\\nsamples = 60\\nvalue = [56, 4]\", fillcolor=\"#e78a47\"] ;\n",
            "41 -> 45 ;\n",
            "46 [label=\"gini = 0.038\\nsamples = 52\\nvalue = [51, 1]\", fillcolor=\"#e6833d\"] ;\n",
            "45 -> 46 ;\n",
            "47 [label=\"gini = 0.469\\nsamples = 8\\nvalue = [5, 3]\", fillcolor=\"#f5cdb0\"] ;\n",
            "45 -> 47 ;\n",
            "48 [label=\"Number vmail messages <= 6.5\\ngini = 0.467\\nsamples = 151\\nvalue = [56, 95]\", fillcolor=\"#aed7f4\"] ;\n",
            "0 -> 48 [labeldistance=2.5, labelangle=-45, headlabel=\"False\"] ;\n",
            "49 [label=\"Total eve charge <= 15.96\\ngini = 0.335\\nsamples = 113\\nvalue = [24, 89]\", fillcolor=\"#6eb7ec\"] ;\n",
            "48 -> 49 ;\n",
            "50 [label=\"Total day minutes <= 302.45\\ngini = 0.495\\nsamples = 40\\nvalue = [22, 18]\", fillcolor=\"#fae8db\"] ;\n",
            "49 -> 50 ;\n",
            "51 [label=\"Total night charge <= 9.595\\ngini = 0.43\\nsamples = 32\\nvalue = [22, 10]\", fillcolor=\"#f1ba93\"] ;\n",
            "50 -> 51 ;\n",
            "52 [label=\"Total intl minutes <= 12.15\\ngini = 0.1\\nsamples = 19\\nvalue = [18, 1]\", fillcolor=\"#e68844\"] ;\n",
            "51 -> 52 ;\n",
            "53 [label=\"gini = 0.0\\nsamples = 15\\nvalue = [15, 0]\", fillcolor=\"#e58139\"] ;\n",
            "52 -> 53 ;\n",
            "54 [label=\"gini = 0.375\\nsamples = 4\\nvalue = [3, 1]\", fillcolor=\"#eeab7b\"] ;\n",
            "52 -> 54 ;\n",
            "55 [label=\"Total eve minutes <= 155.3\\ngini = 0.426\\nsamples = 13\\nvalue = [4, 9]\", fillcolor=\"#91c9f1\"] ;\n",
            "51 -> 55 ;\n",
            "56 [label=\"gini = 0.0\\nsamples = 4\\nvalue = [4, 0]\", fillcolor=\"#e58139\"] ;\n",
            "55 -> 56 ;\n",
            "57 [label=\"gini = 0.0\\nsamples = 9\\nvalue = [0, 9]\", fillcolor=\"#399de5\"] ;\n",
            "55 -> 57 ;\n",
            "58 [label=\"gini = 0.0\\nsamples = 8\\nvalue = [0, 8]\", fillcolor=\"#399de5\"] ;\n",
            "50 -> 58 ;\n",
            "59 [label=\"Total night charge <= 6.445\\ngini = 0.053\\nsamples = 73\\nvalue = [2, 71]\", fillcolor=\"#3fa0e6\"] ;\n",
            "49 -> 59 ;\n",
            "60 [label=\"gini = 0.5\\nsamples = 4\\nvalue = [2, 2]\", fillcolor=\"#ffffff\"] ;\n",
            "59 -> 60 ;\n",
            "61 [label=\"gini = 0.0\\nsamples = 69\\nvalue = [0, 69]\", fillcolor=\"#399de5\"] ;\n",
            "59 -> 61 ;\n",
            "62 [label=\"International plan <= 0.5\\ngini = 0.266\\nsamples = 38\\nvalue = [32, 6]\", fillcolor=\"#ea995e\"] ;\n",
            "48 -> 62 ;\n",
            "63 [label=\"Total eve charge <= 21.285\\ngini = 0.062\\nsamples = 31\\nvalue = [30, 1]\", fillcolor=\"#e68540\"] ;\n",
            "62 -> 63 ;\n",
            "64 [label=\"gini = 0.0\\nsamples = 27\\nvalue = [27, 0]\", fillcolor=\"#e58139\"] ;\n",
            "63 -> 64 ;\n",
            "65 [label=\"gini = 0.375\\nsamples = 4\\nvalue = [3, 1]\", fillcolor=\"#eeab7b\"] ;\n",
            "63 -> 65 ;\n",
            "66 [label=\"gini = 0.408\\nsamples = 7\\nvalue = [2, 5]\", fillcolor=\"#88c4ef\"] ;\n",
            "62 -> 66 ;\n",
            "}"
          ]
        }
      ]
    },
    {
      "cell_type": "code",
      "source": [
        "tree = DecisionTreeClassifier(random_state=17, max_depth=3).fit(X_train, y_train)"
      ],
      "metadata": {
        "id": "Fwy4zI-kTbBn"
      },
      "execution_count": 150,
      "outputs": []
    },
    {
      "cell_type": "code",
      "source": [
        "export_graphviz(decision_tree=tree,\n",
        "                out_file='small_tree.dot',\n",
        "                filled=True,\n",
        "                feature_names=X.columns)"
      ],
      "metadata": {
        "id": "puGlP5rrTl7z"
      },
      "execution_count": 151,
      "outputs": []
    },
    {
      "cell_type": "code",
      "source": [
        "!cat small_tree.dot"
      ],
      "metadata": {
        "colab": {
          "base_uri": "https://localhost:8080/"
        },
        "outputId": "ecd2b343-6759-428e-d73b-ae03b2be0dd5",
        "id": "bhCeM9haTl7z"
      },
      "execution_count": 152,
      "outputs": [
        {
          "output_type": "stream",
          "name": "stdout",
          "text": [
            "digraph Tree {\n",
            "node [shape=box, style=\"filled\", color=\"black\", fontname=\"helvetica\"] ;\n",
            "edge [fontname=\"helvetica\"] ;\n",
            "0 [label=\"Total day minutes <= 264.45\\ngini = 0.255\\nsamples = 2333\\nvalue = [1983, 350]\", fillcolor=\"#ea975c\"] ;\n",
            "1 [label=\"Customer service calls <= 3.5\\ngini = 0.206\\nsamples = 2182\\nvalue = [1927, 255]\", fillcolor=\"#e89253\"] ;\n",
            "0 -> 1 [labeldistance=2.5, labelangle=45, headlabel=\"True\"] ;\n",
            "2 [label=\"International plan <= 0.5\\ngini = 0.149\\nsamples = 2004\\nvalue = [1842, 162]\", fillcolor=\"#e78c4a\"] ;\n",
            "1 -> 2 ;\n",
            "3 [label=\"gini = 0.096\\nsamples = 1828\\nvalue = [1736, 92]\", fillcolor=\"#e68843\"] ;\n",
            "2 -> 3 ;\n",
            "4 [label=\"gini = 0.479\\nsamples = 176\\nvalue = [106, 70]\", fillcolor=\"#f6d4bc\"] ;\n",
            "2 -> 4 ;\n",
            "5 [label=\"Total day charge <= 27.185\\ngini = 0.499\\nsamples = 178\\nvalue = [85, 93]\", fillcolor=\"#eef7fd\"] ;\n",
            "1 -> 5 ;\n",
            "6 [label=\"gini = 0.209\\nsamples = 76\\nvalue = [9, 67]\", fillcolor=\"#54aae8\"] ;\n",
            "5 -> 6 ;\n",
            "7 [label=\"gini = 0.38\\nsamples = 102\\nvalue = [76, 26]\", fillcolor=\"#eeac7d\"] ;\n",
            "5 -> 7 ;\n",
            "8 [label=\"Voice mail plan <= 0.5\\ngini = 0.467\\nsamples = 151\\nvalue = [56, 95]\", fillcolor=\"#aed7f4\"] ;\n",
            "0 -> 8 [labeldistance=2.5, labelangle=-45, headlabel=\"False\"] ;\n",
            "9 [label=\"Total eve charge <= 15.96\\ngini = 0.335\\nsamples = 113\\nvalue = [24, 89]\", fillcolor=\"#6eb7ec\"] ;\n",
            "8 -> 9 ;\n",
            "10 [label=\"gini = 0.495\\nsamples = 40\\nvalue = [22, 18]\", fillcolor=\"#fae8db\"] ;\n",
            "9 -> 10 ;\n",
            "11 [label=\"gini = 0.053\\nsamples = 73\\nvalue = [2, 71]\", fillcolor=\"#3fa0e6\"] ;\n",
            "9 -> 11 ;\n",
            "12 [label=\"International plan <= 0.5\\ngini = 0.266\\nsamples = 38\\nvalue = [32, 6]\", fillcolor=\"#ea995e\"] ;\n",
            "8 -> 12 ;\n",
            "13 [label=\"gini = 0.062\\nsamples = 31\\nvalue = [30, 1]\", fillcolor=\"#e68540\"] ;\n",
            "12 -> 13 ;\n",
            "14 [label=\"gini = 0.408\\nsamples = 7\\nvalue = [2, 5]\", fillcolor=\"#88c4ef\"] ;\n",
            "12 -> 14 ;\n",
            "}"
          ]
        }
      ]
    },
    {
      "cell_type": "markdown",
      "source": [
        "![image.png](data:image/png;base64,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)"
      ],
      "metadata": {
        "id": "SglMQd2aT4j7"
      }
    },
    {
      "cell_type": "code",
      "source": [
        "from io import StringIO\n",
        "import pydotplus\n",
        "from ipywidgets import Image"
      ],
      "metadata": {
        "id": "_xuKXSgVUTWA"
      },
      "execution_count": 156,
      "outputs": []
    },
    {
      "cell_type": "code",
      "source": [
        "dot_data = StringIO()\n",
        "export_graphviz(decision_tree=tree,\n",
        "                out_file=dot_data,\n",
        "                filled=True,\n",
        "                feature_names=X.columns)\n",
        "graph = pydotplus.graph_from_dot_data(dot_data.getvalue())\n",
        "Image(value=graph.create_png())"
      ],
      "metadata": {
        "colab": {
          "base_uri": "https://localhost:8080/",
          "height": 338,
          "referenced_widgets": [
            "914e5443e0574fb282b11de81961686a",
            "416a34939bc54184addca09d485e8c32"
          ]
        },
        "id": "V2vmQb-hTr8a",
        "outputId": "91d00e65-0ecd-40e3-b3e7-9e7f1a965b02"
      },
      "execution_count": 157,
      "outputs": [
        {
          "output_type": "display_data",
          "data": {
            "text/plain": [
              "Image(value=b'\\x89PNG\\r\\n\\x1a\\n\\x00\\x00\\x00\\rIHDR\\x00\\x00\\x053\\x00\\x00\\x01\\xf1\\x08\\x06\\x00\\x00\\x00\\xb1\\xa1(c\\x…"
            ],
            "application/vnd.jupyter.widget-view+json": {
              "version_major": 2,
              "version_minor": 0,
              "model_id": "914e5443e0574fb282b11de81961686a"
            }
          },
          "metadata": {}
        }
      ]
    },
    {
      "cell_type": "code",
      "source": [
        "# value tells us how many people of particular category are in this node\n",
        "# blue - bad clients\n",
        "# orange - good clients"
      ],
      "metadata": {
        "id": "IHiLvSpyUh_4"
      },
      "execution_count": 158,
      "outputs": []
    },
    {
      "cell_type": "markdown",
      "source": [
        "<img src='https://media1.tenor.com/m/X5ndOelQYf4AAAAd/dwayne-johnson-cat.gif' width=50%>"
      ],
      "metadata": {
        "id": "kMH3TgZZWsAG"
      }
    }
  ]
}