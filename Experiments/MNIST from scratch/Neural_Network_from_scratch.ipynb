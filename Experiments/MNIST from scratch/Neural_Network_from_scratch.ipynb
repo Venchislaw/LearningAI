{
  "nbformat": 4,
  "nbformat_minor": 0,
  "metadata": {
    "colab": {
      "provenance": []
    },
    "kernelspec": {
      "name": "python3",
      "display_name": "Python 3"
    },
    "language_info": {
      "name": "python"
    }
  },
  "cells": [
    {
      "cell_type": "code",
      "source": [
        "import numpy as np\n",
        "import pandas as pd\n",
        "import matplotlib.pyplot as plt"
      ],
      "metadata": {
        "id": "kBH76ajNO1wp"
      },
      "execution_count": 81,
      "outputs": []
    },
    {
      "cell_type": "code",
      "source": [
        "data = pd.read_csv(\"train.csv\")\n",
        "data.head()"
      ],
      "metadata": {
        "colab": {
          "base_uri": "https://localhost:8080/",
          "height": 236
        },
        "id": "BDVC2aZqPwAs",
        "outputId": "7bc20058-4b34-424a-d64d-53942eae89bd"
      },
      "execution_count": 82,
      "outputs": [
        {
          "output_type": "execute_result",
          "data": {
            "text/plain": [
              "   label  pixel0  pixel1  pixel2  pixel3  pixel4  pixel5  pixel6  pixel7  \\\n",
              "0      1       0       0       0       0       0       0       0       0   \n",
              "1      0       0       0       0       0       0       0       0       0   \n",
              "2      1       0       0       0       0       0       0       0       0   \n",
              "3      4       0       0       0       0       0       0       0       0   \n",
              "4      0       0       0       0       0       0       0       0       0   \n",
              "\n",
              "   pixel8  ...  pixel774  pixel775  pixel776  pixel777  pixel778  pixel779  \\\n",
              "0       0  ...         0         0         0         0         0         0   \n",
              "1       0  ...         0         0         0         0         0         0   \n",
              "2       0  ...         0         0         0         0         0         0   \n",
              "3       0  ...         0         0         0         0         0         0   \n",
              "4       0  ...         0         0         0         0         0         0   \n",
              "\n",
              "   pixel780  pixel781  pixel782  pixel783  \n",
              "0         0         0         0         0  \n",
              "1         0         0         0         0  \n",
              "2         0         0         0         0  \n",
              "3         0         0         0         0  \n",
              "4         0         0         0         0  \n",
              "\n",
              "[5 rows x 785 columns]"
            ],
            "text/html": [
              "\n",
              "  <div id=\"df-8bd35210-368f-4e5d-b8ab-d7102e8164de\" class=\"colab-df-container\">\n",
              "    <div>\n",
              "<style scoped>\n",
              "    .dataframe tbody tr th:only-of-type {\n",
              "        vertical-align: middle;\n",
              "    }\n",
              "\n",
              "    .dataframe tbody tr th {\n",
              "        vertical-align: top;\n",
              "    }\n",
              "\n",
              "    .dataframe thead th {\n",
              "        text-align: right;\n",
              "    }\n",
              "</style>\n",
              "<table border=\"1\" class=\"dataframe\">\n",
              "  <thead>\n",
              "    <tr style=\"text-align: right;\">\n",
              "      <th></th>\n",
              "      <th>label</th>\n",
              "      <th>pixel0</th>\n",
              "      <th>pixel1</th>\n",
              "      <th>pixel2</th>\n",
              "      <th>pixel3</th>\n",
              "      <th>pixel4</th>\n",
              "      <th>pixel5</th>\n",
              "      <th>pixel6</th>\n",
              "      <th>pixel7</th>\n",
              "      <th>pixel8</th>\n",
              "      <th>...</th>\n",
              "      <th>pixel774</th>\n",
              "      <th>pixel775</th>\n",
              "      <th>pixel776</th>\n",
              "      <th>pixel777</th>\n",
              "      <th>pixel778</th>\n",
              "      <th>pixel779</th>\n",
              "      <th>pixel780</th>\n",
              "      <th>pixel781</th>\n",
              "      <th>pixel782</th>\n",
              "      <th>pixel783</th>\n",
              "    </tr>\n",
              "  </thead>\n",
              "  <tbody>\n",
              "    <tr>\n",
              "      <th>0</th>\n",
              "      <td>1</td>\n",
              "      <td>0</td>\n",
              "      <td>0</td>\n",
              "      <td>0</td>\n",
              "      <td>0</td>\n",
              "      <td>0</td>\n",
              "      <td>0</td>\n",
              "      <td>0</td>\n",
              "      <td>0</td>\n",
              "      <td>0</td>\n",
              "      <td>...</td>\n",
              "      <td>0</td>\n",
              "      <td>0</td>\n",
              "      <td>0</td>\n",
              "      <td>0</td>\n",
              "      <td>0</td>\n",
              "      <td>0</td>\n",
              "      <td>0</td>\n",
              "      <td>0</td>\n",
              "      <td>0</td>\n",
              "      <td>0</td>\n",
              "    </tr>\n",
              "    <tr>\n",
              "      <th>1</th>\n",
              "      <td>0</td>\n",
              "      <td>0</td>\n",
              "      <td>0</td>\n",
              "      <td>0</td>\n",
              "      <td>0</td>\n",
              "      <td>0</td>\n",
              "      <td>0</td>\n",
              "      <td>0</td>\n",
              "      <td>0</td>\n",
              "      <td>0</td>\n",
              "      <td>...</td>\n",
              "      <td>0</td>\n",
              "      <td>0</td>\n",
              "      <td>0</td>\n",
              "      <td>0</td>\n",
              "      <td>0</td>\n",
              "      <td>0</td>\n",
              "      <td>0</td>\n",
              "      <td>0</td>\n",
              "      <td>0</td>\n",
              "      <td>0</td>\n",
              "    </tr>\n",
              "    <tr>\n",
              "      <th>2</th>\n",
              "      <td>1</td>\n",
              "      <td>0</td>\n",
              "      <td>0</td>\n",
              "      <td>0</td>\n",
              "      <td>0</td>\n",
              "      <td>0</td>\n",
              "      <td>0</td>\n",
              "      <td>0</td>\n",
              "      <td>0</td>\n",
              "      <td>0</td>\n",
              "      <td>...</td>\n",
              "      <td>0</td>\n",
              "      <td>0</td>\n",
              "      <td>0</td>\n",
              "      <td>0</td>\n",
              "      <td>0</td>\n",
              "      <td>0</td>\n",
              "      <td>0</td>\n",
              "      <td>0</td>\n",
              "      <td>0</td>\n",
              "      <td>0</td>\n",
              "    </tr>\n",
              "    <tr>\n",
              "      <th>3</th>\n",
              "      <td>4</td>\n",
              "      <td>0</td>\n",
              "      <td>0</td>\n",
              "      <td>0</td>\n",
              "      <td>0</td>\n",
              "      <td>0</td>\n",
              "      <td>0</td>\n",
              "      <td>0</td>\n",
              "      <td>0</td>\n",
              "      <td>0</td>\n",
              "      <td>...</td>\n",
              "      <td>0</td>\n",
              "      <td>0</td>\n",
              "      <td>0</td>\n",
              "      <td>0</td>\n",
              "      <td>0</td>\n",
              "      <td>0</td>\n",
              "      <td>0</td>\n",
              "      <td>0</td>\n",
              "      <td>0</td>\n",
              "      <td>0</td>\n",
              "    </tr>\n",
              "    <tr>\n",
              "      <th>4</th>\n",
              "      <td>0</td>\n",
              "      <td>0</td>\n",
              "      <td>0</td>\n",
              "      <td>0</td>\n",
              "      <td>0</td>\n",
              "      <td>0</td>\n",
              "      <td>0</td>\n",
              "      <td>0</td>\n",
              "      <td>0</td>\n",
              "      <td>0</td>\n",
              "      <td>...</td>\n",
              "      <td>0</td>\n",
              "      <td>0</td>\n",
              "      <td>0</td>\n",
              "      <td>0</td>\n",
              "      <td>0</td>\n",
              "      <td>0</td>\n",
              "      <td>0</td>\n",
              "      <td>0</td>\n",
              "      <td>0</td>\n",
              "      <td>0</td>\n",
              "    </tr>\n",
              "  </tbody>\n",
              "</table>\n",
              "<p>5 rows × 785 columns</p>\n",
              "</div>\n",
              "    <div class=\"colab-df-buttons\">\n",
              "\n",
              "  <div class=\"colab-df-container\">\n",
              "    <button class=\"colab-df-convert\" onclick=\"convertToInteractive('df-8bd35210-368f-4e5d-b8ab-d7102e8164de')\"\n",
              "            title=\"Convert this dataframe to an interactive table.\"\n",
              "            style=\"display:none;\">\n",
              "\n",
              "  <svg xmlns=\"http://www.w3.org/2000/svg\" height=\"24px\" viewBox=\"0 -960 960 960\">\n",
              "    <path d=\"M120-120v-720h720v720H120Zm60-500h600v-160H180v160Zm220 220h160v-160H400v160Zm0 220h160v-160H400v160ZM180-400h160v-160H180v160Zm440 0h160v-160H620v160ZM180-180h160v-160H180v160Zm440 0h160v-160H620v160Z\"/>\n",
              "  </svg>\n",
              "    </button>\n",
              "\n",
              "  <style>\n",
              "    .colab-df-container {\n",
              "      display:flex;\n",
              "      gap: 12px;\n",
              "    }\n",
              "\n",
              "    .colab-df-convert {\n",
              "      background-color: #E8F0FE;\n",
              "      border: none;\n",
              "      border-radius: 50%;\n",
              "      cursor: pointer;\n",
              "      display: none;\n",
              "      fill: #1967D2;\n",
              "      height: 32px;\n",
              "      padding: 0 0 0 0;\n",
              "      width: 32px;\n",
              "    }\n",
              "\n",
              "    .colab-df-convert:hover {\n",
              "      background-color: #E2EBFA;\n",
              "      box-shadow: 0px 1px 2px rgba(60, 64, 67, 0.3), 0px 1px 3px 1px rgba(60, 64, 67, 0.15);\n",
              "      fill: #174EA6;\n",
              "    }\n",
              "\n",
              "    .colab-df-buttons div {\n",
              "      margin-bottom: 4px;\n",
              "    }\n",
              "\n",
              "    [theme=dark] .colab-df-convert {\n",
              "      background-color: #3B4455;\n",
              "      fill: #D2E3FC;\n",
              "    }\n",
              "\n",
              "    [theme=dark] .colab-df-convert:hover {\n",
              "      background-color: #434B5C;\n",
              "      box-shadow: 0px 1px 3px 1px rgba(0, 0, 0, 0.15);\n",
              "      filter: drop-shadow(0px 1px 2px rgba(0, 0, 0, 0.3));\n",
              "      fill: #FFFFFF;\n",
              "    }\n",
              "  </style>\n",
              "\n",
              "    <script>\n",
              "      const buttonEl =\n",
              "        document.querySelector('#df-8bd35210-368f-4e5d-b8ab-d7102e8164de button.colab-df-convert');\n",
              "      buttonEl.style.display =\n",
              "        google.colab.kernel.accessAllowed ? 'block' : 'none';\n",
              "\n",
              "      async function convertToInteractive(key) {\n",
              "        const element = document.querySelector('#df-8bd35210-368f-4e5d-b8ab-d7102e8164de');\n",
              "        const dataTable =\n",
              "          await google.colab.kernel.invokeFunction('convertToInteractive',\n",
              "                                                    [key], {});\n",
              "        if (!dataTable) return;\n",
              "\n",
              "        const docLinkHtml = 'Like what you see? Visit the ' +\n",
              "          '<a target=\"_blank\" href=https://colab.research.google.com/notebooks/data_table.ipynb>data table notebook</a>'\n",
              "          + ' to learn more about interactive tables.';\n",
              "        element.innerHTML = '';\n",
              "        dataTable['output_type'] = 'display_data';\n",
              "        await google.colab.output.renderOutput(dataTable, element);\n",
              "        const docLink = document.createElement('div');\n",
              "        docLink.innerHTML = docLinkHtml;\n",
              "        element.appendChild(docLink);\n",
              "      }\n",
              "    </script>\n",
              "  </div>\n",
              "\n",
              "\n",
              "<div id=\"df-27444adf-6fdb-43ed-a8ac-983282c293a4\">\n",
              "  <button class=\"colab-df-quickchart\" onclick=\"quickchart('df-27444adf-6fdb-43ed-a8ac-983282c293a4')\"\n",
              "            title=\"Suggest charts\"\n",
              "            style=\"display:none;\">\n",
              "\n",
              "<svg xmlns=\"http://www.w3.org/2000/svg\" height=\"24px\"viewBox=\"0 0 24 24\"\n",
              "     width=\"24px\">\n",
              "    <g>\n",
              "        <path d=\"M19 3H5c-1.1 0-2 .9-2 2v14c0 1.1.9 2 2 2h14c1.1 0 2-.9 2-2V5c0-1.1-.9-2-2-2zM9 17H7v-7h2v7zm4 0h-2V7h2v10zm4 0h-2v-4h2v4z\"/>\n",
              "    </g>\n",
              "</svg>\n",
              "  </button>\n",
              "\n",
              "<style>\n",
              "  .colab-df-quickchart {\n",
              "      --bg-color: #E8F0FE;\n",
              "      --fill-color: #1967D2;\n",
              "      --hover-bg-color: #E2EBFA;\n",
              "      --hover-fill-color: #174EA6;\n",
              "      --disabled-fill-color: #AAA;\n",
              "      --disabled-bg-color: #DDD;\n",
              "  }\n",
              "\n",
              "  [theme=dark] .colab-df-quickchart {\n",
              "      --bg-color: #3B4455;\n",
              "      --fill-color: #D2E3FC;\n",
              "      --hover-bg-color: #434B5C;\n",
              "      --hover-fill-color: #FFFFFF;\n",
              "      --disabled-bg-color: #3B4455;\n",
              "      --disabled-fill-color: #666;\n",
              "  }\n",
              "\n",
              "  .colab-df-quickchart {\n",
              "    background-color: var(--bg-color);\n",
              "    border: none;\n",
              "    border-radius: 50%;\n",
              "    cursor: pointer;\n",
              "    display: none;\n",
              "    fill: var(--fill-color);\n",
              "    height: 32px;\n",
              "    padding: 0;\n",
              "    width: 32px;\n",
              "  }\n",
              "\n",
              "  .colab-df-quickchart:hover {\n",
              "    background-color: var(--hover-bg-color);\n",
              "    box-shadow: 0 1px 2px rgba(60, 64, 67, 0.3), 0 1px 3px 1px rgba(60, 64, 67, 0.15);\n",
              "    fill: var(--button-hover-fill-color);\n",
              "  }\n",
              "\n",
              "  .colab-df-quickchart-complete:disabled,\n",
              "  .colab-df-quickchart-complete:disabled:hover {\n",
              "    background-color: var(--disabled-bg-color);\n",
              "    fill: var(--disabled-fill-color);\n",
              "    box-shadow: none;\n",
              "  }\n",
              "\n",
              "  .colab-df-spinner {\n",
              "    border: 2px solid var(--fill-color);\n",
              "    border-color: transparent;\n",
              "    border-bottom-color: var(--fill-color);\n",
              "    animation:\n",
              "      spin 1s steps(1) infinite;\n",
              "  }\n",
              "\n",
              "  @keyframes spin {\n",
              "    0% {\n",
              "      border-color: transparent;\n",
              "      border-bottom-color: var(--fill-color);\n",
              "      border-left-color: var(--fill-color);\n",
              "    }\n",
              "    20% {\n",
              "      border-color: transparent;\n",
              "      border-left-color: var(--fill-color);\n",
              "      border-top-color: var(--fill-color);\n",
              "    }\n",
              "    30% {\n",
              "      border-color: transparent;\n",
              "      border-left-color: var(--fill-color);\n",
              "      border-top-color: var(--fill-color);\n",
              "      border-right-color: var(--fill-color);\n",
              "    }\n",
              "    40% {\n",
              "      border-color: transparent;\n",
              "      border-right-color: var(--fill-color);\n",
              "      border-top-color: var(--fill-color);\n",
              "    }\n",
              "    60% {\n",
              "      border-color: transparent;\n",
              "      border-right-color: var(--fill-color);\n",
              "    }\n",
              "    80% {\n",
              "      border-color: transparent;\n",
              "      border-right-color: var(--fill-color);\n",
              "      border-bottom-color: var(--fill-color);\n",
              "    }\n",
              "    90% {\n",
              "      border-color: transparent;\n",
              "      border-bottom-color: var(--fill-color);\n",
              "    }\n",
              "  }\n",
              "</style>\n",
              "\n",
              "  <script>\n",
              "    async function quickchart(key) {\n",
              "      const quickchartButtonEl =\n",
              "        document.querySelector('#' + key + ' button');\n",
              "      quickchartButtonEl.disabled = true;  // To prevent multiple clicks.\n",
              "      quickchartButtonEl.classList.add('colab-df-spinner');\n",
              "      try {\n",
              "        const charts = await google.colab.kernel.invokeFunction(\n",
              "            'suggestCharts', [key], {});\n",
              "      } catch (error) {\n",
              "        console.error('Error during call to suggestCharts:', error);\n",
              "      }\n",
              "      quickchartButtonEl.classList.remove('colab-df-spinner');\n",
              "      quickchartButtonEl.classList.add('colab-df-quickchart-complete');\n",
              "    }\n",
              "    (() => {\n",
              "      let quickchartButtonEl =\n",
              "        document.querySelector('#df-27444adf-6fdb-43ed-a8ac-983282c293a4 button');\n",
              "      quickchartButtonEl.style.display =\n",
              "        google.colab.kernel.accessAllowed ? 'block' : 'none';\n",
              "    })();\n",
              "  </script>\n",
              "</div>\n",
              "\n",
              "    </div>\n",
              "  </div>\n"
            ],
            "application/vnd.google.colaboratory.intrinsic+json": {
              "type": "dataframe",
              "variable_name": "data"
            }
          },
          "metadata": {},
          "execution_count": 82
        }
      ]
    },
    {
      "cell_type": "code",
      "source": [
        "data.shape"
      ],
      "metadata": {
        "colab": {
          "base_uri": "https://localhost:8080/"
        },
        "id": "p6SheZgyRDEU",
        "outputId": "d1bfc64d-2ff5-4035-8ea8-9782d2a5d604"
      },
      "execution_count": 83,
      "outputs": [
        {
          "output_type": "execute_result",
          "data": {
            "text/plain": [
              "(42000, 785)"
            ]
          },
          "metadata": {},
          "execution_count": 83
        }
      ]
    },
    {
      "cell_type": "code",
      "source": [
        "data = np.array(data)\n",
        "data.shape"
      ],
      "metadata": {
        "colab": {
          "base_uri": "https://localhost:8080/"
        },
        "id": "bv-IGCSLS48y",
        "outputId": "89f60cea-ec54-4260-8c20-2ce389358814"
      },
      "execution_count": 84,
      "outputs": [
        {
          "output_type": "execute_result",
          "data": {
            "text/plain": [
              "(42000, 785)"
            ]
          },
          "metadata": {},
          "execution_count": 84
        }
      ]
    },
    {
      "cell_type": "code",
      "source": [
        "# split the data\n",
        "np.random.shuffle(data)\n",
        "\n",
        "m, n = data.shape\n",
        "\n",
        "X, y = data[:, 1:], data[:, 0]\n",
        "\n",
        "X_hold = X[:1000].T\n",
        "X_hold = X_hold / 255.\n",
        "y_hold = y[:1000]\n",
        "\n",
        "X_train = X[1000:].T\n",
        "X_train = X_train / 255.\n",
        "y_train = y[1000:]\n",
        "\n",
        "X_train.shape, y_train.shape, X_hold.shape, y_hold.shape"
      ],
      "metadata": {
        "colab": {
          "base_uri": "https://localhost:8080/"
        },
        "id": "ZY0FHuW-S9s5",
        "outputId": "7f97458b-62ba-4a7e-a5f4-d5fa1ff01c37"
      },
      "execution_count": 85,
      "outputs": [
        {
          "output_type": "execute_result",
          "data": {
            "text/plain": [
              "((784, 41000), (41000,), (784, 1000), (1000,))"
            ]
          },
          "metadata": {},
          "execution_count": 85
        }
      ]
    },
    {
      "cell_type": "code",
      "source": [
        "plt.axis(\"off\")\n",
        "plt.imshow(X_train[:, 0].reshape((28, 28)), cmap=\"gray\");"
      ],
      "metadata": {
        "colab": {
          "base_uri": "https://localhost:8080/",
          "height": 406
        },
        "id": "DdhdjvFPTLBa",
        "outputId": "b01d7fa7-3012-48ed-e6ee-b5467cb3c350"
      },
      "execution_count": 86,
      "outputs": [
        {
          "output_type": "display_data",
          "data": {
            "text/plain": [
              "<Figure size 640x480 with 1 Axes>"
            ],
            "image/png": "[encoded data removed]"
          },
          "metadata": {}
        }
      ]
    },
    {
      "cell_type": "code",
      "source": [
        "def init_params():\n",
        "  W1 = np.random.rand(10, 784) - 0.5\n",
        "  b1 = np.random.rand(10, 1) - 0.5\n",
        "  W2 = np.random.rand(8, 10) - 0.5\n",
        "  b2 = np.random.rand(8, 1) - 0.5\n",
        "  W3 = np.random.rand(10, 8) - 0.5\n",
        "  b3 = np.random.rand(10, 1) - 0.5\n",
        "\n",
        "  return W1, b1, W2, b2, W3, b3\n",
        "\n",
        "def ReLU(Z):\n",
        "  return np.maximum(Z, 0)\n",
        "\n",
        "def softmax(Z):\n",
        "  A = np.exp(Z) / sum(np.exp(Z))\n",
        "  return A\n",
        "\n",
        "def forward_prop(W1, b1, W2, b2, W3, b3, X):\n",
        "  Z1 = W1.dot(X) + b1\n",
        "  A1 = ReLU(Z1)\n",
        "  Z2 = W2.dot(A1) + b2\n",
        "  A2 = ReLU(Z2)\n",
        "  Z3 = W3.dot(A2) + b3\n",
        "  A3 = softmax(Z3)\n",
        "\n",
        "  return Z1, A1, Z2, A2, Z3, A3\n",
        "\n",
        "def one_hot_encoder(y):\n",
        "  Y = np.zeros((y.size, y.max() + 1))\n",
        "  Y[np.arange(y.size), y] = 1\n",
        "\n",
        "  return Y.T\n",
        "\n",
        "def derivative_relu(Z):\n",
        "  return Z > 0\n",
        "\n",
        "def backward_prop(Z1, A1, Z2, A2, Z3, A3, W3, W2, X, y):\n",
        "  Y = one_hot_encoder(y)\n",
        "  dZ3 = A3 - Y\n",
        "  dW3 = 1 / m * dZ3.dot(A2.T)\n",
        "  db3 = 1 / m * np.sum(dZ3)\n",
        "\n",
        "  dZ2 = derivative_relu(Z2) * W3.T.dot(dZ3)\n",
        "  dW2 = 1 / m * dZ2.dot(A1.T)\n",
        "  db2 = 1 / m * np.sum(dZ2)\n",
        "\n",
        "  dZ1 = derivative_relu(Z1) * W2.T.dot(dZ2)\n",
        "  dW1 = 1 / m * dZ1.dot(X.T)\n",
        "  db1 = 1 / m * np.sum(dZ1)\n",
        "\n",
        "  return dW1, db1, dW2, db2, dW3, db3\n",
        "\n",
        "\n",
        "def apply_gradient(W1, b1, W2, b2, W3, b3, dW1, db1, dW2, db2, dW3, db3, alpha):\n",
        "  W1 = W1 - alpha * dW1\n",
        "  b1 = b1 - alpha * db1\n",
        "  W2 = W2 - alpha * dW2\n",
        "  b2 = b2 - alpha * db2\n",
        "  W3 = W3 - alpha * dW3\n",
        "  b3 = b3 - alpha * db3\n",
        "\n",
        "  return W1, b1, W2, b2, W3, b3\n",
        "\n",
        "def predict(A):\n",
        "  return np.argmax(A, 0)\n",
        "\n",
        "def get_accuracy(pred, y):\n",
        "  print(pred, y)\n",
        "  return np.sum(pred == y) / y.size\n",
        "\n",
        "def gradient_descent(X, y, iterations=500, alpha=0.1):\n",
        "  W1, b1, W2, b2, W3, b3 = init_params()\n",
        "\n",
        "  for i in range(iterations):\n",
        "    Z1, A1, Z2, A2, Z3, A3 = forward_prop(W1, b1, W2, b2, W3, b3, X)\n",
        "    dW1, db1, dW2, db2, dW3, db3 = backward_prop(Z1, A1, Z2, A2, Z3,\n",
        "                                                 A3, W3, W2, X, y)\n",
        "    W1, b1, W2, b2, W3, b3 = apply_gradient(W1, b1, W2, b2, W3, b3, dW1, db1,\n",
        "                                            dW2, db2, dW3, db3, alpha)\n",
        "\n",
        "    if i % 10 == 0:\n",
        "      pred = predict(A3)\n",
        "      print(f\"Iteration {i} with accuracy {get_accuracy(pred, y)}\")\n",
        "\n",
        "  return W1, b1, W2, b2, W3, b3\n",
        "\n",
        "\n",
        "W1, b1, W2, b2, W3, b3 = gradient_descent(X_train, y_train)"
      ],
      "metadata": {
        "id": "aST7u8IG9oE3",
        "colab": {
          "base_uri": "https://localhost:8080/"
        },
        "outputId": "dce0ba51-acd6-460d-8a55-3923b6c25fd3"
      },
      "execution_count": 99,
      "outputs": [
        {
          "output_type": "stream",
          "name": "stdout",
          "text": [
            "[5 5 0 ... 5 9 5] [1 1 3 ... 7 7 4]\n",
            "Iteration 0 with accuracy 0.086\n",
            "[5 5 5 ... 4 9 0] [1 1 3 ... 7 7 4]\n",
            "Iteration 10 with accuracy 0.1664878048780488\n",
            "[5 5 5 ... 4 9 1] [1 1 3 ... 7 7 4]\n",
            "Iteration 20 with accuracy 0.20924390243902438\n",
            "[6 1 5 ... 4 9 6] [1 1 3 ... 7 7 4]\n",
            "Iteration 30 with accuracy 0.25226829268292683\n",
            "[6 1 3 ... 4 9 6] [1 1 3 ... 7 7 4]\n",
            "Iteration 40 with accuracy 0.3064390243902439\n",
            "[1 1 3 ... 4 9 8] [1 1 3 ... 7 7 4]\n",
            "Iteration 50 with accuracy 0.3717560975609756\n",
            "[1 1 3 ... 4 9 8] [1 1 3 ... 7 7 4]\n",
            "Iteration 60 with accuracy 0.4444878048780488\n",
            "[1 1 3 ... 7 9 8] [1 1 3 ... 7 7 4]\n",
            "Iteration 70 with accuracy 0.49402439024390243\n",
            "[1 1 3 ... 7 9 8] [1 1 3 ... 7 7 4]\n",
            "Iteration 80 with accuracy 0.5336585365853659\n",
            "[1 1 3 ... 7 9 8] [1 1 3 ... 7 7 4]\n",
            "Iteration 90 with accuracy 0.5658048780487804\n",
            "[1 1 3 ... 7 9 8] [1 1 3 ... 7 7 4]\n",
            "Iteration 100 with accuracy 0.5894146341463414\n",
            "[1 1 3 ... 7 9 8] [1 1 3 ... 7 7 4]\n",
            "Iteration 110 with accuracy 0.6098780487804878\n",
            "[1 1 3 ... 7 9 9] [1 1 3 ... 7 7 4]\n",
            "Iteration 120 with accuracy 0.6282439024390244\n",
            "[1 1 3 ... 7 9 9] [1 1 3 ... 7 7 4]\n",
            "Iteration 130 with accuracy 0.6446341463414634\n",
            "[1 1 3 ... 7 9 9] [1 1 3 ... 7 7 4]\n",
            "Iteration 140 with accuracy 0.6597073170731708\n",
            "[1 1 3 ... 7 9 9] [1 1 3 ... 7 7 4]\n",
            "Iteration 150 with accuracy 0.6725853658536586\n",
            "[1 1 3 ... 7 9 9] [1 1 3 ... 7 7 4]\n",
            "Iteration 160 with accuracy 0.6843170731707318\n",
            "[1 1 3 ... 7 9 4] [1 1 3 ... 7 7 4]\n",
            "Iteration 170 with accuracy 0.6941219512195121\n",
            "[1 1 3 ... 7 9 4] [1 1 3 ... 7 7 4]\n",
            "Iteration 180 with accuracy 0.7041951219512195\n",
            "[1 1 3 ... 7 9 4] [1 1 3 ... 7 7 4]\n",
            "Iteration 190 with accuracy 0.7131463414634146\n",
            "[1 1 3 ... 7 9 4] [1 1 3 ... 7 7 4]\n",
            "Iteration 200 with accuracy 0.721609756097561\n",
            "[1 1 3 ... 7 9 4] [1 1 3 ... 7 7 4]\n",
            "Iteration 210 with accuracy 0.7278780487804878\n",
            "[1 1 3 ... 7 9 4] [1 1 3 ... 7 7 4]\n",
            "Iteration 220 with accuracy 0.7362926829268293\n",
            "[1 1 3 ... 7 9 4] [1 1 3 ... 7 7 4]\n",
            "Iteration 230 with accuracy 0.7429268292682927\n",
            "[1 1 3 ... 7 9 4] [1 1 3 ... 7 7 4]\n",
            "Iteration 240 with accuracy 0.749219512195122\n",
            "[1 1 3 ... 7 9 4] [1 1 3 ... 7 7 4]\n",
            "Iteration 250 with accuracy 0.7553170731707317\n",
            "[1 1 3 ... 7 9 4] [1 1 3 ... 7 7 4]\n",
            "Iteration 260 with accuracy 0.7617560975609756\n",
            "[1 1 3 ... 7 9 4] [1 1 3 ... 7 7 4]\n",
            "Iteration 270 with accuracy 0.7665121951219512\n",
            "[1 1 3 ... 7 9 4] [1 1 3 ... 7 7 4]\n",
            "Iteration 280 with accuracy 0.7720975609756098\n",
            "[1 1 3 ... 7 9 4] [1 1 3 ... 7 7 4]\n",
            "Iteration 290 with accuracy 0.7756585365853659\n",
            "[1 1 3 ... 7 9 4] [1 1 3 ... 7 7 4]\n",
            "Iteration 300 with accuracy 0.7798048780487805\n",
            "[1 1 3 ... 7 9 4] [1 1 3 ... 7 7 4]\n",
            "Iteration 310 with accuracy 0.78\n",
            "[1 1 3 ... 7 7 4] [1 1 3 ... 7 7 4]\n",
            "Iteration 320 with accuracy 0.7656829268292683\n",
            "[1 1 3 ... 7 9 4] [1 1 3 ... 7 7 4]\n",
            "Iteration 330 with accuracy 0.7842439024390244\n",
            "[1 1 3 ... 7 7 4] [1 1 3 ... 7 7 4]\n",
            "Iteration 340 with accuracy 0.7920487804878049\n",
            "[1 1 3 ... 7 7 4] [1 1 3 ... 7 7 4]\n",
            "Iteration 350 with accuracy 0.795609756097561\n",
            "[1 1 3 ... 7 7 4] [1 1 3 ... 7 7 4]\n",
            "Iteration 360 with accuracy 0.797829268292683\n",
            "[1 1 3 ... 7 7 4] [1 1 3 ... 7 7 4]\n",
            "Iteration 370 with accuracy 0.7985609756097561\n",
            "[1 1 3 ... 7 7 4] [1 1 3 ... 7 7 4]\n",
            "Iteration 380 with accuracy 0.7994878048780488\n",
            "[1 1 3 ... 7 7 4] [1 1 3 ... 7 7 4]\n",
            "Iteration 390 with accuracy 0.8027804878048781\n",
            "[1 1 3 ... 7 7 4] [1 1 3 ... 7 7 4]\n",
            "Iteration 400 with accuracy 0.8074146341463415\n",
            "[1 1 3 ... 7 7 4] [1 1 3 ... 7 7 4]\n",
            "Iteration 410 with accuracy 0.8111219512195122\n",
            "[1 1 3 ... 7 7 4] [1 1 3 ... 7 7 4]\n",
            "Iteration 420 with accuracy 0.8136097560975609\n",
            "[1 1 3 ... 7 7 4] [1 1 3 ... 7 7 4]\n",
            "Iteration 430 with accuracy 0.8152439024390243\n",
            "[1 1 3 ... 7 7 4] [1 1 3 ... 7 7 4]\n",
            "Iteration 440 with accuracy 0.817\n",
            "[1 1 3 ... 7 7 4] [1 1 3 ... 7 7 4]\n",
            "Iteration 450 with accuracy 0.8192926829268292\n",
            "[1 1 3 ... 7 7 4] [1 1 3 ... 7 7 4]\n",
            "Iteration 460 with accuracy 0.8222195121951219\n",
            "[1 1 3 ... 7 7 4] [1 1 3 ... 7 7 4]\n",
            "Iteration 470 with accuracy 0.8244878048780487\n",
            "[1 1 3 ... 7 7 4] [1 1 3 ... 7 7 4]\n",
            "Iteration 480 with accuracy 0.8263414634146341\n",
            "[1 1 3 ... 7 7 4] [1 1 3 ... 7 7 4]\n",
            "Iteration 490 with accuracy 0.8273414634146341\n"
          ]
        }
      ]
    },
    {
      "cell_type": "code",
      "source": [
        "def make_predictions(X, W1, b1, W2, b2, W3, b3):\n",
        "    _, _, _, _, _, A3 = forward_prop(W1, b1, W2, b2, W3, b3, X)\n",
        "    predictions = predict(A3)\n",
        "    return predictions\n",
        "\n",
        "def test_prediction(index, W1, b1, W2, b2, W3, b3):\n",
        "    current_image = X_hold[:, index, None]\n",
        "    prediction = make_predictions(current_image, W1, b1, W2, b2, W3, b3)\n",
        "    label = y_hold[index]\n",
        "    print(\"Prediction: \", prediction)\n",
        "    print(\"Label: \", label)\n",
        "\n",
        "    current_image = current_image.reshape((28, 28))\n",
        "    plt.gray()\n",
        "    plt.imshow(current_image, interpolation='nearest')\n",
        "    plt.show()"
      ],
      "metadata": {
        "id": "gXi7BZbZhkKb"
      },
      "execution_count": 108,
      "outputs": []
    },
    {
      "cell_type": "code",
      "source": [
        "for i in range(9):\n",
        "  test_prediction(i, W1, b1, W2, b2, W3, b3)"
      ],
      "metadata": {
        "colab": {
          "base_uri": "https://localhost:8080/",
          "height": 1000
        },
        "id": "ksWKoDQEm7Ic",
        "outputId": "ff875ece-b8e4-4d93-9239-66a9f671717d"
      },
      "execution_count": 109,
      "outputs": [
        {
          "output_type": "stream",
          "name": "stdout",
          "text": [
            "Prediction:  [1]\n",
            "Label:  1\n"
          ]
        },
        {
          "output_type": "display_data",
          "data": {
            "text/plain": [
              "<Figure size 640x480 with 1 Axes>"
            ],
            "image/png": "[encoded data removed]"
          },
          "metadata": {}
        },
        {
          "output_type": "stream",
          "name": "stdout",
          "text": [
            "Prediction:  [1]\n",
            "Label:  1\n"
          ]
        },
        {
          "output_type": "display_data",
          "data": {
            "text/plain": [
              "<Figure size 640x480 with 1 Axes>"
            ],
            "image/png": "[encoded data removed]"
          },
          "metadata": {}
        },
        {
          "output_type": "stream",
          "name": "stdout",
          "text": [
            "Prediction:  [3]\n",
            "Label:  3\n"
          ]
        },
        {
          "output_type": "display_data",
          "data": {
            "text/plain": [
              "<Figure size 640x480 with 1 Axes>"
            ],
            "image/png": "[encoded data removed]"
          },
          "metadata": {}
        },
        {
          "output_type": "stream",
          "name": "stdout",
          "text": [
            "Prediction:  [4]\n",
            "Label:  5\n"
          ]
        },
        {
          "output_type": "display_data",
          "data": {
            "text/plain": [
              "<Figure size 640x480 with 1 Axes>"
            ],
            "image/png": "[encoded data removed]"
          },
          "metadata": {}
        },
        {
          "output_type": "stream",
          "name": "stdout",
          "text": [
            "Prediction:  [5]\n",
            "Label:  5\n"
          ]
        },
        {
          "output_type": "display_data",
          "data": {
            "text/plain": [
              "<Figure size 640x480 with 1 Axes>"
            ],
            "image/png": "[encoded data removed]"
          },
          "metadata": {}
        },
        {
          "output_type": "stream",
          "name": "stdout",
          "text": [
            "Prediction:  [9]\n",
            "Label:  9\n"
          ]
        },
        {
          "output_type": "display_data",
          "data": {
            "text/plain": [
              "<Figure size 640x480 with 1 Axes>"
            ],
            "image/png": "[encoded data removed]"
          },
          "metadata": {}
        },
        {
          "output_type": "stream",
          "name": "stdout",
          "text": [
            "Prediction:  [0]\n",
            "Label:  0\n"
          ]
        },
        {
          "output_type": "display_data",
          "data": {
            "text/plain": [
              "<Figure size 640x480 with 1 Axes>"
            ],
            "image/png": "[encoded data removed]"
          },
          "metadata": {}
        },
        {
          "output_type": "stream",
          "name": "stdout",
          "text": [
            "Prediction:  [5]\n",
            "Label:  5\n"
          ]
        },
        {
          "output_type": "display_data",
          "data": {
            "text/plain": [
              "<Figure size 640x480 with 1 Axes>"
            ],
            "image/png": "[encoded data removed]"
          },
          "metadata": {}
        },
        {
          "output_type": "stream",
          "name": "stdout",
          "text": [
            "Prediction:  [3]\n",
            "Label:  3\n"
          ]
        },
        {
          "output_type": "display_data",
          "data": {
            "text/plain": [
              "<Figure size 640x480 with 1 Axes>"
            ],
            "image/png": "[encoded data removed]"
          },
          "metadata": {}
        }
      ]
    },
    {
      "cell_type": "code",
      "source": [],
      "metadata": {
        "id": "42cqKqweng7l"
      },
      "execution_count": null,
      "outputs": []
    }
  ]
}